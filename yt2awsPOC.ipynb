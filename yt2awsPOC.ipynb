{
 "cells": [
  {
   "cell_type": "markdown",
   "id": "impressive-repository",
   "metadata": {},
   "source": [
    "### Install python modules\n",
    "Install on SageMaker the necesary modules for this notebook to work"
   ]
  },
  {
   "cell_type": "code",
   "execution_count": 1,
   "id": "personalized-rebecca",
   "metadata": {},
   "outputs": [
    {
     "name": "stdout",
     "output_type": "stream",
     "text": [
      "Requirement already satisfied: pip in /home/ec2-user/anaconda3/envs/python3/lib/python3.6/site-packages (21.0.1)\n",
      "Collecting pytube\n",
      "  Downloading pytube-10.5.1-py3-none-any.whl (41 kB)\n",
      "\u001b[K     |████████████████████████████████| 41 kB 786 kB/s  eta 0:00:01\n",
      "\u001b[?25hCollecting typing-extensions\n",
      "  Downloading typing_extensions-3.7.4.3-py3-none-any.whl (22 kB)\n",
      "Installing collected packages: typing-extensions, pytube\n",
      "Successfully installed pytube-10.5.1 typing-extensions-3.7.4.3\n",
      "Requirement already satisfied: seaborn in /home/ec2-user/anaconda3/envs/python3/lib/python3.6/site-packages (0.10.0)\n",
      "Requirement already satisfied: scipy>=1.0.1 in /home/ec2-user/anaconda3/envs/python3/lib/python3.6/site-packages (from seaborn) (1.4.1)\n",
      "Requirement already satisfied: numpy>=1.13.3 in /home/ec2-user/anaconda3/envs/python3/lib/python3.6/site-packages (from seaborn) (1.19.5)\n",
      "Requirement already satisfied: matplotlib>=2.1.2 in /home/ec2-user/anaconda3/envs/python3/lib/python3.6/site-packages (from seaborn) (3.1.3)\n",
      "Requirement already satisfied: pandas>=0.22.0 in /home/ec2-user/anaconda3/envs/python3/lib/python3.6/site-packages (from seaborn) (1.0.1)\n",
      "Requirement already satisfied: python-dateutil>=2.1 in /home/ec2-user/anaconda3/envs/python3/lib/python3.6/site-packages (from matplotlib>=2.1.2->seaborn) (2.8.1)\n",
      "Requirement already satisfied: pyparsing!=2.0.4,!=2.1.2,!=2.1.6,>=2.0.1 in /home/ec2-user/anaconda3/envs/python3/lib/python3.6/site-packages (from matplotlib>=2.1.2->seaborn) (2.4.6)\n",
      "Requirement already satisfied: kiwisolver>=1.0.1 in /home/ec2-user/anaconda3/envs/python3/lib/python3.6/site-packages (from matplotlib>=2.1.2->seaborn) (1.1.0)\n",
      "Requirement already satisfied: cycler>=0.10 in /home/ec2-user/anaconda3/envs/python3/lib/python3.6/site-packages (from matplotlib>=2.1.2->seaborn) (0.10.0)\n",
      "Requirement already satisfied: six in /home/ec2-user/anaconda3/envs/python3/lib/python3.6/site-packages (from cycler>=0.10->matplotlib>=2.1.2->seaborn) (1.14.0)\n",
      "Requirement already satisfied: setuptools in /home/ec2-user/anaconda3/envs/python3/lib/python3.6/site-packages (from kiwisolver>=1.0.1->matplotlib>=2.1.2->seaborn) (53.0.0)\n",
      "Requirement already satisfied: pytz>=2017.2 in /home/ec2-user/anaconda3/envs/python3/lib/python3.6/site-packages (from pandas>=0.22.0->seaborn) (2019.3)\n",
      "Collecting smart_open\n",
      "  Downloading smart_open-4.2.0.tar.gz (119 kB)\n",
      "\u001b[K     |████████████████████████████████| 119 kB 25.4 MB/s eta 0:00:01\n",
      "\u001b[?25hBuilding wheels for collected packages: smart-open\n",
      "  Building wheel for smart-open (setup.py) ... \u001b[?25ldone\n",
      "\u001b[?25h  Created wheel for smart-open: filename=smart_open-4.2.0-py3-none-any.whl size=109630 sha256=de7e13f320d5882b9638097c7061e2ddced2513baa29820169a8431d77d04867\n",
      "  Stored in directory: /home/ec2-user/.cache/pip/wheels/05/12/87/d479d6a8f92130cd8b27e331cc433bb28dda9c20e57f0b1ab2\n",
      "Successfully built smart-open\n",
      "Installing collected packages: smart-open\n",
      "Successfully installed smart-open-4.2.0\n",
      "Collecting Unidecode\n",
      "  Downloading Unidecode-1.2.0-py2.py3-none-any.whl (241 kB)\n",
      "\u001b[K     |████████████████████████████████| 241 kB 26.3 MB/s eta 0:00:01\n",
      "\u001b[?25hInstalling collected packages: Unidecode\n",
      "Successfully installed Unidecode-1.2.0\n",
      "Collecting python-Levenshtein\n",
      "  Downloading python-Levenshtein-0.12.2.tar.gz (50 kB)\n",
      "\u001b[K     |████████████████████████████████| 50 kB 7.1 MB/s  eta 0:00:01\n",
      "\u001b[?25hRequirement already satisfied: setuptools in /home/ec2-user/anaconda3/envs/python3/lib/python3.6/site-packages (from python-Levenshtein) (53.0.0)\n",
      "Building wheels for collected packages: python-Levenshtein\n",
      "  Building wheel for python-Levenshtein (setup.py) ... \u001b[?25ldone\n",
      "\u001b[?25h  Created wheel for python-Levenshtein: filename=python_Levenshtein-0.12.2-cp36-cp36m-linux_x86_64.whl size=155943 sha256=e511d9c09f07bf620026e50d8fe5f86780ebab96614d55419fe5be607dc7ffc6\n",
      "  Stored in directory: /home/ec2-user/.cache/pip/wheels/4a/a4/bf/d761b0899395c75fa76d003d607b3869ee47f5035b8afc30a2\n",
      "Successfully built python-Levenshtein\n",
      "Installing collected packages: python-Levenshtein\n",
      "Successfully installed python-Levenshtein-0.12.2\n"
     ]
    }
   ],
   "source": [
    "!/home/ec2-user/anaconda3/envs/python3/bin/python -m pip install --upgrade pip\n",
    "!pip install pytube\n",
    "!pip install seaborn\n",
    "!pip install smart_open\n",
    "!pip install Unidecode\n",
    "!pip install python-Levenshtein"
   ]
  },
  {
   "cell_type": "markdown",
   "id": "legal-chassis",
   "metadata": {},
   "source": [
    "### Import modules"
   ]
  },
  {
   "cell_type": "code",
   "execution_count": 171,
   "id": "statistical-discovery",
   "metadata": {},
   "outputs": [
    {
     "name": "stdout",
     "output_type": "stream",
     "text": [
      "Import done correctly!\n"
     ]
    }
   ],
   "source": [
    "import pandas as pd\n",
    "#from adaptors import youtube2df, aws2df, upload_yt_file, get_folder_list, vocabulary_shuffle, \n",
    "import matplotlib.pyplot as plt\n",
    "import seaborn as sns\n",
    "from adaptors import *\n",
    "from pytube import YouTube\n",
    "import boto3\n",
    "from botocore.exceptions import ClientError\n",
    "import sys, os\n",
    "import numpy as np\n",
    "import Levenshtein as lv\n",
    "\n",
    "print('Import done correctly!')"
   ]
  },
  {
   "cell_type": "markdown",
   "id": "collectible-cross",
   "metadata": {},
   "source": [
    "Define a YouTube video URL"
   ]
  },
  {
   "cell_type": "code",
   "execution_count": 2,
   "id": "specialized-banner",
   "metadata": {},
   "outputs": [
    {
     "name": "stdout",
     "output_type": "stream",
     "text": [
      "<pytube.__main__.YouTube object at 0x7f92cc2675c0>\n"
     ]
    }
   ],
   "source": [
    "url = 'https://youtu.be/eEOhx-u9Z2k'\n",
    "#url = 'https://youtu.be/Mxv9AM397Y8'\n",
    "\n",
    "# Get video object\n",
    "yt = YouTube(url)\n",
    "print(yt)"
   ]
  },
  {
   "cell_type": "markdown",
   "id": "premier-mandate",
   "metadata": {},
   "source": [
    "### Download videos from Youtube\n",
    "We'll download videos from youtube, save them into an S3 bucket that triggers a transcribe job (with or without IPA vocabulary)"
   ]
  },
  {
   "cell_type": "code",
   "execution_count": null,
   "id": "twenty-cement",
   "metadata": {},
   "outputs": [],
   "source": [
    "# Get the tittle and replace spaces with underscore\n",
    "yt_title = yt.title.replace(' ', '_')\n",
    "    \n",
    "# Download the video to tmp folder and save the output name to file_name\n",
    "file_name = yt.streams.first().download(output_path=\"/tmp\" ,filename=yt_title)\n"
   ]
  },
  {
   "cell_type": "code",
   "execution_count": null,
   "id": "mathematical-chester",
   "metadata": {},
   "outputs": [],
   "source": [
    "# Returns True if file was uploaded, else False\n",
    "upload_yt_file(file_name)"
   ]
  },
  {
   "cell_type": "markdown",
   "id": "passing-syracuse",
   "metadata": {},
   "source": [
    "### Download captions from the YouTube video\n",
    "From the said YouTube video we'll get the 'a.es' caption if exist "
   ]
  },
  {
   "cell_type": "code",
   "execution_count": null,
   "id": "painted-network",
   "metadata": {},
   "outputs": [],
   "source": [
    "if yt.captions.get_by_language_code('es-419'):\n",
    "    code = 'es-419'\n",
    "    caption = yt.captions.get_by_language_code('es-419')\n",
    "    yt_caption = caption.generate_srt_captions()\n",
    "    yt_title = yt.title.replace(' ', '_')\n",
    "    with open(f'/tmp/{yt_title}_{code}.txt', 'a') as f:\n",
    "        f.write(yt_caption)\n",
    "else:\n",
    "    print('This caption doesn\\'t exist')\n",
    "    print('You can use one of the following captions: \\n', yt.captions.all())"
   ]
  },
  {
   "cell_type": "markdown",
   "id": "infrared-variable",
   "metadata": {},
   "source": [
    "### Upload the caption to S3"
   ]
  },
  {
   "cell_type": "code",
   "execution_count": null,
   "id": "urban-bread",
   "metadata": {},
   "outputs": [],
   "source": [
    "upload_yt_file(f'/tmp/{yt_title}_{code}.txt', object_name=f'levenshteinTests/ytCaptions/{yt_title}.txt')"
   ]
  },
  {
   "cell_type": "markdown",
   "id": "separate-palace",
   "metadata": {},
   "source": [
    "# Generate Levenshtein score \n",
    "To generate the Levenshtein score, we use the Levenshtein distance and substract 1 to generate a metric"
   ]
  },
  {
   "cell_type": "markdown",
   "id": "distributed-syntax",
   "metadata": {},
   "source": [
    "### Transform all the data to DataFrames\n",
    "Transform AWS RAW (without custom vocabulary) Transcribe JSON output to DataFrame  "
   ]
  },
  {
   "cell_type": "code",
   "execution_count": 111,
   "id": "strong-arrangement",
   "metadata": {},
   "outputs": [
    {
     "data": {
      "text/html": [
       "<div>\n",
       "<style scoped>\n",
       "    .dataframe tbody tr th:only-of-type {\n",
       "        vertical-align: middle;\n",
       "    }\n",
       "\n",
       "    .dataframe tbody tr th {\n",
       "        vertical-align: top;\n",
       "    }\n",
       "\n",
       "    .dataframe thead th {\n",
       "        text-align: right;\n",
       "    }\n",
       "</style>\n",
       "<table border=\"1\" class=\"dataframe\">\n",
       "  <thead>\n",
       "    <tr style=\"text-align: right;\">\n",
       "      <th></th>\n",
       "      <th>start</th>\n",
       "      <th>end</th>\n",
       "      <th>transcript</th>\n",
       "    </tr>\n",
       "  </thead>\n",
       "  <tbody>\n",
       "    <tr>\n",
       "      <th>0</th>\n",
       "      <td>0.04</td>\n",
       "      <td>0.51</td>\n",
       "      <td>La</td>\n",
       "    </tr>\n",
       "    <tr>\n",
       "      <th>1</th>\n",
       "      <td>0.51</td>\n",
       "      <td>1.03</td>\n",
       "      <td>Fallida</td>\n",
       "    </tr>\n",
       "    <tr>\n",
       "      <th>2</th>\n",
       "      <td>1.03</td>\n",
       "      <td>1.73</td>\n",
       "      <td>actuación</td>\n",
       "    </tr>\n",
       "    <tr>\n",
       "      <th>3</th>\n",
       "      <td>1.74</td>\n",
       "      <td>1.92</td>\n",
       "      <td>en</td>\n",
       "    </tr>\n",
       "    <tr>\n",
       "      <th>4</th>\n",
       "      <td>1.92</td>\n",
       "      <td>3.08</td>\n",
       "      <td>Rancagua</td>\n",
       "    </tr>\n",
       "  </tbody>\n",
       "</table>\n",
       "</div>"
      ],
      "text/plain": [
       "   start   end transcript\n",
       "0   0.04  0.51         La\n",
       "1   0.51  1.03    Fallida\n",
       "2   1.03  1.73  actuación\n",
       "3   1.74  1.92         en\n",
       "4   1.92  3.08   Rancagua"
      ]
     },
     "execution_count": 111,
     "metadata": {},
     "output_type": "execute_result"
    }
   ],
   "source": [
    "aws_transcribe = aws2df('s3://awstranscribe-tests/levenshteinTests/RAW/utubeVideos/Un_show_FALLIDO_-_Mini_Especial_Rancagua__Edo_Caroe.json')\n",
    "aws_transcribe.head()"
   ]
  },
  {
   "cell_type": "markdown",
   "id": "thick-greek",
   "metadata": {},
   "source": [
    "Transform AWS IPA (with custom vocabulary) Transcribe JSON to DataFrame"
   ]
  },
  {
   "cell_type": "code",
   "execution_count": 112,
   "id": "exotic-photograph",
   "metadata": {},
   "outputs": [
    {
     "data": {
      "text/html": [
       "<div>\n",
       "<style scoped>\n",
       "    .dataframe tbody tr th:only-of-type {\n",
       "        vertical-align: middle;\n",
       "    }\n",
       "\n",
       "    .dataframe tbody tr th {\n",
       "        vertical-align: top;\n",
       "    }\n",
       "\n",
       "    .dataframe thead th {\n",
       "        text-align: right;\n",
       "    }\n",
       "</style>\n",
       "<table border=\"1\" class=\"dataframe\">\n",
       "  <thead>\n",
       "    <tr style=\"text-align: right;\">\n",
       "      <th></th>\n",
       "      <th>start</th>\n",
       "      <th>end</th>\n",
       "      <th>transcript</th>\n",
       "    </tr>\n",
       "  </thead>\n",
       "  <tbody>\n",
       "    <tr>\n",
       "      <th>0</th>\n",
       "      <td>0.04</td>\n",
       "      <td>0.51</td>\n",
       "      <td>La</td>\n",
       "    </tr>\n",
       "    <tr>\n",
       "      <th>1</th>\n",
       "      <td>0.51</td>\n",
       "      <td>1.03</td>\n",
       "      <td>Fallida</td>\n",
       "    </tr>\n",
       "    <tr>\n",
       "      <th>2</th>\n",
       "      <td>1.03</td>\n",
       "      <td>1.73</td>\n",
       "      <td>actuación</td>\n",
       "    </tr>\n",
       "    <tr>\n",
       "      <th>3</th>\n",
       "      <td>1.74</td>\n",
       "      <td>1.92</td>\n",
       "      <td>en</td>\n",
       "    </tr>\n",
       "    <tr>\n",
       "      <th>4</th>\n",
       "      <td>1.92</td>\n",
       "      <td>3.08</td>\n",
       "      <td>Rancagua</td>\n",
       "    </tr>\n",
       "  </tbody>\n",
       "</table>\n",
       "</div>"
      ],
      "text/plain": [
       "   start   end transcript\n",
       "0   0.04  0.51         La\n",
       "1   0.51  1.03    Fallida\n",
       "2   1.03  1.73  actuación\n",
       "3   1.74  1.92         en\n",
       "4   1.92  3.08   Rancagua"
      ]
     },
     "execution_count": 112,
     "metadata": {},
     "output_type": "execute_result"
    }
   ],
   "source": [
    "aws_transcribe_ipa = aws2df('s3://awstranscribe-tests/levenshteinTests/IPA/utubeVideos/Un_show_FALLIDO_-_Mini_Especial_Rancagua__Edo_Caroe.json')\n",
    "aws_transcribe_ipa.head()"
   ]
  },
  {
   "cell_type": "markdown",
   "id": "charming-enzyme",
   "metadata": {},
   "source": [
    "Transform custom YouTube caption to DataFrame"
   ]
  },
  {
   "cell_type": "code",
   "execution_count": 113,
   "id": "driving-garbage",
   "metadata": {},
   "outputs": [
    {
     "data": {
      "text/html": [
       "<div>\n",
       "<style scoped>\n",
       "    .dataframe tbody tr th:only-of-type {\n",
       "        vertical-align: middle;\n",
       "    }\n",
       "\n",
       "    .dataframe tbody tr th {\n",
       "        vertical-align: top;\n",
       "    }\n",
       "\n",
       "    .dataframe thead th {\n",
       "        text-align: right;\n",
       "    }\n",
       "</style>\n",
       "<table border=\"1\" class=\"dataframe\">\n",
       "  <thead>\n",
       "    <tr style=\"text-align: right;\">\n",
       "      <th></th>\n",
       "      <th>orig_index</th>\n",
       "      <th>start</th>\n",
       "      <th>end</th>\n",
       "      <th>transcript</th>\n",
       "    </tr>\n",
       "  </thead>\n",
       "  <tbody>\n",
       "    <tr>\n",
       "      <th>0</th>\n",
       "      <td>1</td>\n",
       "      <td>103.916</td>\n",
       "      <td>107.333</td>\n",
       "      <td>¡Me ha traído puros problemas este lugar, weón!</td>\n",
       "    </tr>\n",
       "    <tr>\n",
       "      <th>1</th>\n",
       "      <td>2</td>\n",
       "      <td>110.083</td>\n",
       "      <td>111.375</td>\n",
       "      <td>&lt;b&gt;Me voy a electrocutar ahora, culiao.&lt;/b&gt;</td>\n",
       "    </tr>\n",
       "    <tr>\n",
       "      <th>2</th>\n",
       "      <td>3</td>\n",
       "      <td>111.375</td>\n",
       "      <td>113.541</td>\n",
       "      <td>&lt;b&gt;Te apuesto, eso va a pasar.&lt;/b&gt;</td>\n",
       "    </tr>\n",
       "    <tr>\n",
       "      <th>3</th>\n",
       "      <td>4</td>\n",
       "      <td>114.916</td>\n",
       "      <td>116.833</td>\n",
       "      <td>&lt;b&gt;Tomás, culiao, también.&lt;/b&gt;</td>\n",
       "    </tr>\n",
       "    <tr>\n",
       "      <th>4</th>\n",
       "      <td>5</td>\n",
       "      <td>126.916</td>\n",
       "      <td>128.416</td>\n",
       "      <td>&lt;b&gt;Ay, weón...&lt;/b&gt;</td>\n",
       "    </tr>\n",
       "  </tbody>\n",
       "</table>\n",
       "</div>"
      ],
      "text/plain": [
       "  orig_index    start      end  \\\n",
       "0          1  103.916  107.333   \n",
       "1          2  110.083  111.375   \n",
       "2          3  111.375  113.541   \n",
       "3          4  114.916  116.833   \n",
       "4          5  126.916  128.416   \n",
       "\n",
       "                                        transcript  \n",
       "0  ¡Me ha traído puros problemas este lugar, weón!  \n",
       "1      <b>Me voy a electrocutar ahora, culiao.</b>  \n",
       "2               <b>Te apuesto, eso va a pasar.</b>  \n",
       "3                   <b>Tomás, culiao, también.</b>  \n",
       "4                               <b>Ay, weón...</b>  "
      ]
     },
     "execution_count": 113,
     "metadata": {},
     "output_type": "execute_result"
    }
   ],
   "source": [
    "yt_transcribe = youtube2df('s3://awstranscribe-tests/levenshteinTests/ytCaptions/Un_show_FALLIDO_-_Mini_Especial_Rancagua_|_Edo_Caroe.txt')\n",
    "yt_transcribe.head()"
   ]
  },
  {
   "cell_type": "markdown",
   "id": "subsequent-straight",
   "metadata": {},
   "source": [
    "Transform aut-generated YouTube caption to DataFrame"
   ]
  },
  {
   "cell_type": "code",
   "execution_count": 114,
   "id": "hungarian-government",
   "metadata": {},
   "outputs": [
    {
     "data": {
      "text/html": [
       "<div>\n",
       "<style scoped>\n",
       "    .dataframe tbody tr th:only-of-type {\n",
       "        vertical-align: middle;\n",
       "    }\n",
       "\n",
       "    .dataframe tbody tr th {\n",
       "        vertical-align: top;\n",
       "    }\n",
       "\n",
       "    .dataframe thead th {\n",
       "        text-align: right;\n",
       "    }\n",
       "</style>\n",
       "<table border=\"1\" class=\"dataframe\">\n",
       "  <thead>\n",
       "    <tr style=\"text-align: right;\">\n",
       "      <th></th>\n",
       "      <th>orig_index</th>\n",
       "      <th>start</th>\n",
       "      <th>end</th>\n",
       "      <th>transcript</th>\n",
       "    </tr>\n",
       "  </thead>\n",
       "  <tbody>\n",
       "    <tr>\n",
       "      <th>0</th>\n",
       "      <td>1</td>\n",
       "      <td>0.00</td>\n",
       "      <td>5.43</td>\n",
       "      <td>la fallida actuación en rancagua 1</td>\n",
       "    </tr>\n",
       "    <tr>\n",
       "      <th>1</th>\n",
       "      <td>2</td>\n",
       "      <td>3.27</td>\n",
       "      <td>6.87</td>\n",
       "      <td>problema de este lugar web sin duda uno</td>\n",
       "    </tr>\n",
       "    <tr>\n",
       "      <th>2</th>\n",
       "      <td>3</td>\n",
       "      <td>5.43</td>\n",
       "      <td>9.09</td>\n",
       "      <td>de los shows más raros de la gira moto</td>\n",
       "    </tr>\n",
       "    <tr>\n",
       "      <th>3</th>\n",
       "      <td>4</td>\n",
       "      <td>6.87</td>\n",
       "      <td>15.99</td>\n",
       "      <td>al sur y probablemente uno de los</td>\n",
       "    </tr>\n",
       "    <tr>\n",
       "      <th>4</th>\n",
       "      <td>5</td>\n",
       "      <td>9.09</td>\n",
       "      <td>18.15</td>\n",
       "      <td>mejores pero bueno los shows de la gira</td>\n",
       "    </tr>\n",
       "  </tbody>\n",
       "</table>\n",
       "</div>"
      ],
      "text/plain": [
       "  orig_index  start    end                               transcript\n",
       "0          1   0.00   5.43       la fallida actuación en rancagua 1\n",
       "1          2   3.27   6.87  problema de este lugar web sin duda uno\n",
       "2          3   5.43   9.09   de los shows más raros de la gira moto\n",
       "3          4   6.87  15.99        al sur y probablemente uno de los\n",
       "4          5   9.09  18.15  mejores pero bueno los shows de la gira"
      ]
     },
     "execution_count": 114,
     "metadata": {},
     "output_type": "execute_result"
    }
   ],
   "source": [
    "yt_transcribe_raw = youtube2df('s3://awstranscribe-tests/levenshteinTests/ytCaptions/Un_show_FALLIDO_-_Mini_Especial_Rancagua___Edo_Caroe_RAW.txt')\n",
    "yt_transcribe_raw.head()"
   ]
  },
  {
   "cell_type": "markdown",
   "id": "vital-theta",
   "metadata": {},
   "source": [
    "### Wrapping all together"
   ]
  },
  {
   "cell_type": "markdown",
   "id": "polyphonic-creator",
   "metadata": {},
   "source": [
    "Create new column on yt_transcribe DataFrame, adding the AWS RAW Transcription"
   ]
  },
  {
   "cell_type": "code",
   "execution_count": 115,
   "id": "offensive-turkish",
   "metadata": {},
   "outputs": [
    {
     "data": {
      "text/html": [
       "<div>\n",
       "<style scoped>\n",
       "    .dataframe tbody tr th:only-of-type {\n",
       "        vertical-align: middle;\n",
       "    }\n",
       "\n",
       "    .dataframe tbody tr th {\n",
       "        vertical-align: top;\n",
       "    }\n",
       "\n",
       "    .dataframe thead th {\n",
       "        text-align: right;\n",
       "    }\n",
       "</style>\n",
       "<table border=\"1\" class=\"dataframe\">\n",
       "  <thead>\n",
       "    <tr style=\"text-align: right;\">\n",
       "      <th></th>\n",
       "      <th>orig_index</th>\n",
       "      <th>start</th>\n",
       "      <th>end</th>\n",
       "      <th>transcript</th>\n",
       "      <th>aws_transcript</th>\n",
       "    </tr>\n",
       "  </thead>\n",
       "  <tbody>\n",
       "    <tr>\n",
       "      <th>0</th>\n",
       "      <td>1</td>\n",
       "      <td>103.916</td>\n",
       "      <td>107.333</td>\n",
       "      <td>¡Me ha traído puros problemas este lugar, weón!</td>\n",
       "      <td>lo puro problema este lugar Bueno lo puro prob...</td>\n",
       "    </tr>\n",
       "    <tr>\n",
       "      <th>1</th>\n",
       "      <td>2</td>\n",
       "      <td>110.083</td>\n",
       "      <td>111.375</td>\n",
       "      <td>&lt;b&gt;Me voy a electrocutar ahora, culiao.&lt;/b&gt;</td>\n",
       "      <td>voy a tributar ahora Cuidado voy a tributar ah...</td>\n",
       "    </tr>\n",
       "    <tr>\n",
       "      <th>2</th>\n",
       "      <td>3</td>\n",
       "      <td>111.375</td>\n",
       "      <td>113.541</td>\n",
       "      <td>&lt;b&gt;Te apuesto, eso va a pasar.&lt;/b&gt;</td>\n",
       "      <td>puedes Todo esto va a pasar puedes Todo esto v...</td>\n",
       "    </tr>\n",
       "    <tr>\n",
       "      <th>3</th>\n",
       "      <td>4</td>\n",
       "      <td>114.916</td>\n",
       "      <td>116.833</td>\n",
       "      <td>&lt;b&gt;Tomás, culiao, también.&lt;/b&gt;</td>\n",
       "      <td>Toma Julia Toma Julia</td>\n",
       "    </tr>\n",
       "    <tr>\n",
       "      <th>4</th>\n",
       "      <td>5</td>\n",
       "      <td>126.916</td>\n",
       "      <td>128.416</td>\n",
       "      <td>&lt;b&gt;Ay, weón...&lt;/b&gt;</td>\n",
       "      <td>Hay Hay</td>\n",
       "    </tr>\n",
       "  </tbody>\n",
       "</table>\n",
       "</div>"
      ],
      "text/plain": [
       "  orig_index    start      end  \\\n",
       "0          1  103.916  107.333   \n",
       "1          2  110.083  111.375   \n",
       "2          3  111.375  113.541   \n",
       "3          4  114.916  116.833   \n",
       "4          5  126.916  128.416   \n",
       "\n",
       "                                        transcript  \\\n",
       "0  ¡Me ha traído puros problemas este lugar, weón!   \n",
       "1      <b>Me voy a electrocutar ahora, culiao.</b>   \n",
       "2               <b>Te apuesto, eso va a pasar.</b>   \n",
       "3                   <b>Tomás, culiao, también.</b>   \n",
       "4                               <b>Ay, weón...</b>   \n",
       "\n",
       "                                      aws_transcript  \n",
       "0  lo puro problema este lugar Bueno lo puro prob...  \n",
       "1  voy a tributar ahora Cuidado voy a tributar ah...  \n",
       "2  puedes Todo esto va a pasar puedes Todo esto v...  \n",
       "3                              Toma Julia Toma Julia  \n",
       "4                                            Hay Hay  "
      ]
     },
     "execution_count": 115,
     "metadata": {},
     "output_type": "execute_result"
    }
   ],
   "source": [
    "yt_transcribe['aws_transcript'] = compress(yt_transcribe, aws_transcribe)\n",
    "yt_transcribe.head()"
   ]
  },
  {
   "cell_type": "markdown",
   "id": "nuclear-evolution",
   "metadata": {},
   "source": [
    "Create new column on yt_transcribe DataFrame, adding the AWS IPA Transcription"
   ]
  },
  {
   "cell_type": "code",
   "execution_count": 116,
   "id": "filled-language",
   "metadata": {},
   "outputs": [
    {
     "data": {
      "text/html": [
       "<div>\n",
       "<style scoped>\n",
       "    .dataframe tbody tr th:only-of-type {\n",
       "        vertical-align: middle;\n",
       "    }\n",
       "\n",
       "    .dataframe tbody tr th {\n",
       "        vertical-align: top;\n",
       "    }\n",
       "\n",
       "    .dataframe thead th {\n",
       "        text-align: right;\n",
       "    }\n",
       "</style>\n",
       "<table border=\"1\" class=\"dataframe\">\n",
       "  <thead>\n",
       "    <tr style=\"text-align: right;\">\n",
       "      <th></th>\n",
       "      <th>orig_index</th>\n",
       "      <th>start</th>\n",
       "      <th>end</th>\n",
       "      <th>transcript</th>\n",
       "      <th>aws_transcript</th>\n",
       "      <th>aws_transcript_ipa</th>\n",
       "    </tr>\n",
       "  </thead>\n",
       "  <tbody>\n",
       "    <tr>\n",
       "      <th>0</th>\n",
       "      <td>1</td>\n",
       "      <td>103.916</td>\n",
       "      <td>107.333</td>\n",
       "      <td>¡Me ha traído puros problemas este lugar, weón!</td>\n",
       "      <td>lo puro problema este lugar Bueno lo puro prob...</td>\n",
       "      <td>lo puro problema este lugar Bueno lo puro prob...</td>\n",
       "    </tr>\n",
       "    <tr>\n",
       "      <th>1</th>\n",
       "      <td>2</td>\n",
       "      <td>110.083</td>\n",
       "      <td>111.375</td>\n",
       "      <td>&lt;b&gt;Me voy a electrocutar ahora, culiao.&lt;/b&gt;</td>\n",
       "      <td>voy a tributar ahora Cuidado voy a tributar ah...</td>\n",
       "      <td>voy a tributar ahora Cuidado voy a tributar ah...</td>\n",
       "    </tr>\n",
       "    <tr>\n",
       "      <th>2</th>\n",
       "      <td>3</td>\n",
       "      <td>111.375</td>\n",
       "      <td>113.541</td>\n",
       "      <td>&lt;b&gt;Te apuesto, eso va a pasar.&lt;/b&gt;</td>\n",
       "      <td>puedes Todo esto va a pasar puedes Todo esto v...</td>\n",
       "      <td>puedes Todo esto va a pasar puedes Todo esto v...</td>\n",
       "    </tr>\n",
       "    <tr>\n",
       "      <th>3</th>\n",
       "      <td>4</td>\n",
       "      <td>114.916</td>\n",
       "      <td>116.833</td>\n",
       "      <td>&lt;b&gt;Tomás, culiao, también.&lt;/b&gt;</td>\n",
       "      <td>Toma Julia Toma Julia</td>\n",
       "      <td>Tomas culiao Tomas culiao</td>\n",
       "    </tr>\n",
       "    <tr>\n",
       "      <th>4</th>\n",
       "      <td>5</td>\n",
       "      <td>126.916</td>\n",
       "      <td>128.416</td>\n",
       "      <td>&lt;b&gt;Ay, weón...&lt;/b&gt;</td>\n",
       "      <td>Hay Hay</td>\n",
       "      <td>hay hay</td>\n",
       "    </tr>\n",
       "  </tbody>\n",
       "</table>\n",
       "</div>"
      ],
      "text/plain": [
       "  orig_index    start      end  \\\n",
       "0          1  103.916  107.333   \n",
       "1          2  110.083  111.375   \n",
       "2          3  111.375  113.541   \n",
       "3          4  114.916  116.833   \n",
       "4          5  126.916  128.416   \n",
       "\n",
       "                                        transcript  \\\n",
       "0  ¡Me ha traído puros problemas este lugar, weón!   \n",
       "1      <b>Me voy a electrocutar ahora, culiao.</b>   \n",
       "2               <b>Te apuesto, eso va a pasar.</b>   \n",
       "3                   <b>Tomás, culiao, también.</b>   \n",
       "4                               <b>Ay, weón...</b>   \n",
       "\n",
       "                                      aws_transcript  \\\n",
       "0  lo puro problema este lugar Bueno lo puro prob...   \n",
       "1  voy a tributar ahora Cuidado voy a tributar ah...   \n",
       "2  puedes Todo esto va a pasar puedes Todo esto v...   \n",
       "3                              Toma Julia Toma Julia   \n",
       "4                                            Hay Hay   \n",
       "\n",
       "                                  aws_transcript_ipa  \n",
       "0  lo puro problema este lugar Bueno lo puro prob...  \n",
       "1  voy a tributar ahora Cuidado voy a tributar ah...  \n",
       "2  puedes Todo esto va a pasar puedes Todo esto v...  \n",
       "3                          Tomas culiao Tomas culiao  \n",
       "4                                            hay hay  "
      ]
     },
     "execution_count": 116,
     "metadata": {},
     "output_type": "execute_result"
    }
   ],
   "source": [
    "yt_transcribe['aws_transcript_ipa'] = compress(yt_transcribe, aws_transcribe_ipa)\n",
    "yt_transcribe.head()"
   ]
  },
  {
   "cell_type": "markdown",
   "id": "joint-sponsorship",
   "metadata": {},
   "source": [
    "Show the final form of the yt_transcribe DataFrame"
   ]
  },
  {
   "cell_type": "code",
   "execution_count": 117,
   "id": "liked-machinery",
   "metadata": {},
   "outputs": [
    {
     "data": {
      "text/html": [
       "<div>\n",
       "<style scoped>\n",
       "    .dataframe tbody tr th:only-of-type {\n",
       "        vertical-align: middle;\n",
       "    }\n",
       "\n",
       "    .dataframe tbody tr th {\n",
       "        vertical-align: top;\n",
       "    }\n",
       "\n",
       "    .dataframe thead th {\n",
       "        text-align: right;\n",
       "    }\n",
       "</style>\n",
       "<table border=\"1\" class=\"dataframe\">\n",
       "  <thead>\n",
       "    <tr style=\"text-align: right;\">\n",
       "      <th></th>\n",
       "      <th>orig_index</th>\n",
       "      <th>start</th>\n",
       "      <th>end</th>\n",
       "      <th>transcript</th>\n",
       "      <th>aws_transcript</th>\n",
       "      <th>aws_transcript_ipa</th>\n",
       "    </tr>\n",
       "  </thead>\n",
       "  <tbody>\n",
       "    <tr>\n",
       "      <th>0</th>\n",
       "      <td>1</td>\n",
       "      <td>103.916</td>\n",
       "      <td>107.333</td>\n",
       "      <td>¡Me ha traído puros problemas este lugar, weón!</td>\n",
       "      <td>lo puro problema este lugar Bueno lo puro prob...</td>\n",
       "      <td>lo puro problema este lugar Bueno lo puro prob...</td>\n",
       "    </tr>\n",
       "    <tr>\n",
       "      <th>1</th>\n",
       "      <td>2</td>\n",
       "      <td>110.083</td>\n",
       "      <td>111.375</td>\n",
       "      <td>&lt;b&gt;Me voy a electrocutar ahora, culiao.&lt;/b&gt;</td>\n",
       "      <td>voy a tributar ahora Cuidado voy a tributar ah...</td>\n",
       "      <td>voy a tributar ahora Cuidado voy a tributar ah...</td>\n",
       "    </tr>\n",
       "    <tr>\n",
       "      <th>2</th>\n",
       "      <td>3</td>\n",
       "      <td>111.375</td>\n",
       "      <td>113.541</td>\n",
       "      <td>&lt;b&gt;Te apuesto, eso va a pasar.&lt;/b&gt;</td>\n",
       "      <td>puedes Todo esto va a pasar puedes Todo esto v...</td>\n",
       "      <td>puedes Todo esto va a pasar puedes Todo esto v...</td>\n",
       "    </tr>\n",
       "    <tr>\n",
       "      <th>3</th>\n",
       "      <td>4</td>\n",
       "      <td>114.916</td>\n",
       "      <td>116.833</td>\n",
       "      <td>&lt;b&gt;Tomás, culiao, también.&lt;/b&gt;</td>\n",
       "      <td>Toma Julia Toma Julia</td>\n",
       "      <td>Tomas culiao Tomas culiao</td>\n",
       "    </tr>\n",
       "    <tr>\n",
       "      <th>4</th>\n",
       "      <td>5</td>\n",
       "      <td>126.916</td>\n",
       "      <td>128.416</td>\n",
       "      <td>&lt;b&gt;Ay, weón...&lt;/b&gt;</td>\n",
       "      <td>Hay Hay</td>\n",
       "      <td>hay hay</td>\n",
       "    </tr>\n",
       "  </tbody>\n",
       "</table>\n",
       "</div>"
      ],
      "text/plain": [
       "  orig_index    start      end  \\\n",
       "0          1  103.916  107.333   \n",
       "1          2  110.083  111.375   \n",
       "2          3  111.375  113.541   \n",
       "3          4  114.916  116.833   \n",
       "4          5  126.916  128.416   \n",
       "\n",
       "                                        transcript  \\\n",
       "0  ¡Me ha traído puros problemas este lugar, weón!   \n",
       "1      <b>Me voy a electrocutar ahora, culiao.</b>   \n",
       "2               <b>Te apuesto, eso va a pasar.</b>   \n",
       "3                   <b>Tomás, culiao, también.</b>   \n",
       "4                               <b>Ay, weón...</b>   \n",
       "\n",
       "                                      aws_transcript  \\\n",
       "0  lo puro problema este lugar Bueno lo puro prob...   \n",
       "1  voy a tributar ahora Cuidado voy a tributar ah...   \n",
       "2  puedes Todo esto va a pasar puedes Todo esto v...   \n",
       "3                              Toma Julia Toma Julia   \n",
       "4                                            Hay Hay   \n",
       "\n",
       "                                  aws_transcript_ipa  \n",
       "0  lo puro problema este lugar Bueno lo puro prob...  \n",
       "1  voy a tributar ahora Cuidado voy a tributar ah...  \n",
       "2  puedes Todo esto va a pasar puedes Todo esto v...  \n",
       "3                          Tomas culiao Tomas culiao  \n",
       "4                                            hay hay  "
      ]
     },
     "execution_count": 117,
     "metadata": {},
     "output_type": "execute_result"
    }
   ],
   "source": [
    "yt_transcribe.head()"
   ]
  },
  {
   "cell_type": "markdown",
   "id": "concrete-integral",
   "metadata": {},
   "source": [
    "### Generate the Levenshtein score\n",
    "\n",
    "Generate the score and create a DataFrame to show as boxplot"
   ]
  },
  {
   "cell_type": "code",
   "execution_count": 118,
   "id": "spread-slope",
   "metadata": {},
   "outputs": [],
   "source": [
    "yt_transcribe['lv_score_yt_to_raw'] = lv_score(yt_transcribe['transcript'], yt_transcribe['aws_transcript'])\n",
    "yt_transcribe['lv_score_yt_to_ipa'] = lv_score(yt_transcribe['transcript'], yt_transcribe['aws_transcript_ipa'])\n",
    "ipa_tuple = [('real_to_ipa', a_score) for a_score in yt_transcribe['lv_score_yt_to_ipa']]\n",
    "raw_tuple = [('real_to_raw', a_score) for a_score in yt_transcribe['lv_score_yt_to_raw']]\n",
    "df =  pd.DataFrame(ipa_tuple + raw_tuple, columns = ['model', 'score'])\n"
   ]
  },
  {
   "cell_type": "markdown",
   "id": "parallel-obligation",
   "metadata": {},
   "source": [
    "### Means"
   ]
  },
  {
   "cell_type": "code",
   "execution_count": 119,
   "id": "aerial-spirit",
   "metadata": {},
   "outputs": [
    {
     "data": {
      "text/plain": [
       "0.06847326469652637"
      ]
     },
     "execution_count": 119,
     "metadata": {},
     "output_type": "execute_result"
    }
   ],
   "source": [
    "yt_transcribe['lv_score_yt_to_raw'].mean()"
   ]
  },
  {
   "cell_type": "code",
   "execution_count": 120,
   "id": "impressed-notice",
   "metadata": {},
   "outputs": [
    {
     "data": {
      "text/plain": [
       "0.07340970455066548"
      ]
     },
     "execution_count": 120,
     "metadata": {},
     "output_type": "execute_result"
    }
   ],
   "source": [
    "yt_transcribe['lv_score_yt_to_ipa'].mean()"
   ]
  },
  {
   "cell_type": "code",
   "execution_count": 121,
   "id": "upset-shelf",
   "metadata": {},
   "outputs": [
    {
     "data": {
      "text/plain": [
       "1.0720929530089944"
      ]
     },
     "execution_count": 121,
     "metadata": {},
     "output_type": "execute_result"
    }
   ],
   "source": [
    "yt_transcribe['lv_score_yt_to_ipa'].mean() / yt_transcribe['lv_score_yt_to_raw'].mean()"
   ]
  },
  {
   "cell_type": "markdown",
   "id": "honest-territory",
   "metadata": {},
   "source": [
    "Show the score as boxplot"
   ]
  },
  {
   "cell_type": "code",
   "execution_count": 20,
   "id": "public-timber",
   "metadata": {},
   "outputs": [
    {
     "data": {
      "image/png": "[encoded data removed]",
      "text/plain": [
       "<Figure size 432x288 with 1 Axes>"
      ]
     },
     "metadata": {
      "needs_background": "light"
     },
     "output_type": "display_data"
    }
   ],
   "source": [
    "sns.boxplot(data=df, x='model', y='score')\n",
    "plt.show()"
   ]
  },
  {
   "cell_type": "markdown",
   "id": "stopped-edwards",
   "metadata": {},
   "source": [
    "# IPA Shuffle Dictionary\n",
    "From our universe of 124 words we'll randomly select N number of words and create a new dictionary: IPA_Shuffle"
   ]
  },
  {
   "cell_type": "code",
   "execution_count": 22,
   "id": "biblical-quarter",
   "metadata": {},
   "outputs": [
    {
     "name": "stdout",
     "output_type": "stream",
     "text": [
      "Updating Vocab: IPA_Shuffle\n",
      " {'VocabularyName': 'IPA_Shuffle', 'LanguageCode': 'es-ES', 'VocabularyState': 'PENDING', 'ResponseMetadata': {'RequestId': '090cfeac-e0d5-485c-a9b7-7f25a8ce2bb8', 'HTTPStatusCode': 200, 'HTTPHeaders': {'content-type': 'application/x-amz-json-1.1', 'date': 'Thu, 04 Mar 2021 22:07:10 GMT', 'x-amzn-requestid': '090cfeac-e0d5-485c-a9b7-7f25a8ce2bb8', 'content-length': '83', 'connection': 'keep-alive'}, 'RetryAttempts': 0}}\n"
     ]
    }
   ],
   "source": [
    "vocabulary_shuffle()"
   ]
  },
  {
   "cell_type": "markdown",
   "id": "original-webster",
   "metadata": {},
   "source": [
    "# Playin with Data"
   ]
  },
  {
   "cell_type": "code",
   "execution_count": null,
   "id": "fatty-stanford",
   "metadata": {},
   "outputs": [],
   "source": [
    "aws_transcribe = aws2df('s3://awstranscribe-tests/levenshteinTests/RAW/utubeVideos/Un_show_FALLIDO_-_Mini_Especial_Rancagua__Edo_Caroe.json')\n",
    "aws_transcribe.head()"
   ]
  },
  {
   "cell_type": "code",
   "execution_count": 162,
   "id": "funky-atlas",
   "metadata": {},
   "outputs": [],
   "source": [
    "data_loc = get_folder_list(key='levenshteinTests/RAW/')\n",
    "videos = [i for i in data_loc if i.find('deo_0_') != -1]"
   ]
  },
  {
   "cell_type": "code",
   "execution_count": 179,
   "id": "major-selection",
   "metadata": {},
   "outputs": [
    {
     "data": {
      "text/html": [
       "<div>\n",
       "<style scoped>\n",
       "    .dataframe tbody tr th:only-of-type {\n",
       "        vertical-align: middle;\n",
       "    }\n",
       "\n",
       "    .dataframe tbody tr th {\n",
       "        vertical-align: top;\n",
       "    }\n",
       "\n",
       "    .dataframe thead th {\n",
       "        text-align: right;\n",
       "    }\n",
       "</style>\n",
       "<table border=\"1\" class=\"dataframe\">\n",
       "  <thead>\n",
       "    <tr style=\"text-align: right;\">\n",
       "      <th></th>\n",
       "      <th>orig_index</th>\n",
       "      <th>start</th>\n",
       "      <th>end</th>\n",
       "      <th>transcript</th>\n",
       "      <th>deo_0_with_construction_16kHz_fraction_50_enhanced.json</th>\n",
       "      <th>deo_0_with_construction_16kHz_fraction_50_enhanced.json_score</th>\n",
       "      <th>deo_0_with_construction_16kHz_fraction_50_noisy.json</th>\n",
       "      <th>deo_0_with_construction_16kHz_fraction_50_noisy.json_score</th>\n",
       "      <th>deo_0_with_crowd_16kHz_fraction_50_enhanced.json</th>\n",
       "      <th>deo_0_with_crowd_16kHz_fraction_50_enhanced.json_score</th>\n",
       "      <th>deo_0_with_crowd_16kHz_fraction_50_noisy.json</th>\n",
       "      <th>deo_0_with_crowd_16kHz_fraction_50_noisy.json_score</th>\n",
       "      <th>deo_0_with_noise_16kHz_fraction_50_enhanced.json</th>\n",
       "      <th>deo_0_with_noise_16kHz_fraction_50_enhanced.json_score</th>\n",
       "      <th>deo_0_with_noise_16kHz_fraction_50_noisy.json</th>\n",
       "      <th>deo_0_with_noise_16kHz_fraction_50_noisy.json_score</th>\n",
       "    </tr>\n",
       "  </thead>\n",
       "  <tbody>\n",
       "    <tr>\n",
       "      <th>53</th>\n",
       "      <td>54</td>\n",
       "      <td>264.125</td>\n",
       "      <td>265.583</td>\n",
       "      <td>&lt;b&gt;Pásame mi celular&lt;/b&gt;</td>\n",
       "      <td>Cuál Es parte de una serie de</td>\n",
       "      <td>-0.294118</td>\n",
       "      <td></td>\n",
       "      <td>0.0</td>\n",
       "      <td>Pues poca venezolano</td>\n",
       "      <td>0.117647</td>\n",
       "      <td></td>\n",
       "      <td>0.0</td>\n",
       "      <td>Basta Ya había asegurado</td>\n",
       "      <td>0.117647</td>\n",
       "      <td></td>\n",
       "      <td>0.000000</td>\n",
       "    </tr>\n",
       "    <tr>\n",
       "      <th>109</th>\n",
       "      <td>110</td>\n",
       "      <td>435.791</td>\n",
       "      <td>436.666</td>\n",
       "      <td>&lt;b&gt;(Público) No…&lt;/b&gt;</td>\n",
       "      <td>no he</td>\n",
       "      <td>-0.333333</td>\n",
       "      <td>me</td>\n",
       "      <td>0.0</td>\n",
       "      <td>no He</td>\n",
       "      <td>-0.333333</td>\n",
       "      <td>me</td>\n",
       "      <td>0.0</td>\n",
       "      <td>no he</td>\n",
       "      <td>-0.333333</td>\n",
       "      <td>Yo</td>\n",
       "      <td>0.333333</td>\n",
       "    </tr>\n",
       "    <tr>\n",
       "      <th>122</th>\n",
       "      <td>123</td>\n",
       "      <td>468.083</td>\n",
       "      <td>469.750</td>\n",
       "      <td>&lt;b&gt;El natur, eso es.&lt;/b&gt;</td>\n",
       "      <td>Congratulo Aminatu Pues</td>\n",
       "      <td>-0.066667</td>\n",
       "      <td></td>\n",
       "      <td>0.0</td>\n",
       "      <td>solicitó una pena de</td>\n",
       "      <td>0.066667</td>\n",
       "      <td>con la que</td>\n",
       "      <td>0.2</td>\n",
       "      <td>tengo una tele Nati</td>\n",
       "      <td>0.066667</td>\n",
       "      <td>que me</td>\n",
       "      <td>0.200000</td>\n",
       "    </tr>\n",
       "    <tr>\n",
       "      <th>179</th>\n",
       "      <td>180</td>\n",
       "      <td>618.458</td>\n",
       "      <td>619.458</td>\n",
       "      <td>&lt;b&gt;Tatán...&lt;/b&gt;</td>\n",
       "      <td>No vale</td>\n",
       "      <td>-0.200000</td>\n",
       "      <td></td>\n",
       "      <td>0.0</td>\n",
       "      <td>Vamos</td>\n",
       "      <td>0.200000</td>\n",
       "      <td></td>\n",
       "      <td>0.0</td>\n",
       "      <td>Perdón</td>\n",
       "      <td>0.000000</td>\n",
       "      <td></td>\n",
       "      <td>0.000000</td>\n",
       "    </tr>\n",
       "    <tr>\n",
       "      <th>200</th>\n",
       "      <td>201</td>\n",
       "      <td>656.833</td>\n",
       "      <td>657.833</td>\n",
       "      <td>&lt;b&gt;Ese…&lt;/b&gt;</td>\n",
       "      <td>eso Sí</td>\n",
       "      <td>-0.333333</td>\n",
       "      <td></td>\n",
       "      <td>0.0</td>\n",
       "      <td>eso</td>\n",
       "      <td>0.666667</td>\n",
       "      <td></td>\n",
       "      <td>0.0</td>\n",
       "      <td>eso Fin</td>\n",
       "      <td>-0.666667</td>\n",
       "      <td></td>\n",
       "      <td>0.000000</td>\n",
       "    </tr>\n",
       "  </tbody>\n",
       "</table>\n",
       "</div>"
      ],
      "text/plain": [
       "    orig_index    start      end                transcript  \\\n",
       "53          54  264.125  265.583  <b>Pásame mi celular</b>   \n",
       "109        110  435.791  436.666      <b>(Público) No…</b>   \n",
       "122        123  468.083  469.750  <b>El natur, eso es.</b>   \n",
       "179        180  618.458  619.458           <b>Tatán...</b>   \n",
       "200        201  656.833  657.833               <b>Ese…</b>   \n",
       "\n",
       "    deo_0_with_construction_16kHz_fraction_50_enhanced.json  \\\n",
       "53                       Cuál Es parte de una serie de        \n",
       "109                                              no he        \n",
       "122                            Congratulo Aminatu Pues        \n",
       "179                                            No vale        \n",
       "200                                             eso Sí        \n",
       "\n",
       "     deo_0_with_construction_16kHz_fraction_50_enhanced.json_score  \\\n",
       "53                                           -0.294118               \n",
       "109                                          -0.333333               \n",
       "122                                          -0.066667               \n",
       "179                                          -0.200000               \n",
       "200                                          -0.333333               \n",
       "\n",
       "    deo_0_with_construction_16kHz_fraction_50_noisy.json  \\\n",
       "53                                                         \n",
       "109                                                 me     \n",
       "122                                                        \n",
       "179                                                        \n",
       "200                                                        \n",
       "\n",
       "     deo_0_with_construction_16kHz_fraction_50_noisy.json_score  \\\n",
       "53                                                 0.0            \n",
       "109                                                0.0            \n",
       "122                                                0.0            \n",
       "179                                                0.0            \n",
       "200                                                0.0            \n",
       "\n",
       "    deo_0_with_crowd_16kHz_fraction_50_enhanced.json  \\\n",
       "53                              Pues poca venezolano   \n",
       "109                                            no He   \n",
       "122                             solicitó una pena de   \n",
       "179                                            Vamos   \n",
       "200                                              eso   \n",
       "\n",
       "     deo_0_with_crowd_16kHz_fraction_50_enhanced.json_score  \\\n",
       "53                                            0.117647        \n",
       "109                                          -0.333333        \n",
       "122                                           0.066667        \n",
       "179                                           0.200000        \n",
       "200                                           0.666667        \n",
       "\n",
       "    deo_0_with_crowd_16kHz_fraction_50_noisy.json  \\\n",
       "53                                                  \n",
       "109                                            me   \n",
       "122                                    con la que   \n",
       "179                                                 \n",
       "200                                                 \n",
       "\n",
       "     deo_0_with_crowd_16kHz_fraction_50_noisy.json_score  \\\n",
       "53                                                 0.0     \n",
       "109                                                0.0     \n",
       "122                                                0.2     \n",
       "179                                                0.0     \n",
       "200                                                0.0     \n",
       "\n",
       "    deo_0_with_noise_16kHz_fraction_50_enhanced.json  \\\n",
       "53                          Basta Ya había asegurado   \n",
       "109                                            no he   \n",
       "122                              tengo una tele Nati   \n",
       "179                                           Perdón   \n",
       "200                                          eso Fin   \n",
       "\n",
       "     deo_0_with_noise_16kHz_fraction_50_enhanced.json_score  \\\n",
       "53                                            0.117647        \n",
       "109                                          -0.333333        \n",
       "122                                           0.066667        \n",
       "179                                           0.000000        \n",
       "200                                          -0.666667        \n",
       "\n",
       "    deo_0_with_noise_16kHz_fraction_50_noisy.json  \\\n",
       "53                                                  \n",
       "109                                            Yo   \n",
       "122                                        que me   \n",
       "179                                                 \n",
       "200                                                 \n",
       "\n",
       "     deo_0_with_noise_16kHz_fraction_50_noisy.json_score  \n",
       "53                                            0.000000    \n",
       "109                                           0.333333    \n",
       "122                                           0.200000    \n",
       "179                                           0.000000    \n",
       "200                                           0.000000    "
      ]
     },
     "execution_count": 179,
     "metadata": {},
     "output_type": "execute_result"
    }
   ],
   "source": [
    "video_reference = 's3://awstranscribe-tests/levenshteinTests/RAW/deo_0_16kHz_fraction_50.json'\n",
    "real_reference = 's3://awstranscribe-tests/levenshteinTests/ytCaptions/Un_show_FALLIDO_-_Mini_Especial_Rancagua_|_Edo_Caroe.txt'\n",
    "video_reference_df = aws2df(video_reference)\n",
    "real_reference_df = youtube2df(real_reference)\n",
    "\n",
    "for video in videos:\n",
    "    if video == 's3://awstranscribe-tests/levenshteinTests/RAW/deo_0_16kHz_fraction_50.json':\n",
    "        continue\n",
    "    file_name = os.path.basename(video)\n",
    "    compared_df = compress(real_reference_df, aws2df(video))\n",
    "    real_reference_df[f'{file_name}'] = compared_df\n",
    "    real_reference_df[f'{file_name}_score'] = lv_score(real_reference_df['transcript'], real_reference_df[file_name])\n",
    "\n",
    "    #tp = (fname, scores)\n",
    "    #lv_scores.append(tp)\n",
    "    \n",
    "real_reference_df.loc[real_reference_df['deo_0_with_construction_16kHz_fraction_50_enhanced.json_score'] < 0]"
   ]
  },
  {
   "cell_type": "markdown",
   "id": "balanced-talent",
   "metadata": {},
   "source": [
    "### Bad metric, negative number when the distance(0) is shorter than distance(1)"
   ]
  },
  {
   "cell_type": "code",
   "execution_count": 181,
   "id": "systematic-holocaust",
   "metadata": {},
   "outputs": [
    {
     "data": {
      "text/plain": [
       "-0.2941176470588236"
      ]
     },
     "execution_count": 181,
     "metadata": {},
     "output_type": "execute_result"
    }
   ],
   "source": [
    "1  - lv.distance('pasame mi celular', 'cual es parte de una serie de') / len('pasame mi celular')"
   ]
  },
  {
   "cell_type": "code",
   "execution_count": 139,
   "id": "aware-glance",
   "metadata": {},
   "outputs": [
    {
     "data": {
      "image/png": "[encoded data removed]",
      "text/plain": [
       "<Figure size 432x288 with 1 Axes>"
      ]
     },
     "metadata": {
      "needs_background": "light"
     },
     "output_type": "display_data"
    }
   ],
   "source": [
    "names = ['con_en', 'con_no', 'cro_en', 'cro_no', 'noi_en', 'noi_no']\n",
    "\n",
    "tuples = []\n",
    "for index, scores in enumerate(df_score['score']):\n",
    "    for a_score in scores:\n",
    "        tuples.append((names[index], float(a_score)))\n",
    "        \n",
    "df_boxplot = pd.DataFrame(tuples, columns=['source', 'score'])\n",
    "\n",
    "sns.boxplot(data=df_boxplot, x='source', y='score')\n",
    "\n",
    "plt.show()"
   ]
  },
  {
   "cell_type": "code",
   "execution_count": null,
   "id": "broken-swaziland",
   "metadata": {},
   "outputs": [],
   "source": []
  },
  {
   "cell_type": "code",
   "execution_count": 152,
   "id": "regular-playing",
   "metadata": {},
   "outputs": [],
   "source": [
    "video_reference_df['Lev_Test'] = lv_score(video_reference_df['transcript'], other['transcript'])"
   ]
  },
  {
   "cell_type": "code",
   "execution_count": 153,
   "id": "opened-lawsuit",
   "metadata": {},
   "outputs": [
    {
     "data": {
      "text/html": [
       "<div>\n",
       "<style scoped>\n",
       "    .dataframe tbody tr th:only-of-type {\n",
       "        vertical-align: middle;\n",
       "    }\n",
       "\n",
       "    .dataframe tbody tr th {\n",
       "        vertical-align: top;\n",
       "    }\n",
       "\n",
       "    .dataframe thead th {\n",
       "        text-align: right;\n",
       "    }\n",
       "</style>\n",
       "<table border=\"1\" class=\"dataframe\">\n",
       "  <thead>\n",
       "    <tr style=\"text-align: right;\">\n",
       "      <th></th>\n",
       "      <th>start</th>\n",
       "      <th>end</th>\n",
       "      <th>transcript</th>\n",
       "      <th>Lev_Test</th>\n",
       "    </tr>\n",
       "  </thead>\n",
       "  <tbody>\n",
       "    <tr>\n",
       "      <th>9</th>\n",
       "      <td>4.33</td>\n",
       "      <td>4.44</td>\n",
       "      <td>de</td>\n",
       "      <td>-0.500000</td>\n",
       "    </tr>\n",
       "    <tr>\n",
       "      <th>10</th>\n",
       "      <td>4.45</td>\n",
       "      <td>4.90</td>\n",
       "      <td>sin</td>\n",
       "      <td>-0.333333</td>\n",
       "    </tr>\n",
       "    <tr>\n",
       "      <th>13</th>\n",
       "      <td>5.49</td>\n",
       "      <td>5.55</td>\n",
       "      <td>de</td>\n",
       "      <td>-0.500000</td>\n",
       "    </tr>\n",
       "    <tr>\n",
       "      <th>14</th>\n",
       "      <td>5.55</td>\n",
       "      <td>5.69</td>\n",
       "      <td>los</td>\n",
       "      <td>-0.666667</td>\n",
       "    </tr>\n",
       "    <tr>\n",
       "      <th>18</th>\n",
       "      <td>6.38</td>\n",
       "      <td>6.44</td>\n",
       "      <td>de</td>\n",
       "      <td>-3.000000</td>\n",
       "    </tr>\n",
       "    <tr>\n",
       "      <th>...</th>\n",
       "      <td>...</td>\n",
       "      <td>...</td>\n",
       "      <td>...</td>\n",
       "      <td>...</td>\n",
       "    </tr>\n",
       "    <tr>\n",
       "      <th>1570</th>\n",
       "      <td>895.00</td>\n",
       "      <td>897.16</td>\n",
       "      <td>co-</td>\n",
       "      <td>-0.333333</td>\n",
       "    </tr>\n",
       "    <tr>\n",
       "      <th>1573</th>\n",
       "      <td>897.50</td>\n",
       "      <td>897.58</td>\n",
       "      <td>me</td>\n",
       "      <td>-2.500000</td>\n",
       "    </tr>\n",
       "    <tr>\n",
       "      <th>1575</th>\n",
       "      <td>897.69</td>\n",
       "      <td>897.72</td>\n",
       "      <td>a</td>\n",
       "      <td>-1.000000</td>\n",
       "    </tr>\n",
       "    <tr>\n",
       "      <th>1578</th>\n",
       "      <td>898.22</td>\n",
       "      <td>898.33</td>\n",
       "      <td>la</td>\n",
       "      <td>-0.500000</td>\n",
       "    </tr>\n",
       "    <tr>\n",
       "      <th>1586</th>\n",
       "      <td>900.23</td>\n",
       "      <td>900.39</td>\n",
       "      <td>con</td>\n",
       "      <td>-0.666667</td>\n",
       "    </tr>\n",
       "  </tbody>\n",
       "</table>\n",
       "<p>567 rows × 4 columns</p>\n",
       "</div>"
      ],
      "text/plain": [
       "       start     end transcript  Lev_Test\n",
       "9       4.33    4.44         de -0.500000\n",
       "10      4.45    4.90        sin -0.333333\n",
       "13      5.49    5.55         de -0.500000\n",
       "14      5.55    5.69        los -0.666667\n",
       "18      6.38    6.44         de -3.000000\n",
       "...      ...     ...        ...       ...\n",
       "1570  895.00  897.16        co- -0.333333\n",
       "1573  897.50  897.58         me -2.500000\n",
       "1575  897.69  897.72          a -1.000000\n",
       "1578  898.22  898.33         la -0.500000\n",
       "1586  900.23  900.39        con -0.666667\n",
       "\n",
       "[567 rows x 4 columns]"
      ]
     },
     "execution_count": 153,
     "metadata": {},
     "output_type": "execute_result"
    }
   ],
   "source": [
    "video_reference_df.loc[video_reference_df['Lev_Test'] < 0]"
   ]
  },
  {
   "cell_type": "markdown",
   "id": "dominican-mainland",
   "metadata": {},
   "source": [
    "# Troubleshooting different Functions\n",
    "I'll use the next cells for debug"
   ]
  }
 ],
 "metadata": {
  "kernelspec": {
   "display_name": "conda_python3",
   "language": "python",
   "name": "conda_python3"
  },
  "language_info": {
   "codemirror_mode": {
    "name": "ipython",
    "version": 3
   },
   "file_extension": ".py",
   "mimetype": "text/x-python",
   "name": "python",
   "nbconvert_exporter": "python",
   "pygments_lexer": "ipython3",
   "version": "3.6.10"
  }
 },
 "nbformat": 4,
 "nbformat_minor": 5
}
