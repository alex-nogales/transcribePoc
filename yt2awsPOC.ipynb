{
 "cells": [
  {
   "cell_type": "markdown",
   "id": "latin-barrier",
   "metadata": {},
   "source": [
    "### Install python modules\n",
    "Install on SageMaker the necesary modules for this notebook to work"
   ]
  },
  {
   "cell_type": "code",
   "execution_count": 23,
   "id": "bound-program",
   "metadata": {},
   "outputs": [
    {
     "name": "stdout",
     "output_type": "stream",
     "text": [
      "Requirement already satisfied: pip in /home/ec2-user/anaconda3/envs/python3/lib/python3.6/site-packages (21.0.1)\n",
      "Requirement already satisfied: pytube in /home/ec2-user/anaconda3/envs/python3/lib/python3.6/site-packages (10.5.1)\n",
      "Requirement already satisfied: typing-extensions in /home/ec2-user/anaconda3/envs/python3/lib/python3.6/site-packages (from pytube) (3.7.4.3)\n",
      "Requirement already satisfied: seaborn in /home/ec2-user/anaconda3/envs/python3/lib/python3.6/site-packages (0.10.0)\n",
      "Requirement already satisfied: scipy>=1.0.1 in /home/ec2-user/anaconda3/envs/python3/lib/python3.6/site-packages (from seaborn) (1.4.1)\n",
      "Requirement already satisfied: matplotlib>=2.1.2 in /home/ec2-user/anaconda3/envs/python3/lib/python3.6/site-packages (from seaborn) (3.1.3)\n",
      "Requirement already satisfied: numpy>=1.13.3 in /home/ec2-user/anaconda3/envs/python3/lib/python3.6/site-packages (from seaborn) (1.19.5)\n",
      "Requirement already satisfied: pandas>=0.22.0 in /home/ec2-user/anaconda3/envs/python3/lib/python3.6/site-packages (from seaborn) (1.0.1)\n",
      "Requirement already satisfied: cycler>=0.10 in /home/ec2-user/anaconda3/envs/python3/lib/python3.6/site-packages (from matplotlib>=2.1.2->seaborn) (0.10.0)\n",
      "Requirement already satisfied: pyparsing!=2.0.4,!=2.1.2,!=2.1.6,>=2.0.1 in /home/ec2-user/anaconda3/envs/python3/lib/python3.6/site-packages (from matplotlib>=2.1.2->seaborn) (2.4.6)\n",
      "Requirement already satisfied: python-dateutil>=2.1 in /home/ec2-user/anaconda3/envs/python3/lib/python3.6/site-packages (from matplotlib>=2.1.2->seaborn) (2.8.1)\n",
      "Requirement already satisfied: kiwisolver>=1.0.1 in /home/ec2-user/anaconda3/envs/python3/lib/python3.6/site-packages (from matplotlib>=2.1.2->seaborn) (1.1.0)\n",
      "Requirement already satisfied: six in /home/ec2-user/anaconda3/envs/python3/lib/python3.6/site-packages (from cycler>=0.10->matplotlib>=2.1.2->seaborn) (1.14.0)\n",
      "Requirement already satisfied: setuptools in /home/ec2-user/anaconda3/envs/python3/lib/python3.6/site-packages (from kiwisolver>=1.0.1->matplotlib>=2.1.2->seaborn) (53.0.0)\n",
      "Requirement already satisfied: pytz>=2017.2 in /home/ec2-user/anaconda3/envs/python3/lib/python3.6/site-packages (from pandas>=0.22.0->seaborn) (2019.3)\n",
      "Requirement already satisfied: smart_open in /home/ec2-user/anaconda3/envs/python3/lib/python3.6/site-packages (4.2.0)\n",
      "Requirement already satisfied: Unidecode in /home/ec2-user/anaconda3/envs/python3/lib/python3.6/site-packages (1.2.0)\n",
      "Requirement already satisfied: python-Levenshtein in /home/ec2-user/anaconda3/envs/python3/lib/python3.6/site-packages (0.12.2)\n",
      "Requirement already satisfied: setuptools in /home/ec2-user/anaconda3/envs/python3/lib/python3.6/site-packages (from python-Levenshtein) (53.0.0)\n"
     ]
    }
   ],
   "source": [
    "!/home/ec2-user/anaconda3/envs/python3/bin/python -m pip install --upgrade pip\n",
    "!pip install pytube\n",
    "!pip install seaborn\n",
    "!pip install smart_open\n",
    "!pip install Unidecode\n",
    "!pip install python-Levenshtein"
   ]
  },
  {
   "cell_type": "markdown",
   "id": "final-polls",
   "metadata": {},
   "source": [
    "### Import modules"
   ]
  },
  {
   "cell_type": "code",
   "execution_count": 24,
   "id": "color-organization",
   "metadata": {},
   "outputs": [
    {
     "name": "stdout",
     "output_type": "stream",
     "text": [
      "Import done correctly!\n"
     ]
    }
   ],
   "source": [
    "import pandas as pd\n",
    "#from adaptors import youtube2df, aws2df, upload_yt_file, get_folder_list, vocabulary_shuffle, \n",
    "import matplotlib.pyplot as plt\n",
    "import seaborn as sns\n",
    "from adaptors import *\n",
    "from pytube import YouTube\n",
    "import boto3\n",
    "from botocore.exceptions import ClientError\n",
    "import sys, os\n",
    "import numpy as np\n",
    "\n",
    "print('Import done correctly!')"
   ]
  },
  {
   "cell_type": "markdown",
   "id": "scheduled-mystery",
   "metadata": {},
   "source": [
    "Define a YouTube video URL"
   ]
  },
  {
   "cell_type": "code",
   "execution_count": 2,
   "id": "afraid-student",
   "metadata": {},
   "outputs": [
    {
     "name": "stdout",
     "output_type": "stream",
     "text": [
      "<pytube.__main__.YouTube object at 0x7f92cc2675c0>\n"
     ]
    }
   ],
   "source": [
    "url = 'https://youtu.be/eEOhx-u9Z2k'\n",
    "#url = 'https://youtu.be/Mxv9AM397Y8'\n",
    "\n",
    "# Get video object\n",
    "yt = YouTube(url)\n",
    "print(yt)"
   ]
  },
  {
   "cell_type": "markdown",
   "id": "concrete-orbit",
   "metadata": {},
   "source": [
    "### Download videos from Youtube\n",
    "We'll download videos from youtube, save them into an S3 bucket that triggers a transcribe job (with or without IPA vocabulary)"
   ]
  },
  {
   "cell_type": "code",
   "execution_count": null,
   "id": "spanish-vulnerability",
   "metadata": {},
   "outputs": [],
   "source": [
    "# Get the tittle and replace spaces with underscore\n",
    "yt_title = yt.title.replace(' ', '_')\n",
    "    \n",
    "# Download the video to tmp folder and save the output name to file_name\n",
    "file_name = yt.streams.first().download(output_path=\"/tmp\" ,filename=yt_title)\n"
   ]
  },
  {
   "cell_type": "code",
   "execution_count": null,
   "id": "desperate-fruit",
   "metadata": {},
   "outputs": [],
   "source": [
    "# Returns True if file was uploaded, else False\n",
    "upload_yt_file(file_name)"
   ]
  },
  {
   "cell_type": "markdown",
   "id": "hollywood-tongue",
   "metadata": {},
   "source": [
    "### Download captions from the YouTube video\n",
    "From the said YouTube video we'll get the 'a.es' caption if exist "
   ]
  },
  {
   "cell_type": "code",
   "execution_count": null,
   "id": "thermal-inspiration",
   "metadata": {},
   "outputs": [],
   "source": [
    "if yt.captions.get_by_language_code('es-419'):\n",
    "    code = 'es-419'\n",
    "    caption = yt.captions.get_by_language_code('es-419')\n",
    "    yt_caption = caption.generate_srt_captions()\n",
    "    yt_title = yt.title.replace(' ', '_')\n",
    "    with open(f'/tmp/{yt_title}_{code}.txt', 'a') as f:\n",
    "        f.write(yt_caption)\n",
    "else:\n",
    "    print('This caption doesn\\'t exist')\n",
    "    print('You can use one of the following captions: \\n', yt.captions.all())"
   ]
  },
  {
   "cell_type": "markdown",
   "id": "humanitarian-murder",
   "metadata": {},
   "source": [
    "### Upload the caption to S3"
   ]
  },
  {
   "cell_type": "code",
   "execution_count": null,
   "id": "romantic-saudi",
   "metadata": {},
   "outputs": [],
   "source": [
    "upload_yt_file(f'/tmp/{yt_title}_{code}.txt', object_name=f'levenshteinTests/ytCaptions/{yt_title}.txt')"
   ]
  },
  {
   "cell_type": "markdown",
   "id": "empty-baker",
   "metadata": {},
   "source": [
    "# Generate Levenshtein score \n",
    "To generate the Levenshtein score, we use the Levenshtein distance and substract 1 to generate a metric"
   ]
  },
  {
   "cell_type": "markdown",
   "id": "chief-provision",
   "metadata": {},
   "source": [
    "### Transform all the data to DataFrames\n",
    "Transform AWS RAW (without custom vocabulary) Transcribe JSON output to DataFrame  "
   ]
  },
  {
   "cell_type": "code",
   "execution_count": 2,
   "id": "alternate-closing",
   "metadata": {},
   "outputs": [
    {
     "data": {
      "text/html": [
       "<div>\n",
       "<style scoped>\n",
       "    .dataframe tbody tr th:only-of-type {\n",
       "        vertical-align: middle;\n",
       "    }\n",
       "\n",
       "    .dataframe tbody tr th {\n",
       "        vertical-align: top;\n",
       "    }\n",
       "\n",
       "    .dataframe thead th {\n",
       "        text-align: right;\n",
       "    }\n",
       "</style>\n",
       "<table border=\"1\" class=\"dataframe\">\n",
       "  <thead>\n",
       "    <tr style=\"text-align: right;\">\n",
       "      <th></th>\n",
       "      <th>start</th>\n",
       "      <th>end</th>\n",
       "      <th>transcript</th>\n",
       "    </tr>\n",
       "  </thead>\n",
       "  <tbody>\n",
       "    <tr>\n",
       "      <th>0</th>\n",
       "      <td>0.04</td>\n",
       "      <td>0.51</td>\n",
       "      <td>La</td>\n",
       "    </tr>\n",
       "    <tr>\n",
       "      <th>1</th>\n",
       "      <td>0.51</td>\n",
       "      <td>1.03</td>\n",
       "      <td>Fallida</td>\n",
       "    </tr>\n",
       "    <tr>\n",
       "      <th>2</th>\n",
       "      <td>1.03</td>\n",
       "      <td>1.73</td>\n",
       "      <td>actuación</td>\n",
       "    </tr>\n",
       "    <tr>\n",
       "      <th>3</th>\n",
       "      <td>1.74</td>\n",
       "      <td>1.92</td>\n",
       "      <td>en</td>\n",
       "    </tr>\n",
       "    <tr>\n",
       "      <th>4</th>\n",
       "      <td>1.92</td>\n",
       "      <td>3.08</td>\n",
       "      <td>Rancagua</td>\n",
       "    </tr>\n",
       "  </tbody>\n",
       "</table>\n",
       "</div>"
      ],
      "text/plain": [
       "   start   end transcript\n",
       "0   0.04  0.51         La\n",
       "1   0.51  1.03    Fallida\n",
       "2   1.03  1.73  actuación\n",
       "3   1.74  1.92         en\n",
       "4   1.92  3.08   Rancagua"
      ]
     },
     "execution_count": 2,
     "metadata": {},
     "output_type": "execute_result"
    }
   ],
   "source": [
    "aws_transcribe = aws2df('s3://awstranscribe-tests/levenshteinTests/RAW/utubeVideos/Un_show_FALLIDO_-_Mini_Especial_Rancagua__Edo_Caroe.json')\n",
    "aws_transcribe.head()"
   ]
  },
  {
   "cell_type": "markdown",
   "id": "divine-arthritis",
   "metadata": {},
   "source": [
    "Transform AWS IPA (with custom vocabulary) Transcribe JSON to DataFrame"
   ]
  },
  {
   "cell_type": "code",
   "execution_count": 3,
   "id": "dependent-roots",
   "metadata": {},
   "outputs": [
    {
     "data": {
      "text/html": [
       "<div>\n",
       "<style scoped>\n",
       "    .dataframe tbody tr th:only-of-type {\n",
       "        vertical-align: middle;\n",
       "    }\n",
       "\n",
       "    .dataframe tbody tr th {\n",
       "        vertical-align: top;\n",
       "    }\n",
       "\n",
       "    .dataframe thead th {\n",
       "        text-align: right;\n",
       "    }\n",
       "</style>\n",
       "<table border=\"1\" class=\"dataframe\">\n",
       "  <thead>\n",
       "    <tr style=\"text-align: right;\">\n",
       "      <th></th>\n",
       "      <th>start</th>\n",
       "      <th>end</th>\n",
       "      <th>transcript</th>\n",
       "    </tr>\n",
       "  </thead>\n",
       "  <tbody>\n",
       "    <tr>\n",
       "      <th>0</th>\n",
       "      <td>0.04</td>\n",
       "      <td>0.51</td>\n",
       "      <td>La</td>\n",
       "    </tr>\n",
       "    <tr>\n",
       "      <th>1</th>\n",
       "      <td>0.51</td>\n",
       "      <td>1.03</td>\n",
       "      <td>Fallida</td>\n",
       "    </tr>\n",
       "    <tr>\n",
       "      <th>2</th>\n",
       "      <td>1.03</td>\n",
       "      <td>1.73</td>\n",
       "      <td>actuación</td>\n",
       "    </tr>\n",
       "    <tr>\n",
       "      <th>3</th>\n",
       "      <td>1.74</td>\n",
       "      <td>1.92</td>\n",
       "      <td>en</td>\n",
       "    </tr>\n",
       "    <tr>\n",
       "      <th>4</th>\n",
       "      <td>1.92</td>\n",
       "      <td>3.08</td>\n",
       "      <td>Rancagua</td>\n",
       "    </tr>\n",
       "  </tbody>\n",
       "</table>\n",
       "</div>"
      ],
      "text/plain": [
       "   start   end transcript\n",
       "0   0.04  0.51         La\n",
       "1   0.51  1.03    Fallida\n",
       "2   1.03  1.73  actuación\n",
       "3   1.74  1.92         en\n",
       "4   1.92  3.08   Rancagua"
      ]
     },
     "execution_count": 3,
     "metadata": {},
     "output_type": "execute_result"
    }
   ],
   "source": [
    "aws_transcribe_ipa = aws2df('s3://awstranscribe-tests/levenshteinTests/IPA/utubeVideos/Un_show_FALLIDO_-_Mini_Especial_Rancagua__Edo_Caroe.json')\n",
    "aws_transcribe_ipa.head()"
   ]
  },
  {
   "cell_type": "markdown",
   "id": "lesser-miracle",
   "metadata": {},
   "source": [
    "Transform custom YouTube caption to DataFrame"
   ]
  },
  {
   "cell_type": "code",
   "execution_count": 4,
   "id": "equal-teacher",
   "metadata": {},
   "outputs": [
    {
     "data": {
      "text/html": [
       "<div>\n",
       "<style scoped>\n",
       "    .dataframe tbody tr th:only-of-type {\n",
       "        vertical-align: middle;\n",
       "    }\n",
       "\n",
       "    .dataframe tbody tr th {\n",
       "        vertical-align: top;\n",
       "    }\n",
       "\n",
       "    .dataframe thead th {\n",
       "        text-align: right;\n",
       "    }\n",
       "</style>\n",
       "<table border=\"1\" class=\"dataframe\">\n",
       "  <thead>\n",
       "    <tr style=\"text-align: right;\">\n",
       "      <th></th>\n",
       "      <th>orig_index</th>\n",
       "      <th>start</th>\n",
       "      <th>end</th>\n",
       "      <th>transcript</th>\n",
       "    </tr>\n",
       "  </thead>\n",
       "  <tbody>\n",
       "    <tr>\n",
       "      <th>0</th>\n",
       "      <td>1</td>\n",
       "      <td>103.916</td>\n",
       "      <td>107.333</td>\n",
       "      <td>¡Me ha traído puros problemas este lugar, weón!</td>\n",
       "    </tr>\n",
       "    <tr>\n",
       "      <th>1</th>\n",
       "      <td>2</td>\n",
       "      <td>110.083</td>\n",
       "      <td>111.375</td>\n",
       "      <td>&lt;b&gt;Me voy a electrocutar ahora, culiao.&lt;/b&gt;</td>\n",
       "    </tr>\n",
       "    <tr>\n",
       "      <th>2</th>\n",
       "      <td>3</td>\n",
       "      <td>111.375</td>\n",
       "      <td>113.541</td>\n",
       "      <td>&lt;b&gt;Te apuesto, eso va a pasar.&lt;/b&gt;</td>\n",
       "    </tr>\n",
       "    <tr>\n",
       "      <th>3</th>\n",
       "      <td>4</td>\n",
       "      <td>114.916</td>\n",
       "      <td>116.833</td>\n",
       "      <td>&lt;b&gt;Tomás, culiao, también.&lt;/b&gt;</td>\n",
       "    </tr>\n",
       "    <tr>\n",
       "      <th>4</th>\n",
       "      <td>5</td>\n",
       "      <td>126.916</td>\n",
       "      <td>128.416</td>\n",
       "      <td>&lt;b&gt;Ay, weón...&lt;/b&gt;</td>\n",
       "    </tr>\n",
       "  </tbody>\n",
       "</table>\n",
       "</div>"
      ],
      "text/plain": [
       "  orig_index    start      end  \\\n",
       "0          1  103.916  107.333   \n",
       "1          2  110.083  111.375   \n",
       "2          3  111.375  113.541   \n",
       "3          4  114.916  116.833   \n",
       "4          5  126.916  128.416   \n",
       "\n",
       "                                        transcript  \n",
       "0  ¡Me ha traído puros problemas este lugar, weón!  \n",
       "1      <b>Me voy a electrocutar ahora, culiao.</b>  \n",
       "2               <b>Te apuesto, eso va a pasar.</b>  \n",
       "3                   <b>Tomás, culiao, también.</b>  \n",
       "4                               <b>Ay, weón...</b>  "
      ]
     },
     "execution_count": 4,
     "metadata": {},
     "output_type": "execute_result"
    }
   ],
   "source": [
    "yt_transcribe = youtube2df('s3://awstranscribe-tests/levenshteinTests/ytCaptions/Un_show_FALLIDO_-_Mini_Especial_Rancagua_|_Edo_Caroe.txt')\n",
    "yt_transcribe.head()"
   ]
  },
  {
   "cell_type": "markdown",
   "id": "arranged-hours",
   "metadata": {},
   "source": [
    "Transform aut-generated YouTube caption to DataFrame"
   ]
  },
  {
   "cell_type": "code",
   "execution_count": 5,
   "id": "foster-rapid",
   "metadata": {},
   "outputs": [
    {
     "data": {
      "text/html": [
       "<div>\n",
       "<style scoped>\n",
       "    .dataframe tbody tr th:only-of-type {\n",
       "        vertical-align: middle;\n",
       "    }\n",
       "\n",
       "    .dataframe tbody tr th {\n",
       "        vertical-align: top;\n",
       "    }\n",
       "\n",
       "    .dataframe thead th {\n",
       "        text-align: right;\n",
       "    }\n",
       "</style>\n",
       "<table border=\"1\" class=\"dataframe\">\n",
       "  <thead>\n",
       "    <tr style=\"text-align: right;\">\n",
       "      <th></th>\n",
       "      <th>orig_index</th>\n",
       "      <th>start</th>\n",
       "      <th>end</th>\n",
       "      <th>transcript</th>\n",
       "    </tr>\n",
       "  </thead>\n",
       "  <tbody>\n",
       "    <tr>\n",
       "      <th>0</th>\n",
       "      <td>1</td>\n",
       "      <td>0.00</td>\n",
       "      <td>5.43</td>\n",
       "      <td>la fallida actuación en rancagua 1</td>\n",
       "    </tr>\n",
       "    <tr>\n",
       "      <th>1</th>\n",
       "      <td>2</td>\n",
       "      <td>3.27</td>\n",
       "      <td>6.87</td>\n",
       "      <td>problema de este lugar web sin duda uno</td>\n",
       "    </tr>\n",
       "    <tr>\n",
       "      <th>2</th>\n",
       "      <td>3</td>\n",
       "      <td>5.43</td>\n",
       "      <td>9.09</td>\n",
       "      <td>de los shows más raros de la gira moto</td>\n",
       "    </tr>\n",
       "    <tr>\n",
       "      <th>3</th>\n",
       "      <td>4</td>\n",
       "      <td>6.87</td>\n",
       "      <td>15.99</td>\n",
       "      <td>al sur y probablemente uno de los</td>\n",
       "    </tr>\n",
       "    <tr>\n",
       "      <th>4</th>\n",
       "      <td>5</td>\n",
       "      <td>9.09</td>\n",
       "      <td>18.15</td>\n",
       "      <td>mejores pero bueno los shows de la gira</td>\n",
       "    </tr>\n",
       "  </tbody>\n",
       "</table>\n",
       "</div>"
      ],
      "text/plain": [
       "  orig_index  start    end                               transcript\n",
       "0          1   0.00   5.43       la fallida actuación en rancagua 1\n",
       "1          2   3.27   6.87  problema de este lugar web sin duda uno\n",
       "2          3   5.43   9.09   de los shows más raros de la gira moto\n",
       "3          4   6.87  15.99        al sur y probablemente uno de los\n",
       "4          5   9.09  18.15  mejores pero bueno los shows de la gira"
      ]
     },
     "execution_count": 5,
     "metadata": {},
     "output_type": "execute_result"
    }
   ],
   "source": [
    "yt_transcribe_raw = youtube2df('s3://awstranscribe-tests/levenshteinTests/ytCaptions/Un_show_FALLIDO_-_Mini_Especial_Rancagua___Edo_Caroe_RAW.txt')\n",
    "yt_transcribe_raw.head()"
   ]
  },
  {
   "cell_type": "markdown",
   "id": "noble-president",
   "metadata": {},
   "source": [
    "### Wrapping all together"
   ]
  },
  {
   "cell_type": "markdown",
   "id": "surrounded-member",
   "metadata": {},
   "source": [
    "Create new column on yt_transcribe DataFrame, adding the AWS RAW Transcription"
   ]
  },
  {
   "cell_type": "code",
   "execution_count": 6,
   "id": "involved-england",
   "metadata": {},
   "outputs": [
    {
     "data": {
      "text/html": [
       "<div>\n",
       "<style scoped>\n",
       "    .dataframe tbody tr th:only-of-type {\n",
       "        vertical-align: middle;\n",
       "    }\n",
       "\n",
       "    .dataframe tbody tr th {\n",
       "        vertical-align: top;\n",
       "    }\n",
       "\n",
       "    .dataframe thead th {\n",
       "        text-align: right;\n",
       "    }\n",
       "</style>\n",
       "<table border=\"1\" class=\"dataframe\">\n",
       "  <thead>\n",
       "    <tr style=\"text-align: right;\">\n",
       "      <th></th>\n",
       "      <th>orig_index</th>\n",
       "      <th>start</th>\n",
       "      <th>end</th>\n",
       "      <th>transcript</th>\n",
       "      <th>aws_transcript</th>\n",
       "    </tr>\n",
       "  </thead>\n",
       "  <tbody>\n",
       "    <tr>\n",
       "      <th>0</th>\n",
       "      <td>1</td>\n",
       "      <td>103.916</td>\n",
       "      <td>107.333</td>\n",
       "      <td>¡Me ha traído puros problemas este lugar, weón!</td>\n",
       "      <td>lo puro problema este lugar Bueno lo puro prob...</td>\n",
       "    </tr>\n",
       "    <tr>\n",
       "      <th>1</th>\n",
       "      <td>2</td>\n",
       "      <td>110.083</td>\n",
       "      <td>111.375</td>\n",
       "      <td>&lt;b&gt;Me voy a electrocutar ahora, culiao.&lt;/b&gt;</td>\n",
       "      <td>voy a tributar ahora Cuidado voy a tributar ah...</td>\n",
       "    </tr>\n",
       "    <tr>\n",
       "      <th>2</th>\n",
       "      <td>3</td>\n",
       "      <td>111.375</td>\n",
       "      <td>113.541</td>\n",
       "      <td>&lt;b&gt;Te apuesto, eso va a pasar.&lt;/b&gt;</td>\n",
       "      <td>puedes Todo esto va a pasar puedes Todo esto v...</td>\n",
       "    </tr>\n",
       "    <tr>\n",
       "      <th>3</th>\n",
       "      <td>4</td>\n",
       "      <td>114.916</td>\n",
       "      <td>116.833</td>\n",
       "      <td>&lt;b&gt;Tomás, culiao, también.&lt;/b&gt;</td>\n",
       "      <td>Toma Julia Toma Julia</td>\n",
       "    </tr>\n",
       "    <tr>\n",
       "      <th>4</th>\n",
       "      <td>5</td>\n",
       "      <td>126.916</td>\n",
       "      <td>128.416</td>\n",
       "      <td>&lt;b&gt;Ay, weón...&lt;/b&gt;</td>\n",
       "      <td>Hay Hay</td>\n",
       "    </tr>\n",
       "  </tbody>\n",
       "</table>\n",
       "</div>"
      ],
      "text/plain": [
       "  orig_index    start      end  \\\n",
       "0          1  103.916  107.333   \n",
       "1          2  110.083  111.375   \n",
       "2          3  111.375  113.541   \n",
       "3          4  114.916  116.833   \n",
       "4          5  126.916  128.416   \n",
       "\n",
       "                                        transcript  \\\n",
       "0  ¡Me ha traído puros problemas este lugar, weón!   \n",
       "1      <b>Me voy a electrocutar ahora, culiao.</b>   \n",
       "2               <b>Te apuesto, eso va a pasar.</b>   \n",
       "3                   <b>Tomás, culiao, también.</b>   \n",
       "4                               <b>Ay, weón...</b>   \n",
       "\n",
       "                                      aws_transcript  \n",
       "0  lo puro problema este lugar Bueno lo puro prob...  \n",
       "1  voy a tributar ahora Cuidado voy a tributar ah...  \n",
       "2  puedes Todo esto va a pasar puedes Todo esto v...  \n",
       "3                              Toma Julia Toma Julia  \n",
       "4                                            Hay Hay  "
      ]
     },
     "execution_count": 6,
     "metadata": {},
     "output_type": "execute_result"
    }
   ],
   "source": [
    "yt_transcribe['aws_transcript'] = compress(yt_transcribe, aws_transcribe)\n",
    "yt_transcribe.head()"
   ]
  },
  {
   "cell_type": "markdown",
   "id": "radio-pledge",
   "metadata": {},
   "source": [
    "Create new column on yt_transcribe DataFrame, adding the AWS IPA Transcription"
   ]
  },
  {
   "cell_type": "code",
   "execution_count": 7,
   "id": "potential-building",
   "metadata": {},
   "outputs": [
    {
     "data": {
      "text/html": [
       "<div>\n",
       "<style scoped>\n",
       "    .dataframe tbody tr th:only-of-type {\n",
       "        vertical-align: middle;\n",
       "    }\n",
       "\n",
       "    .dataframe tbody tr th {\n",
       "        vertical-align: top;\n",
       "    }\n",
       "\n",
       "    .dataframe thead th {\n",
       "        text-align: right;\n",
       "    }\n",
       "</style>\n",
       "<table border=\"1\" class=\"dataframe\">\n",
       "  <thead>\n",
       "    <tr style=\"text-align: right;\">\n",
       "      <th></th>\n",
       "      <th>orig_index</th>\n",
       "      <th>start</th>\n",
       "      <th>end</th>\n",
       "      <th>transcript</th>\n",
       "      <th>aws_transcript</th>\n",
       "      <th>aws_transcript_ipa</th>\n",
       "    </tr>\n",
       "  </thead>\n",
       "  <tbody>\n",
       "    <tr>\n",
       "      <th>0</th>\n",
       "      <td>1</td>\n",
       "      <td>103.916</td>\n",
       "      <td>107.333</td>\n",
       "      <td>¡Me ha traído puros problemas este lugar, weón!</td>\n",
       "      <td>lo puro problema este lugar Bueno lo puro prob...</td>\n",
       "      <td>lo puro problema este lugar Bueno lo puro prob...</td>\n",
       "    </tr>\n",
       "    <tr>\n",
       "      <th>1</th>\n",
       "      <td>2</td>\n",
       "      <td>110.083</td>\n",
       "      <td>111.375</td>\n",
       "      <td>&lt;b&gt;Me voy a electrocutar ahora, culiao.&lt;/b&gt;</td>\n",
       "      <td>voy a tributar ahora Cuidado voy a tributar ah...</td>\n",
       "      <td>voy a tributar ahora Cuidado voy a tributar ah...</td>\n",
       "    </tr>\n",
       "    <tr>\n",
       "      <th>2</th>\n",
       "      <td>3</td>\n",
       "      <td>111.375</td>\n",
       "      <td>113.541</td>\n",
       "      <td>&lt;b&gt;Te apuesto, eso va a pasar.&lt;/b&gt;</td>\n",
       "      <td>puedes Todo esto va a pasar puedes Todo esto v...</td>\n",
       "      <td>puedes Todo esto va a pasar puedes Todo esto v...</td>\n",
       "    </tr>\n",
       "    <tr>\n",
       "      <th>3</th>\n",
       "      <td>4</td>\n",
       "      <td>114.916</td>\n",
       "      <td>116.833</td>\n",
       "      <td>&lt;b&gt;Tomás, culiao, también.&lt;/b&gt;</td>\n",
       "      <td>Toma Julia Toma Julia</td>\n",
       "      <td>Tomas culiao Tomas culiao</td>\n",
       "    </tr>\n",
       "    <tr>\n",
       "      <th>4</th>\n",
       "      <td>5</td>\n",
       "      <td>126.916</td>\n",
       "      <td>128.416</td>\n",
       "      <td>&lt;b&gt;Ay, weón...&lt;/b&gt;</td>\n",
       "      <td>Hay Hay</td>\n",
       "      <td>hay hay</td>\n",
       "    </tr>\n",
       "  </tbody>\n",
       "</table>\n",
       "</div>"
      ],
      "text/plain": [
       "  orig_index    start      end  \\\n",
       "0          1  103.916  107.333   \n",
       "1          2  110.083  111.375   \n",
       "2          3  111.375  113.541   \n",
       "3          4  114.916  116.833   \n",
       "4          5  126.916  128.416   \n",
       "\n",
       "                                        transcript  \\\n",
       "0  ¡Me ha traído puros problemas este lugar, weón!   \n",
       "1      <b>Me voy a electrocutar ahora, culiao.</b>   \n",
       "2               <b>Te apuesto, eso va a pasar.</b>   \n",
       "3                   <b>Tomás, culiao, también.</b>   \n",
       "4                               <b>Ay, weón...</b>   \n",
       "\n",
       "                                      aws_transcript  \\\n",
       "0  lo puro problema este lugar Bueno lo puro prob...   \n",
       "1  voy a tributar ahora Cuidado voy a tributar ah...   \n",
       "2  puedes Todo esto va a pasar puedes Todo esto v...   \n",
       "3                              Toma Julia Toma Julia   \n",
       "4                                            Hay Hay   \n",
       "\n",
       "                                  aws_transcript_ipa  \n",
       "0  lo puro problema este lugar Bueno lo puro prob...  \n",
       "1  voy a tributar ahora Cuidado voy a tributar ah...  \n",
       "2  puedes Todo esto va a pasar puedes Todo esto v...  \n",
       "3                          Tomas culiao Tomas culiao  \n",
       "4                                            hay hay  "
      ]
     },
     "execution_count": 7,
     "metadata": {},
     "output_type": "execute_result"
    }
   ],
   "source": [
    "yt_transcribe['aws_transcript_ipa'] = compress(yt_transcribe, aws_transcribe_ipa)\n",
    "yt_transcribe.head()"
   ]
  },
  {
   "cell_type": "markdown",
   "id": "judicial-concert",
   "metadata": {},
   "source": [
    "Show the final form of the yt_transcribe DataFrame"
   ]
  },
  {
   "cell_type": "code",
   "execution_count": 18,
   "id": "adequate-story",
   "metadata": {},
   "outputs": [
    {
     "data": {
      "text/html": [
       "<div>\n",
       "<style scoped>\n",
       "    .dataframe tbody tr th:only-of-type {\n",
       "        vertical-align: middle;\n",
       "    }\n",
       "\n",
       "    .dataframe tbody tr th {\n",
       "        vertical-align: top;\n",
       "    }\n",
       "\n",
       "    .dataframe thead th {\n",
       "        text-align: right;\n",
       "    }\n",
       "</style>\n",
       "<table border=\"1\" class=\"dataframe\">\n",
       "  <thead>\n",
       "    <tr style=\"text-align: right;\">\n",
       "      <th></th>\n",
       "      <th>orig_index</th>\n",
       "      <th>start</th>\n",
       "      <th>end</th>\n",
       "      <th>transcript</th>\n",
       "      <th>aws_transcript</th>\n",
       "      <th>aws_transcript_ipa</th>\n",
       "      <th>lv_score_yt_to_raw</th>\n",
       "      <th>lv_score_yt_to_ipa</th>\n",
       "    </tr>\n",
       "  </thead>\n",
       "  <tbody>\n",
       "    <tr>\n",
       "      <th>0</th>\n",
       "      <td>1</td>\n",
       "      <td>103.916</td>\n",
       "      <td>107.333</td>\n",
       "      <td>¡Me ha traído puros problemas este lugar, weón!</td>\n",
       "      <td>lo puro problema este lugar Bueno lo puro prob...</td>\n",
       "      <td>lo puro problema este lugar Bueno lo puro prob...</td>\n",
       "      <td>0.181818</td>\n",
       "      <td>0.181818</td>\n",
       "    </tr>\n",
       "    <tr>\n",
       "      <th>1</th>\n",
       "      <td>2</td>\n",
       "      <td>110.083</td>\n",
       "      <td>111.375</td>\n",
       "      <td>&lt;b&gt;Me voy a electrocutar ahora, culiao.&lt;/b&gt;</td>\n",
       "      <td>voy a tributar ahora Cuidado voy a tributar ah...</td>\n",
       "      <td>voy a tributar ahora Cuidado voy a tributar ah...</td>\n",
       "      <td>-0.029412</td>\n",
       "      <td>-0.029412</td>\n",
       "    </tr>\n",
       "    <tr>\n",
       "      <th>2</th>\n",
       "      <td>3</td>\n",
       "      <td>111.375</td>\n",
       "      <td>113.541</td>\n",
       "      <td>&lt;b&gt;Te apuesto, eso va a pasar.&lt;/b&gt;</td>\n",
       "      <td>puedes Todo esto va a pasar puedes Todo esto v...</td>\n",
       "      <td>puedes Todo esto va a pasar puedes Todo esto v...</td>\n",
       "      <td>-0.200000</td>\n",
       "      <td>-0.200000</td>\n",
       "    </tr>\n",
       "    <tr>\n",
       "      <th>3</th>\n",
       "      <td>4</td>\n",
       "      <td>114.916</td>\n",
       "      <td>116.833</td>\n",
       "      <td>&lt;b&gt;Tomás, culiao, también.&lt;/b&gt;</td>\n",
       "      <td>Toma Julia Toma Julia</td>\n",
       "      <td>Tomas culiao Tomas culiao</td>\n",
       "      <td>0.450000</td>\n",
       "      <td>0.550000</td>\n",
       "    </tr>\n",
       "    <tr>\n",
       "      <th>4</th>\n",
       "      <td>5</td>\n",
       "      <td>126.916</td>\n",
       "      <td>128.416</td>\n",
       "      <td>&lt;b&gt;Ay, weón...&lt;/b&gt;</td>\n",
       "      <td>Hay Hay</td>\n",
       "      <td>hay hay</td>\n",
       "      <td>0.285714</td>\n",
       "      <td>0.285714</td>\n",
       "    </tr>\n",
       "  </tbody>\n",
       "</table>\n",
       "</div>"
      ],
      "text/plain": [
       "  orig_index    start      end  \\\n",
       "0          1  103.916  107.333   \n",
       "1          2  110.083  111.375   \n",
       "2          3  111.375  113.541   \n",
       "3          4  114.916  116.833   \n",
       "4          5  126.916  128.416   \n",
       "\n",
       "                                        transcript  \\\n",
       "0  ¡Me ha traído puros problemas este lugar, weón!   \n",
       "1      <b>Me voy a electrocutar ahora, culiao.</b>   \n",
       "2               <b>Te apuesto, eso va a pasar.</b>   \n",
       "3                   <b>Tomás, culiao, también.</b>   \n",
       "4                               <b>Ay, weón...</b>   \n",
       "\n",
       "                                      aws_transcript  \\\n",
       "0  lo puro problema este lugar Bueno lo puro prob...   \n",
       "1  voy a tributar ahora Cuidado voy a tributar ah...   \n",
       "2  puedes Todo esto va a pasar puedes Todo esto v...   \n",
       "3                              Toma Julia Toma Julia   \n",
       "4                                            Hay Hay   \n",
       "\n",
       "                                  aws_transcript_ipa  lv_score_yt_to_raw  \\\n",
       "0  lo puro problema este lugar Bueno lo puro prob...            0.181818   \n",
       "1  voy a tributar ahora Cuidado voy a tributar ah...           -0.029412   \n",
       "2  puedes Todo esto va a pasar puedes Todo esto v...           -0.200000   \n",
       "3                          Tomas culiao Tomas culiao            0.450000   \n",
       "4                                            hay hay            0.285714   \n",
       "\n",
       "   lv_score_yt_to_ipa  \n",
       "0            0.181818  \n",
       "1           -0.029412  \n",
       "2           -0.200000  \n",
       "3            0.550000  \n",
       "4            0.285714  "
      ]
     },
     "execution_count": 18,
     "metadata": {},
     "output_type": "execute_result"
    }
   ],
   "source": [
    "yt_transcribe.head()"
   ]
  },
  {
   "cell_type": "markdown",
   "id": "lesser-mambo",
   "metadata": {},
   "source": [
    "### Generate the Levenshtein score\n",
    "\n",
    "Generate the score and create a DataFrame to show as boxplot"
   ]
  },
  {
   "cell_type": "code",
   "execution_count": 19,
   "id": "extra-serbia",
   "metadata": {},
   "outputs": [],
   "source": [
    "yt_transcribe['lv_score_yt_to_raw'] = lv_score(yt_transcribe['transcript'], yt_transcribe['aws_transcript'])\n",
    "yt_transcribe['lv_score_yt_to_ipa'] = lv_score(yt_transcribe['transcript'], yt_transcribe['aws_transcript_ipa'])\n",
    "ipa_tuple = [('real_to_ipa', a_score) for a_score in yt_transcribe['lv_score_yt_to_ipa']]\n",
    "raw_tuple = [('real_to_raw', a_score) for a_score in yt_transcribe['lv_score_yt_to_raw']]\n",
    "df =  pd.DataFrame(ipa_tuple + raw_tuple, columns = ['model', 'score'])\n"
   ]
  },
  {
   "cell_type": "markdown",
   "id": "wicked-shame",
   "metadata": {},
   "source": [
    "Show the score as boxplot"
   ]
  },
  {
   "cell_type": "code",
   "execution_count": 20,
   "id": "restricted-stand",
   "metadata": {},
   "outputs": [
    {
     "data": {
      "image/png": "[encoded data removed]",
      "text/plain": [
       "<Figure size 432x288 with 1 Axes>"
      ]
     },
     "metadata": {
      "needs_background": "light"
     },
     "output_type": "display_data"
    }
   ],
   "source": [
    "sns.boxplot(data=df, x='model', y='score')\n",
    "plt.show()"
   ]
  },
  {
   "cell_type": "markdown",
   "id": "mental-terminal",
   "metadata": {},
   "source": [
    "# IPA Shuffle Dictionary\n",
    "From our universe of 124 words we'll randomly select N number of words and create a new dictionary: IPA_Shuffle"
   ]
  },
  {
   "cell_type": "code",
   "execution_count": 22,
   "id": "aggregate-forth",
   "metadata": {},
   "outputs": [
    {
     "name": "stdout",
     "output_type": "stream",
     "text": [
      "Updating Vocab: IPA_Shuffle\n",
      " {'VocabularyName': 'IPA_Shuffle', 'LanguageCode': 'es-ES', 'VocabularyState': 'PENDING', 'ResponseMetadata': {'RequestId': '090cfeac-e0d5-485c-a9b7-7f25a8ce2bb8', 'HTTPStatusCode': 200, 'HTTPHeaders': {'content-type': 'application/x-amz-json-1.1', 'date': 'Thu, 04 Mar 2021 22:07:10 GMT', 'x-amzn-requestid': '090cfeac-e0d5-485c-a9b7-7f25a8ce2bb8', 'content-length': '83', 'connection': 'keep-alive'}, 'RetryAttempts': 0}}\n"
     ]
    }
   ],
   "source": [
    "vocabulary_shuffle()"
   ]
  },
  {
   "cell_type": "markdown",
   "id": "stretch-interpretation",
   "metadata": {},
   "source": [
    "# Troubleshooting different Functions\n",
    "I'll use the next cells for debug"
   ]
  }
 ],
 "metadata": {
  "kernelspec": {
   "display_name": "conda_python3",
   "language": "python",
   "name": "conda_python3"
  },
  "language_info": {
   "codemirror_mode": {
    "name": "ipython",
    "version": 3
   },
   "file_extension": ".py",
   "mimetype": "text/x-python",
   "name": "python",
   "nbconvert_exporter": "python",
   "pygments_lexer": "ipython3",
   "version": "3.6.10"
  }
 },
 "nbformat": 4,
 "nbformat_minor": 5
}
