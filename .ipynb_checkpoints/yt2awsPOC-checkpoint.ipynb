{
 "cells": [
  {
   "cell_type": "code",
   "execution_count": 2,
   "id": "injured-adoption",
   "metadata": {},
   "outputs": [
    {
     "name": "stdout",
     "output_type": "stream",
     "text": [
      "Requirement already satisfied: pip in /home/ec2-user/anaconda3/envs/python3/lib/python3.6/site-packages (21.0.1)\n",
      "Requirement already satisfied: pytube in /home/ec2-user/anaconda3/envs/python3/lib/python3.6/site-packages (10.5.3)\n",
      "Requirement already satisfied: typing-extensions in /home/ec2-user/anaconda3/envs/python3/lib/python3.6/site-packages (from pytube) (3.7.4.3)\n",
      "Requirement already satisfied: seaborn in /home/ec2-user/anaconda3/envs/python3/lib/python3.6/site-packages (0.11.1)\n",
      "Requirement already satisfied: pandas>=0.23 in /home/ec2-user/anaconda3/envs/python3/lib/python3.6/site-packages (from seaborn) (1.1.5)\n",
      "Requirement already satisfied: matplotlib>=2.2 in /home/ec2-user/anaconda3/envs/python3/lib/python3.6/site-packages (from seaborn) (3.3.4)\n",
      "Requirement already satisfied: scipy>=1.0 in /home/ec2-user/anaconda3/envs/python3/lib/python3.6/site-packages (from seaborn) (1.5.3)\n",
      "Requirement already satisfied: numpy>=1.15 in /home/ec2-user/anaconda3/envs/python3/lib/python3.6/site-packages (from seaborn) (1.19.5)\n",
      "Requirement already satisfied: pyparsing!=2.0.4,!=2.1.2,!=2.1.6,>=2.0.3 in /home/ec2-user/anaconda3/envs/python3/lib/python3.6/site-packages (from matplotlib>=2.2->seaborn) (2.4.7)\n",
      "Requirement already satisfied: python-dateutil>=2.1 in /home/ec2-user/anaconda3/envs/python3/lib/python3.6/site-packages (from matplotlib>=2.2->seaborn) (2.8.1)\n",
      "Requirement already satisfied: kiwisolver>=1.0.1 in /home/ec2-user/anaconda3/envs/python3/lib/python3.6/site-packages (from matplotlib>=2.2->seaborn) (1.3.1)\n",
      "Requirement already satisfied: cycler>=0.10 in /home/ec2-user/anaconda3/envs/python3/lib/python3.6/site-packages (from matplotlib>=2.2->seaborn) (0.10.0)\n",
      "Requirement already satisfied: pillow>=6.2.0 in /home/ec2-user/anaconda3/envs/python3/lib/python3.6/site-packages (from matplotlib>=2.2->seaborn) (7.2.0)\n",
      "Requirement already satisfied: six in /home/ec2-user/anaconda3/envs/python3/lib/python3.6/site-packages (from cycler>=0.10->matplotlib>=2.2->seaborn) (1.15.0)\n",
      "Requirement already satisfied: pytz>=2017.2 in /home/ec2-user/anaconda3/envs/python3/lib/python3.6/site-packages (from pandas>=0.23->seaborn) (2021.1)\n",
      "Requirement already satisfied: smart_open in /home/ec2-user/anaconda3/envs/python3/lib/python3.6/site-packages (4.2.0)\n",
      "Requirement already satisfied: Unidecode in /home/ec2-user/anaconda3/envs/python3/lib/python3.6/site-packages (1.2.0)\n",
      "Requirement already satisfied: python-Levenshtein in /home/ec2-user/anaconda3/envs/python3/lib/python3.6/site-packages (0.12.2)\n",
      "Requirement already satisfied: setuptools in /home/ec2-user/anaconda3/envs/python3/lib/python3.6/site-packages (from python-Levenshtein) (49.6.0.post20210108)\n"
     ]
    }
   ],
   "source": [
    "!/home/ec2-user/anaconda3/envs/python3/bin/python -m pip install --upgrade pip\n",
    "!pip install pytube\n",
    "!pip install seaborn\n",
    "!pip install smart_open\n",
    "!pip install Unidecode\n",
    "!pip install python-Levenshtein"
   ]
  },
  {
   "cell_type": "markdown",
   "id": "crazy-evanescence",
   "metadata": {},
   "source": [
    "### Import modules"
   ]
  },
  {
   "cell_type": "code",
   "execution_count": 1,
   "id": "funky-swift",
   "metadata": {},
   "outputs": [
    {
     "name": "stdout",
     "output_type": "stream",
     "text": [
      "Import done correctly!\n"
     ]
    }
   ],
   "source": [
    "import pandas as pd\n",
    "import matplotlib.pyplot as plt\n",
    "import seaborn as sns\n",
    "from adaptors import *\n",
    "from pytube import YouTube, Playlist\n",
    "import boto3\n",
    "from botocore.exceptions import ClientError\n",
    "import sys, os\n",
    "import numpy as np\n",
    "import Levenshtein as lv\n",
    "from datetime import datetime\n",
    "import unicodedata\n",
    "print('Import done correctly!')"
   ]
  },
  {
   "cell_type": "code",
   "execution_count": 3,
   "id": "supported-pickup",
   "metadata": {},
   "outputs": [],
   "source": [
    "url = 'https://www.youtube.com/watch?v=RLW0jKKRXMo'"
   ]
  },
  {
   "cell_type": "markdown",
   "id": "continuous-typing",
   "metadata": {},
   "source": [
    "# Playin with playlist"
   ]
  },
  {
   "cell_type": "code",
   "execution_count": null,
   "id": "limited-costa",
   "metadata": {},
   "outputs": [],
   "source": [
    "plist_url = 'https://youtube.com/playlist?list=PLVI9tQggdGtHjPkCPD5X5EsOYk1rA-gew'\n",
    "plist = Playlist(plist_url)\n",
    "\n",
    "\n",
    "for url in plist.video_urls:\n",
    "    youtube2aws(url)"
   ]
  },
  {
   "cell_type": "markdown",
   "id": "afraid-immunology",
   "metadata": {},
   "source": [
    "Define a YouTube video URL"
   ]
  },
  {
   "cell_type": "code",
   "execution_count": 6,
   "id": "painted-ethics",
   "metadata": {},
   "outputs": [
    {
     "name": "stdout",
     "output_type": "stream",
     "text": [
      "<pytube.__main__.YouTube object at 0x7f9b682b1a20>\n"
     ]
    }
   ],
   "source": [
    "#url = 'https://youtu.be/zUN9ZKLJMmg'\n",
    "#url = 'https://youtu.be/Mxv9AM397Y8'\n",
    "\n",
    "# Get video object\n",
    "yt = YouTube(url)\n",
    "print(yt)"
   ]
  },
  {
   "cell_type": "markdown",
   "id": "elegant-clinton",
   "metadata": {},
   "source": [
    "### Download videos from Youtube\n",
    "We'll download videos from youtube, save them into an S3 bucket that triggers a transcribe job (with or without IPA vocabulary)"
   ]
  },
  {
   "cell_type": "code",
   "execution_count": 7,
   "id": "common-packing",
   "metadata": {},
   "outputs": [],
   "source": [
    "# Get the tittle and replace spaces with underscore\n",
    "yt_title = yt.title.replace(' ', '_')\n",
    "yt_title = unicodedata.normalize('NFKD', yt_title).encode('ASCII', 'ignore').decode('utf-8')\n",
    "yt_title = re.sub('\\+', '', yt_title)\n",
    "    \n",
    "# Download the video to tmp folder and save the output name to file_name\n",
    "file_name = yt.streams.first().download(output_path=\"/tmp\" ,filename=yt_title)\n"
   ]
  },
  {
   "cell_type": "code",
   "execution_count": 8,
   "id": "patent-disability",
   "metadata": {},
   "outputs": [
    {
     "data": {
      "text/plain": [
       "True"
      ]
     },
     "execution_count": 8,
     "metadata": {},
     "output_type": "execute_result"
    }
   ],
   "source": [
    "# Returns True if file was uploaded, else False\n",
    "upload_yt_file(file_name)"
   ]
  },
  {
   "cell_type": "markdown",
   "id": "heard-winning",
   "metadata": {},
   "source": [
    "### Download captions from the YouTube video\n",
    "From the said YouTube video we'll get the 'a.es' caption if exist "
   ]
  },
  {
   "cell_type": "code",
   "execution_count": 57,
   "id": "interstate-buffalo",
   "metadata": {},
   "outputs": [
    {
     "name": "stderr",
     "output_type": "stream",
     "text": [
      "<>:7: DeprecationWarning: invalid escape sequence \\+\n",
      "<>:7: DeprecationWarning: invalid escape sequence \\+\n",
      "<>:7: DeprecationWarning: invalid escape sequence \\+\n",
      "<ipython-input-57-2340e739fa24>:7: DeprecationWarning: invalid escape sequence \\+\n",
      "  yt_title = re.sub('\\+', '', yt_title)\n",
      "/home/ec2-user/anaconda3/envs/python3/lib/python3.6/site-packages/ipykernel/__main__.py:1: DeprecationWarning: Call to deprecated function get_by_language_code (This object can be treated as a dictionary, i.e. captions['en']).\n",
      "  if __name__ == '__main__':\n",
      "/home/ec2-user/anaconda3/envs/python3/lib/python3.6/site-packages/ipykernel/__main__.py:3: DeprecationWarning: Call to deprecated function get_by_language_code (This object can be treated as a dictionary, i.e. captions['en']).\n",
      "  app.launch_new_instance()\n"
     ]
    }
   ],
   "source": [
    "if yt.captions.get_by_language_code('es-419'):\n",
    "    code = 'es-419'\n",
    "    caption = yt.captions.get_by_language_code('es-419')\n",
    "    yt_caption = caption.generate_srt_captions()\n",
    "    yt_title = yt.title.replace(' ', '_')\n",
    "    yt_title = unicodedata.normalize('NFKD', yt_title).encode('ASCII', 'ignore').decode('utf-8')\n",
    "    yt_title = re.sub('\\+', '', yt_title)\n",
    "    with open(f'/tmp/{yt_title}_{code}.txt', 'a') as f:\n",
    "        f.write(yt_caption)\n",
    "else:\n",
    "    print('This caption doesn\\'t exist')\n",
    "    print('You can use one of the following captions: \\n', yt.captions.all())"
   ]
  },
  {
   "cell_type": "markdown",
   "id": "falling-spencer",
   "metadata": {},
   "source": [
    "### Upload the caption to S3"
   ]
  },
  {
   "cell_type": "code",
   "execution_count": 58,
   "id": "distinct-climb",
   "metadata": {},
   "outputs": [
    {
     "data": {
      "text/plain": [
       "True"
      ]
     },
     "execution_count": 58,
     "metadata": {},
     "output_type": "execute_result"
    }
   ],
   "source": [
    "upload_yt_file(f'/tmp/{yt_title}_{code}.txt', object_name=f'levenshteinTests/ytCaptions/{yt_title}.txt')"
   ]
  },
  {
   "cell_type": "markdown",
   "id": "noted-crest",
   "metadata": {},
   "source": [
    "# Generate Levenshtein score \n",
    "To generate the Levenshtein score, we use the Levenshtein distance and substract 1 to generate a metric"
   ]
  },
  {
   "cell_type": "markdown",
   "id": "clear-preserve",
   "metadata": {},
   "source": [
    "### Transform all the data to DataFrames\n",
    "Transform AWS RAW (without custom vocabulary) Transcribe JSON output to DataFrame  "
   ]
  },
  {
   "cell_type": "code",
   "execution_count": 2,
   "id": "dimensional-nudist",
   "metadata": {},
   "outputs": [
    {
     "data": {
      "text/html": [
       "<div>\n",
       "<style scoped>\n",
       "    .dataframe tbody tr th:only-of-type {\n",
       "        vertical-align: middle;\n",
       "    }\n",
       "\n",
       "    .dataframe tbody tr th {\n",
       "        vertical-align: top;\n",
       "    }\n",
       "\n",
       "    .dataframe thead th {\n",
       "        text-align: right;\n",
       "    }\n",
       "</style>\n",
       "<table border=\"1\" class=\"dataframe\">\n",
       "  <thead>\n",
       "    <tr style=\"text-align: right;\">\n",
       "      <th></th>\n",
       "      <th>start</th>\n",
       "      <th>end</th>\n",
       "      <th>transcript</th>\n",
       "    </tr>\n",
       "  </thead>\n",
       "  <tbody>\n",
       "    <tr>\n",
       "      <th>0</th>\n",
       "      <td>0.04</td>\n",
       "      <td>0.51</td>\n",
       "      <td>La</td>\n",
       "    </tr>\n",
       "    <tr>\n",
       "      <th>1</th>\n",
       "      <td>0.51</td>\n",
       "      <td>1.03</td>\n",
       "      <td>Fallida</td>\n",
       "    </tr>\n",
       "    <tr>\n",
       "      <th>2</th>\n",
       "      <td>1.03</td>\n",
       "      <td>1.73</td>\n",
       "      <td>actuación</td>\n",
       "    </tr>\n",
       "    <tr>\n",
       "      <th>3</th>\n",
       "      <td>1.74</td>\n",
       "      <td>1.92</td>\n",
       "      <td>en</td>\n",
       "    </tr>\n",
       "    <tr>\n",
       "      <th>4</th>\n",
       "      <td>1.92</td>\n",
       "      <td>3.08</td>\n",
       "      <td>Rancagua</td>\n",
       "    </tr>\n",
       "  </tbody>\n",
       "</table>\n",
       "</div>"
      ],
      "text/plain": [
       "   start   end transcript\n",
       "0   0.04  0.51         La\n",
       "1   0.51  1.03    Fallida\n",
       "2   1.03  1.73  actuación\n",
       "3   1.74  1.92         en\n",
       "4   1.92  3.08   Rancagua"
      ]
     },
     "execution_count": 2,
     "metadata": {},
     "output_type": "execute_result"
    }
   ],
   "source": [
    "aws_transcribe = aws2df('s3://awstranscribe-tests/levenshteinTests/RAW/utubeVideos/Un_show_FALLIDO_-_Mini_Especial_Rancagua__Edo_Caroe.json')\n",
    "aws_transcribe.head()"
   ]
  },
  {
   "cell_type": "markdown",
   "id": "spare-ownership",
   "metadata": {},
   "source": [
    "Transform AWS IPA (with custom vocabulary) Transcribe JSON to DataFrame"
   ]
  },
  {
   "cell_type": "code",
   "execution_count": 3,
   "id": "substantial-voice",
   "metadata": {},
   "outputs": [
    {
     "data": {
      "text/html": [
       "<div>\n",
       "<style scoped>\n",
       "    .dataframe tbody tr th:only-of-type {\n",
       "        vertical-align: middle;\n",
       "    }\n",
       "\n",
       "    .dataframe tbody tr th {\n",
       "        vertical-align: top;\n",
       "    }\n",
       "\n",
       "    .dataframe thead th {\n",
       "        text-align: right;\n",
       "    }\n",
       "</style>\n",
       "<table border=\"1\" class=\"dataframe\">\n",
       "  <thead>\n",
       "    <tr style=\"text-align: right;\">\n",
       "      <th></th>\n",
       "      <th>start</th>\n",
       "      <th>end</th>\n",
       "      <th>transcript</th>\n",
       "    </tr>\n",
       "  </thead>\n",
       "  <tbody>\n",
       "    <tr>\n",
       "      <th>0</th>\n",
       "      <td>0.04</td>\n",
       "      <td>0.51</td>\n",
       "      <td>La</td>\n",
       "    </tr>\n",
       "    <tr>\n",
       "      <th>1</th>\n",
       "      <td>0.51</td>\n",
       "      <td>1.03</td>\n",
       "      <td>Fallida</td>\n",
       "    </tr>\n",
       "    <tr>\n",
       "      <th>2</th>\n",
       "      <td>1.03</td>\n",
       "      <td>1.73</td>\n",
       "      <td>actuación</td>\n",
       "    </tr>\n",
       "    <tr>\n",
       "      <th>3</th>\n",
       "      <td>1.74</td>\n",
       "      <td>1.92</td>\n",
       "      <td>en</td>\n",
       "    </tr>\n",
       "    <tr>\n",
       "      <th>4</th>\n",
       "      <td>1.92</td>\n",
       "      <td>3.08</td>\n",
       "      <td>Rancagua</td>\n",
       "    </tr>\n",
       "  </tbody>\n",
       "</table>\n",
       "</div>"
      ],
      "text/plain": [
       "   start   end transcript\n",
       "0   0.04  0.51         La\n",
       "1   0.51  1.03    Fallida\n",
       "2   1.03  1.73  actuación\n",
       "3   1.74  1.92         en\n",
       "4   1.92  3.08   Rancagua"
      ]
     },
     "execution_count": 3,
     "metadata": {},
     "output_type": "execute_result"
    }
   ],
   "source": [
    "aws_transcribe_ipa = aws2df('s3://awstranscribe-tests/levenshteinTests/IPA/utubeVideos/Un_show_FALLIDO_-_Mini_Especial_Rancagua__Edo_Caroe.json')\n",
    "aws_transcribe_ipa.head()"
   ]
  },
  {
   "cell_type": "markdown",
   "id": "conceptual-running",
   "metadata": {},
   "source": [
    "Transform custom YouTube caption to DataFrame"
   ]
  },
  {
   "cell_type": "code",
   "execution_count": 4,
   "id": "pediatric-management",
   "metadata": {},
   "outputs": [
    {
     "data": {
      "text/html": [
       "<div>\n",
       "<style scoped>\n",
       "    .dataframe tbody tr th:only-of-type {\n",
       "        vertical-align: middle;\n",
       "    }\n",
       "\n",
       "    .dataframe tbody tr th {\n",
       "        vertical-align: top;\n",
       "    }\n",
       "\n",
       "    .dataframe thead th {\n",
       "        text-align: right;\n",
       "    }\n",
       "</style>\n",
       "<table border=\"1\" class=\"dataframe\">\n",
       "  <thead>\n",
       "    <tr style=\"text-align: right;\">\n",
       "      <th></th>\n",
       "      <th>orig_index</th>\n",
       "      <th>start</th>\n",
       "      <th>end</th>\n",
       "      <th>transcript</th>\n",
       "    </tr>\n",
       "  </thead>\n",
       "  <tbody>\n",
       "    <tr>\n",
       "      <th>0</th>\n",
       "      <td>1</td>\n",
       "      <td>103.916</td>\n",
       "      <td>107.333</td>\n",
       "      <td>¡Me ha traído puros problemas este lugar, weón!</td>\n",
       "    </tr>\n",
       "    <tr>\n",
       "      <th>1</th>\n",
       "      <td>2</td>\n",
       "      <td>110.083</td>\n",
       "      <td>111.375</td>\n",
       "      <td>&lt;b&gt;Me voy a electrocutar ahora, culiao.&lt;/b&gt;</td>\n",
       "    </tr>\n",
       "    <tr>\n",
       "      <th>2</th>\n",
       "      <td>3</td>\n",
       "      <td>111.375</td>\n",
       "      <td>113.541</td>\n",
       "      <td>&lt;b&gt;Te apuesto, eso va a pasar.&lt;/b&gt;</td>\n",
       "    </tr>\n",
       "    <tr>\n",
       "      <th>3</th>\n",
       "      <td>4</td>\n",
       "      <td>114.916</td>\n",
       "      <td>116.833</td>\n",
       "      <td>&lt;b&gt;Tomás, culiao, también.&lt;/b&gt;</td>\n",
       "    </tr>\n",
       "    <tr>\n",
       "      <th>4</th>\n",
       "      <td>5</td>\n",
       "      <td>126.916</td>\n",
       "      <td>128.416</td>\n",
       "      <td>&lt;b&gt;Ay, weón...&lt;/b&gt;</td>\n",
       "    </tr>\n",
       "  </tbody>\n",
       "</table>\n",
       "</div>"
      ],
      "text/plain": [
       "  orig_index    start      end  \\\n",
       "0          1  103.916  107.333   \n",
       "1          2  110.083  111.375   \n",
       "2          3  111.375  113.541   \n",
       "3          4  114.916  116.833   \n",
       "4          5  126.916  128.416   \n",
       "\n",
       "                                        transcript  \n",
       "0  ¡Me ha traído puros problemas este lugar, weón!  \n",
       "1      <b>Me voy a electrocutar ahora, culiao.</b>  \n",
       "2               <b>Te apuesto, eso va a pasar.</b>  \n",
       "3                   <b>Tomás, culiao, también.</b>  \n",
       "4                               <b>Ay, weón...</b>  "
      ]
     },
     "execution_count": 4,
     "metadata": {},
     "output_type": "execute_result"
    }
   ],
   "source": [
    "yt_transcribe = youtube2df('s3://awstranscribe-tests/levenshteinTests/ytCaptions/Un_show_FALLIDO_-_Mini_Especial_Rancagua_|_Edo_Caroe.txt')\n",
    "yt_transcribe.head()"
   ]
  },
  {
   "cell_type": "markdown",
   "id": "developed-usage",
   "metadata": {},
   "source": [
    "Transform aut-generated YouTube caption to DataFrame"
   ]
  },
  {
   "cell_type": "code",
   "execution_count": 5,
   "id": "included-needle",
   "metadata": {},
   "outputs": [
    {
     "data": {
      "text/html": [
       "<div>\n",
       "<style scoped>\n",
       "    .dataframe tbody tr th:only-of-type {\n",
       "        vertical-align: middle;\n",
       "    }\n",
       "\n",
       "    .dataframe tbody tr th {\n",
       "        vertical-align: top;\n",
       "    }\n",
       "\n",
       "    .dataframe thead th {\n",
       "        text-align: right;\n",
       "    }\n",
       "</style>\n",
       "<table border=\"1\" class=\"dataframe\">\n",
       "  <thead>\n",
       "    <tr style=\"text-align: right;\">\n",
       "      <th></th>\n",
       "      <th>orig_index</th>\n",
       "      <th>start</th>\n",
       "      <th>end</th>\n",
       "      <th>transcript</th>\n",
       "    </tr>\n",
       "  </thead>\n",
       "  <tbody>\n",
       "    <tr>\n",
       "      <th>0</th>\n",
       "      <td>37</td>\n",
       "      <td>103.670</td>\n",
       "      <td>107.619</td>\n",
       "      <td>al rededor puro problema de este lugar</td>\n",
       "    </tr>\n",
       "    <tr>\n",
       "      <th>1</th>\n",
       "      <td>38</td>\n",
       "      <td>105.229</td>\n",
       "      <td>107.619</td>\n",
       "      <td>bueno</td>\n",
       "    </tr>\n",
       "    <tr>\n",
       "      <th>2</th>\n",
       "      <td>39</td>\n",
       "      <td>109.670</td>\n",
       "      <td>114.220</td>\n",
       "      <td>puedes preguntar yo ahora es muy alta</td>\n",
       "    </tr>\n",
       "    <tr>\n",
       "      <th>3</th>\n",
       "      <td>40</td>\n",
       "      <td>111.380</td>\n",
       "      <td>114.220</td>\n",
       "      <td>puesto es una pasada</td>\n",
       "    </tr>\n",
       "    <tr>\n",
       "      <th>4</th>\n",
       "      <td>41</td>\n",
       "      <td>114.530</td>\n",
       "      <td>118.150</td>\n",
       "      <td>tomás cuya hora mexicana</td>\n",
       "    </tr>\n",
       "  </tbody>\n",
       "</table>\n",
       "</div>"
      ],
      "text/plain": [
       "  orig_index    start      end                              transcript\n",
       "0         37  103.670  107.619  al rededor puro problema de este lugar\n",
       "1         38  105.229  107.619                                   bueno\n",
       "2         39  109.670  114.220   puedes preguntar yo ahora es muy alta\n",
       "3         40  111.380  114.220                    puesto es una pasada\n",
       "4         41  114.530  118.150                tomás cuya hora mexicana"
      ]
     },
     "execution_count": 5,
     "metadata": {},
     "output_type": "execute_result"
    }
   ],
   "source": [
    "yt_transcribe_raw = youtube2df('s3://awstranscribe-tests/levenshteinTests/ytCaptions/Un_show_FALLIDO_-_Mini_Especial_Rancagua___Edo_Caroe_RAW_2.txt')\n",
    "yt_transcribe_raw.head()"
   ]
  },
  {
   "cell_type": "markdown",
   "id": "established-stewart",
   "metadata": {},
   "source": [
    "### Wrapping all together"
   ]
  },
  {
   "cell_type": "markdown",
   "id": "curious-capture",
   "metadata": {},
   "source": [
    "Create new column on yt_transcribe DataFrame, adding the AWS RAW Transcription"
   ]
  },
  {
   "cell_type": "code",
   "execution_count": 6,
   "id": "complete-chinese",
   "metadata": {},
   "outputs": [
    {
     "data": {
      "text/html": [
       "<div>\n",
       "<style scoped>\n",
       "    .dataframe tbody tr th:only-of-type {\n",
       "        vertical-align: middle;\n",
       "    }\n",
       "\n",
       "    .dataframe tbody tr th {\n",
       "        vertical-align: top;\n",
       "    }\n",
       "\n",
       "    .dataframe thead th {\n",
       "        text-align: right;\n",
       "    }\n",
       "</style>\n",
       "<table border=\"1\" class=\"dataframe\">\n",
       "  <thead>\n",
       "    <tr style=\"text-align: right;\">\n",
       "      <th></th>\n",
       "      <th>orig_index</th>\n",
       "      <th>start</th>\n",
       "      <th>end</th>\n",
       "      <th>transcript</th>\n",
       "      <th>aws_transcript</th>\n",
       "    </tr>\n",
       "  </thead>\n",
       "  <tbody>\n",
       "    <tr>\n",
       "      <th>0</th>\n",
       "      <td>1</td>\n",
       "      <td>103.916</td>\n",
       "      <td>107.333</td>\n",
       "      <td>¡Me ha traído puros problemas este lugar, weón!</td>\n",
       "      <td>lo puro problema este lugar Bueno lo puro prob...</td>\n",
       "    </tr>\n",
       "    <tr>\n",
       "      <th>1</th>\n",
       "      <td>2</td>\n",
       "      <td>110.083</td>\n",
       "      <td>111.375</td>\n",
       "      <td>&lt;b&gt;Me voy a electrocutar ahora, culiao.&lt;/b&gt;</td>\n",
       "      <td>voy a tributar ahora Cuidado voy a tributar ah...</td>\n",
       "    </tr>\n",
       "    <tr>\n",
       "      <th>2</th>\n",
       "      <td>3</td>\n",
       "      <td>111.375</td>\n",
       "      <td>113.541</td>\n",
       "      <td>&lt;b&gt;Te apuesto, eso va a pasar.&lt;/b&gt;</td>\n",
       "      <td>puedes Todo esto va a pasar puedes Todo esto v...</td>\n",
       "    </tr>\n",
       "    <tr>\n",
       "      <th>3</th>\n",
       "      <td>4</td>\n",
       "      <td>114.916</td>\n",
       "      <td>116.833</td>\n",
       "      <td>&lt;b&gt;Tomás, culiao, también.&lt;/b&gt;</td>\n",
       "      <td>Toma Julia Toma Julia</td>\n",
       "    </tr>\n",
       "    <tr>\n",
       "      <th>4</th>\n",
       "      <td>5</td>\n",
       "      <td>126.916</td>\n",
       "      <td>128.416</td>\n",
       "      <td>&lt;b&gt;Ay, weón...&lt;/b&gt;</td>\n",
       "      <td>Hay Hay</td>\n",
       "    </tr>\n",
       "  </tbody>\n",
       "</table>\n",
       "</div>"
      ],
      "text/plain": [
       "  orig_index    start      end  \\\n",
       "0          1  103.916  107.333   \n",
       "1          2  110.083  111.375   \n",
       "2          3  111.375  113.541   \n",
       "3          4  114.916  116.833   \n",
       "4          5  126.916  128.416   \n",
       "\n",
       "                                        transcript  \\\n",
       "0  ¡Me ha traído puros problemas este lugar, weón!   \n",
       "1      <b>Me voy a electrocutar ahora, culiao.</b>   \n",
       "2               <b>Te apuesto, eso va a pasar.</b>   \n",
       "3                   <b>Tomás, culiao, también.</b>   \n",
       "4                               <b>Ay, weón...</b>   \n",
       "\n",
       "                                      aws_transcript  \n",
       "0  lo puro problema este lugar Bueno lo puro prob...  \n",
       "1  voy a tributar ahora Cuidado voy a tributar ah...  \n",
       "2  puedes Todo esto va a pasar puedes Todo esto v...  \n",
       "3                              Toma Julia Toma Julia  \n",
       "4                                            Hay Hay  "
      ]
     },
     "execution_count": 6,
     "metadata": {},
     "output_type": "execute_result"
    }
   ],
   "source": [
    "yt_transcribe['aws_transcript'] = compress(yt_transcribe, aws_transcribe)\n",
    "yt_transcribe.head()"
   ]
  },
  {
   "cell_type": "markdown",
   "id": "threatened-importance",
   "metadata": {},
   "source": [
    "Create new column on yt_transcribe DataFrame, adding the AWS IPA Transcription"
   ]
  },
  {
   "cell_type": "code",
   "execution_count": 7,
   "id": "heavy-malta",
   "metadata": {},
   "outputs": [
    {
     "data": {
      "text/html": [
       "<div>\n",
       "<style scoped>\n",
       "    .dataframe tbody tr th:only-of-type {\n",
       "        vertical-align: middle;\n",
       "    }\n",
       "\n",
       "    .dataframe tbody tr th {\n",
       "        vertical-align: top;\n",
       "    }\n",
       "\n",
       "    .dataframe thead th {\n",
       "        text-align: right;\n",
       "    }\n",
       "</style>\n",
       "<table border=\"1\" class=\"dataframe\">\n",
       "  <thead>\n",
       "    <tr style=\"text-align: right;\">\n",
       "      <th></th>\n",
       "      <th>orig_index</th>\n",
       "      <th>start</th>\n",
       "      <th>end</th>\n",
       "      <th>transcript</th>\n",
       "      <th>aws_transcript</th>\n",
       "      <th>aws_transcript_ipa</th>\n",
       "    </tr>\n",
       "  </thead>\n",
       "  <tbody>\n",
       "    <tr>\n",
       "      <th>0</th>\n",
       "      <td>1</td>\n",
       "      <td>103.916</td>\n",
       "      <td>107.333</td>\n",
       "      <td>¡Me ha traído puros problemas este lugar, weón!</td>\n",
       "      <td>lo puro problema este lugar Bueno lo puro prob...</td>\n",
       "      <td>lo puro problema este lugar Bueno lo puro prob...</td>\n",
       "    </tr>\n",
       "    <tr>\n",
       "      <th>1</th>\n",
       "      <td>2</td>\n",
       "      <td>110.083</td>\n",
       "      <td>111.375</td>\n",
       "      <td>&lt;b&gt;Me voy a electrocutar ahora, culiao.&lt;/b&gt;</td>\n",
       "      <td>voy a tributar ahora Cuidado voy a tributar ah...</td>\n",
       "      <td>voy a tributar ahora Cuidado voy a tributar ah...</td>\n",
       "    </tr>\n",
       "    <tr>\n",
       "      <th>2</th>\n",
       "      <td>3</td>\n",
       "      <td>111.375</td>\n",
       "      <td>113.541</td>\n",
       "      <td>&lt;b&gt;Te apuesto, eso va a pasar.&lt;/b&gt;</td>\n",
       "      <td>puedes Todo esto va a pasar puedes Todo esto v...</td>\n",
       "      <td>puedes Todo esto va a pasar puedes Todo esto v...</td>\n",
       "    </tr>\n",
       "    <tr>\n",
       "      <th>3</th>\n",
       "      <td>4</td>\n",
       "      <td>114.916</td>\n",
       "      <td>116.833</td>\n",
       "      <td>&lt;b&gt;Tomás, culiao, también.&lt;/b&gt;</td>\n",
       "      <td>Toma Julia Toma Julia</td>\n",
       "      <td>Tomas culiao Tomas culiao</td>\n",
       "    </tr>\n",
       "    <tr>\n",
       "      <th>4</th>\n",
       "      <td>5</td>\n",
       "      <td>126.916</td>\n",
       "      <td>128.416</td>\n",
       "      <td>&lt;b&gt;Ay, weón...&lt;/b&gt;</td>\n",
       "      <td>Hay Hay</td>\n",
       "      <td>hay hay</td>\n",
       "    </tr>\n",
       "  </tbody>\n",
       "</table>\n",
       "</div>"
      ],
      "text/plain": [
       "  orig_index    start      end  \\\n",
       "0          1  103.916  107.333   \n",
       "1          2  110.083  111.375   \n",
       "2          3  111.375  113.541   \n",
       "3          4  114.916  116.833   \n",
       "4          5  126.916  128.416   \n",
       "\n",
       "                                        transcript  \\\n",
       "0  ¡Me ha traído puros problemas este lugar, weón!   \n",
       "1      <b>Me voy a electrocutar ahora, culiao.</b>   \n",
       "2               <b>Te apuesto, eso va a pasar.</b>   \n",
       "3                   <b>Tomás, culiao, también.</b>   \n",
       "4                               <b>Ay, weón...</b>   \n",
       "\n",
       "                                      aws_transcript  \\\n",
       "0  lo puro problema este lugar Bueno lo puro prob...   \n",
       "1  voy a tributar ahora Cuidado voy a tributar ah...   \n",
       "2  puedes Todo esto va a pasar puedes Todo esto v...   \n",
       "3                              Toma Julia Toma Julia   \n",
       "4                                            Hay Hay   \n",
       "\n",
       "                                  aws_transcript_ipa  \n",
       "0  lo puro problema este lugar Bueno lo puro prob...  \n",
       "1  voy a tributar ahora Cuidado voy a tributar ah...  \n",
       "2  puedes Todo esto va a pasar puedes Todo esto v...  \n",
       "3                          Tomas culiao Tomas culiao  \n",
       "4                                            hay hay  "
      ]
     },
     "execution_count": 7,
     "metadata": {},
     "output_type": "execute_result"
    }
   ],
   "source": [
    "yt_transcribe['aws_transcript_ipa'] = compress(yt_transcribe, aws_transcribe_ipa)\n",
    "yt_transcribe.head()"
   ]
  },
  {
   "cell_type": "code",
   "execution_count": 8,
   "id": "offshore-blank",
   "metadata": {},
   "outputs": [
    {
     "data": {
      "text/html": [
       "<div>\n",
       "<style scoped>\n",
       "    .dataframe tbody tr th:only-of-type {\n",
       "        vertical-align: middle;\n",
       "    }\n",
       "\n",
       "    .dataframe tbody tr th {\n",
       "        vertical-align: top;\n",
       "    }\n",
       "\n",
       "    .dataframe thead th {\n",
       "        text-align: right;\n",
       "    }\n",
       "</style>\n",
       "<table border=\"1\" class=\"dataframe\">\n",
       "  <thead>\n",
       "    <tr style=\"text-align: right;\">\n",
       "      <th></th>\n",
       "      <th>orig_index</th>\n",
       "      <th>start</th>\n",
       "      <th>end</th>\n",
       "      <th>transcript</th>\n",
       "      <th>aws_transcript</th>\n",
       "      <th>aws_transcript_ipa</th>\n",
       "      <th>yt_transcript</th>\n",
       "    </tr>\n",
       "  </thead>\n",
       "  <tbody>\n",
       "    <tr>\n",
       "      <th>0</th>\n",
       "      <td>1</td>\n",
       "      <td>103.916</td>\n",
       "      <td>107.333</td>\n",
       "      <td>¡Me ha traído puros problemas este lugar, weón!</td>\n",
       "      <td>lo puro problema este lugar Bueno lo puro prob...</td>\n",
       "      <td>lo puro problema este lugar Bueno lo puro prob...</td>\n",
       "      <td>al rededor puro problema de este lugar</td>\n",
       "    </tr>\n",
       "    <tr>\n",
       "      <th>1</th>\n",
       "      <td>2</td>\n",
       "      <td>110.083</td>\n",
       "      <td>111.375</td>\n",
       "      <td>&lt;b&gt;Me voy a electrocutar ahora, culiao.&lt;/b&gt;</td>\n",
       "      <td>voy a tributar ahora Cuidado voy a tributar ah...</td>\n",
       "      <td>voy a tributar ahora Cuidado voy a tributar ah...</td>\n",
       "      <td>bueno</td>\n",
       "    </tr>\n",
       "    <tr>\n",
       "      <th>2</th>\n",
       "      <td>3</td>\n",
       "      <td>111.375</td>\n",
       "      <td>113.541</td>\n",
       "      <td>&lt;b&gt;Te apuesto, eso va a pasar.&lt;/b&gt;</td>\n",
       "      <td>puedes Todo esto va a pasar puedes Todo esto v...</td>\n",
       "      <td>puedes Todo esto va a pasar puedes Todo esto v...</td>\n",
       "      <td>puedes preguntar yo ahora es muy alta</td>\n",
       "    </tr>\n",
       "    <tr>\n",
       "      <th>3</th>\n",
       "      <td>4</td>\n",
       "      <td>114.916</td>\n",
       "      <td>116.833</td>\n",
       "      <td>&lt;b&gt;Tomás, culiao, también.&lt;/b&gt;</td>\n",
       "      <td>Toma Julia Toma Julia</td>\n",
       "      <td>Tomas culiao Tomas culiao</td>\n",
       "      <td>puesto es una pasada</td>\n",
       "    </tr>\n",
       "    <tr>\n",
       "      <th>4</th>\n",
       "      <td>5</td>\n",
       "      <td>126.916</td>\n",
       "      <td>128.416</td>\n",
       "      <td>&lt;b&gt;Ay, weón...&lt;/b&gt;</td>\n",
       "      <td>Hay Hay</td>\n",
       "      <td>hay hay</td>\n",
       "      <td>tomás cuya hora mexicana</td>\n",
       "    </tr>\n",
       "  </tbody>\n",
       "</table>\n",
       "</div>"
      ],
      "text/plain": [
       "  orig_index    start      end  \\\n",
       "0          1  103.916  107.333   \n",
       "1          2  110.083  111.375   \n",
       "2          3  111.375  113.541   \n",
       "3          4  114.916  116.833   \n",
       "4          5  126.916  128.416   \n",
       "\n",
       "                                        transcript  \\\n",
       "0  ¡Me ha traído puros problemas este lugar, weón!   \n",
       "1      <b>Me voy a electrocutar ahora, culiao.</b>   \n",
       "2               <b>Te apuesto, eso va a pasar.</b>   \n",
       "3                   <b>Tomás, culiao, también.</b>   \n",
       "4                               <b>Ay, weón...</b>   \n",
       "\n",
       "                                      aws_transcript  \\\n",
       "0  lo puro problema este lugar Bueno lo puro prob...   \n",
       "1  voy a tributar ahora Cuidado voy a tributar ah...   \n",
       "2  puedes Todo esto va a pasar puedes Todo esto v...   \n",
       "3                              Toma Julia Toma Julia   \n",
       "4                                            Hay Hay   \n",
       "\n",
       "                                  aws_transcript_ipa  \\\n",
       "0  lo puro problema este lugar Bueno lo puro prob...   \n",
       "1  voy a tributar ahora Cuidado voy a tributar ah...   \n",
       "2  puedes Todo esto va a pasar puedes Todo esto v...   \n",
       "3                          Tomas culiao Tomas culiao   \n",
       "4                                            hay hay   \n",
       "\n",
       "                            yt_transcript  \n",
       "0  al rededor puro problema de este lugar  \n",
       "1                                   bueno  \n",
       "2   puedes preguntar yo ahora es muy alta  \n",
       "3                    puesto es una pasada  \n",
       "4                tomás cuya hora mexicana  "
      ]
     },
     "execution_count": 8,
     "metadata": {},
     "output_type": "execute_result"
    }
   ],
   "source": [
    "yt_transcribe['yt_transcript'] = yt_transcribe_raw['transcript']\n",
    "yt_transcribe.head()"
   ]
  },
  {
   "cell_type": "markdown",
   "id": "colored-honey",
   "metadata": {},
   "source": [
    "Show the final form of the yt_transcribe DataFrame"
   ]
  },
  {
   "cell_type": "code",
   "execution_count": 9,
   "id": "general-dividend",
   "metadata": {},
   "outputs": [
    {
     "data": {
      "text/html": [
       "<div>\n",
       "<style scoped>\n",
       "    .dataframe tbody tr th:only-of-type {\n",
       "        vertical-align: middle;\n",
       "    }\n",
       "\n",
       "    .dataframe tbody tr th {\n",
       "        vertical-align: top;\n",
       "    }\n",
       "\n",
       "    .dataframe thead th {\n",
       "        text-align: right;\n",
       "    }\n",
       "</style>\n",
       "<table border=\"1\" class=\"dataframe\">\n",
       "  <thead>\n",
       "    <tr style=\"text-align: right;\">\n",
       "      <th></th>\n",
       "      <th>orig_index</th>\n",
       "      <th>start</th>\n",
       "      <th>end</th>\n",
       "      <th>transcript</th>\n",
       "      <th>aws_transcript</th>\n",
       "      <th>aws_transcript_ipa</th>\n",
       "      <th>yt_transcript</th>\n",
       "    </tr>\n",
       "  </thead>\n",
       "  <tbody>\n",
       "    <tr>\n",
       "      <th>0</th>\n",
       "      <td>1</td>\n",
       "      <td>103.916</td>\n",
       "      <td>107.333</td>\n",
       "      <td>¡Me ha traído puros problemas este lugar, weón!</td>\n",
       "      <td>lo puro problema este lugar Bueno lo puro prob...</td>\n",
       "      <td>lo puro problema este lugar Bueno lo puro prob...</td>\n",
       "      <td>al rededor puro problema de este lugar</td>\n",
       "    </tr>\n",
       "    <tr>\n",
       "      <th>1</th>\n",
       "      <td>2</td>\n",
       "      <td>110.083</td>\n",
       "      <td>111.375</td>\n",
       "      <td>&lt;b&gt;Me voy a electrocutar ahora, culiao.&lt;/b&gt;</td>\n",
       "      <td>voy a tributar ahora Cuidado voy a tributar ah...</td>\n",
       "      <td>voy a tributar ahora Cuidado voy a tributar ah...</td>\n",
       "      <td>bueno</td>\n",
       "    </tr>\n",
       "    <tr>\n",
       "      <th>2</th>\n",
       "      <td>3</td>\n",
       "      <td>111.375</td>\n",
       "      <td>113.541</td>\n",
       "      <td>&lt;b&gt;Te apuesto, eso va a pasar.&lt;/b&gt;</td>\n",
       "      <td>puedes Todo esto va a pasar puedes Todo esto v...</td>\n",
       "      <td>puedes Todo esto va a pasar puedes Todo esto v...</td>\n",
       "      <td>puedes preguntar yo ahora es muy alta</td>\n",
       "    </tr>\n",
       "    <tr>\n",
       "      <th>3</th>\n",
       "      <td>4</td>\n",
       "      <td>114.916</td>\n",
       "      <td>116.833</td>\n",
       "      <td>&lt;b&gt;Tomás, culiao, también.&lt;/b&gt;</td>\n",
       "      <td>Toma Julia Toma Julia</td>\n",
       "      <td>Tomas culiao Tomas culiao</td>\n",
       "      <td>puesto es una pasada</td>\n",
       "    </tr>\n",
       "    <tr>\n",
       "      <th>4</th>\n",
       "      <td>5</td>\n",
       "      <td>126.916</td>\n",
       "      <td>128.416</td>\n",
       "      <td>&lt;b&gt;Ay, weón...&lt;/b&gt;</td>\n",
       "      <td>Hay Hay</td>\n",
       "      <td>hay hay</td>\n",
       "      <td>tomás cuya hora mexicana</td>\n",
       "    </tr>\n",
       "  </tbody>\n",
       "</table>\n",
       "</div>"
      ],
      "text/plain": [
       "  orig_index    start      end  \\\n",
       "0          1  103.916  107.333   \n",
       "1          2  110.083  111.375   \n",
       "2          3  111.375  113.541   \n",
       "3          4  114.916  116.833   \n",
       "4          5  126.916  128.416   \n",
       "\n",
       "                                        transcript  \\\n",
       "0  ¡Me ha traído puros problemas este lugar, weón!   \n",
       "1      <b>Me voy a electrocutar ahora, culiao.</b>   \n",
       "2               <b>Te apuesto, eso va a pasar.</b>   \n",
       "3                   <b>Tomás, culiao, también.</b>   \n",
       "4                               <b>Ay, weón...</b>   \n",
       "\n",
       "                                      aws_transcript  \\\n",
       "0  lo puro problema este lugar Bueno lo puro prob...   \n",
       "1  voy a tributar ahora Cuidado voy a tributar ah...   \n",
       "2  puedes Todo esto va a pasar puedes Todo esto v...   \n",
       "3                              Toma Julia Toma Julia   \n",
       "4                                            Hay Hay   \n",
       "\n",
       "                                  aws_transcript_ipa  \\\n",
       "0  lo puro problema este lugar Bueno lo puro prob...   \n",
       "1  voy a tributar ahora Cuidado voy a tributar ah...   \n",
       "2  puedes Todo esto va a pasar puedes Todo esto v...   \n",
       "3                          Tomas culiao Tomas culiao   \n",
       "4                                            hay hay   \n",
       "\n",
       "                            yt_transcript  \n",
       "0  al rededor puro problema de este lugar  \n",
       "1                                   bueno  \n",
       "2   puedes preguntar yo ahora es muy alta  \n",
       "3                    puesto es una pasada  \n",
       "4                tomás cuya hora mexicana  "
      ]
     },
     "execution_count": 9,
     "metadata": {},
     "output_type": "execute_result"
    }
   ],
   "source": [
    "yt_transcribe.head()"
   ]
  },
  {
   "cell_type": "markdown",
   "id": "settled-presence",
   "metadata": {},
   "source": [
    "### Generate the Levenshtein score\n",
    "\n",
    "Generate the score and create a DataFrame to show as boxplot"
   ]
  },
  {
   "cell_type": "code",
   "execution_count": 11,
   "id": "boolean-printer",
   "metadata": {},
   "outputs": [],
   "source": [
    "yt_transcribe['lv_score_yt_to_raw'] = lv_score(yt_transcribe['transcript'], yt_transcribe['aws_transcript'])\n",
    "yt_transcribe['lv_score_yt_to_ipa'] = lv_score(yt_transcribe['transcript'], yt_transcribe['aws_transcript_ipa'])\n",
    "yt_transcribe['lv_score_yt_to_yt'] = lv_score(yt_transcribe['transcript'], yt_transcribe['yt_transcript'])\n",
    "ipa_tuple = [('real_to_ipa', a_score) for a_score in yt_transcribe['lv_score_yt_to_ipa']]\n",
    "raw_tuple = [('real_to_raw', a_score) for a_score in yt_transcribe['lv_score_yt_to_raw']]\n",
    "yt_transcript_tuple = [('yt_to_yt', a_score) for a_score in yt_transcribe['lv_score_yt_to_yt']]\n",
    "df =  pd.DataFrame(ipa_tuple + raw_tuple + yt_transcript_tuple, columns = ['model', 'score'])\n"
   ]
  },
  {
   "cell_type": "markdown",
   "id": "derived-audience",
   "metadata": {},
   "source": [
    "### Means"
   ]
  },
  {
   "cell_type": "code",
   "execution_count": 14,
   "id": "brutal-secretary",
   "metadata": {},
   "outputs": [
    {
     "data": {
      "text/plain": [
       "0.36692297488096753"
      ]
     },
     "execution_count": 14,
     "metadata": {},
     "output_type": "execute_result"
    }
   ],
   "source": [
    "yt_transcribe['lv_score_yt_to_raw'].mean()"
   ]
  },
  {
   "cell_type": "code",
   "execution_count": 15,
   "id": "legendary-tumor",
   "metadata": {},
   "outputs": [
    {
     "data": {
      "text/plain": [
       "0.3654612039092593"
      ]
     },
     "execution_count": 15,
     "metadata": {},
     "output_type": "execute_result"
    }
   ],
   "source": [
    "yt_transcribe['lv_score_yt_to_ipa'].mean()"
   ]
  },
  {
   "cell_type": "code",
   "execution_count": 13,
   "id": "ideal-browser",
   "metadata": {},
   "outputs": [
    {
     "data": {
      "text/plain": [
       "0.9960161367050334"
      ]
     },
     "execution_count": 13,
     "metadata": {},
     "output_type": "execute_result"
    }
   ],
   "source": [
    "yt_transcribe['lv_score_yt_to_ipa'].mean() / yt_transcribe['lv_score_yt_to_raw'].mean()"
   ]
  },
  {
   "cell_type": "markdown",
   "id": "searching-animation",
   "metadata": {},
   "source": [
    "Show the score as boxplot"
   ]
  },
  {
   "cell_type": "code",
   "execution_count": 12,
   "id": "alive-spanish",
   "metadata": {},
   "outputs": [
    {
     "data": {
      "image/png": "[encoded data removed]",
      "text/plain": [
       "<Figure size 432x288 with 1 Axes>"
      ]
     },
     "metadata": {
      "needs_background": "light"
     },
     "output_type": "display_data"
    }
   ],
   "source": [
    "sns.boxplot(data=df, x='model', y='score')\n",
    "plt.show()"
   ]
  },
  {
   "cell_type": "markdown",
   "id": "brilliant-gentleman",
   "metadata": {},
   "source": [
    "# IPA Shuffle Dictionary\n",
    "From our universe of 124 words we'll randomly select N number of words and create a new dictionary: IPA_Shuffle"
   ]
  },
  {
   "cell_type": "code",
   "execution_count": 22,
   "id": "advised-upgrade",
   "metadata": {},
   "outputs": [
    {
     "name": "stdout",
     "output_type": "stream",
     "text": [
      "Updating Vocab: IPA_Shuffle\n",
      " {'VocabularyName': 'IPA_Shuffle', 'LanguageCode': 'es-ES', 'VocabularyState': 'PENDING', 'ResponseMetadata': {'RequestId': '090cfeac-e0d5-485c-a9b7-7f25a8ce2bb8', 'HTTPStatusCode': 200, 'HTTPHeaders': {'content-type': 'application/x-amz-json-1.1', 'date': 'Thu, 04 Mar 2021 22:07:10 GMT', 'x-amzn-requestid': '090cfeac-e0d5-485c-a9b7-7f25a8ce2bb8', 'content-length': '83', 'connection': 'keep-alive'}, 'RetryAttempts': 0}}\n"
     ]
    }
   ],
   "source": [
    "vocabulary_shuffle()"
   ]
  },
  {
   "cell_type": "markdown",
   "id": "effective-bennett",
   "metadata": {},
   "source": [
    "# Playin with Data"
   ]
  },
  {
   "cell_type": "code",
   "execution_count": 11,
   "id": "labeled-framework",
   "metadata": {},
   "outputs": [
    {
     "data": {
      "text/html": [
       "<div>\n",
       "<style scoped>\n",
       "    .dataframe tbody tr th:only-of-type {\n",
       "        vertical-align: middle;\n",
       "    }\n",
       "\n",
       "    .dataframe tbody tr th {\n",
       "        vertical-align: top;\n",
       "    }\n",
       "\n",
       "    .dataframe thead th {\n",
       "        text-align: right;\n",
       "    }\n",
       "</style>\n",
       "<table border=\"1\" class=\"dataframe\">\n",
       "  <thead>\n",
       "    <tr style=\"text-align: right;\">\n",
       "      <th></th>\n",
       "      <th>start</th>\n",
       "      <th>end</th>\n",
       "      <th>transcript</th>\n",
       "    </tr>\n",
       "  </thead>\n",
       "  <tbody>\n",
       "    <tr>\n",
       "      <th>0</th>\n",
       "      <td>0.04</td>\n",
       "      <td>0.51</td>\n",
       "      <td>La</td>\n",
       "    </tr>\n",
       "    <tr>\n",
       "      <th>1</th>\n",
       "      <td>0.51</td>\n",
       "      <td>1.03</td>\n",
       "      <td>Fallida</td>\n",
       "    </tr>\n",
       "    <tr>\n",
       "      <th>2</th>\n",
       "      <td>1.03</td>\n",
       "      <td>1.73</td>\n",
       "      <td>actuación</td>\n",
       "    </tr>\n",
       "    <tr>\n",
       "      <th>3</th>\n",
       "      <td>1.74</td>\n",
       "      <td>1.92</td>\n",
       "      <td>en</td>\n",
       "    </tr>\n",
       "    <tr>\n",
       "      <th>4</th>\n",
       "      <td>1.92</td>\n",
       "      <td>3.08</td>\n",
       "      <td>Rancagua</td>\n",
       "    </tr>\n",
       "  </tbody>\n",
       "</table>\n",
       "</div>"
      ],
      "text/plain": [
       "   start   end transcript\n",
       "0   0.04  0.51         La\n",
       "1   0.51  1.03    Fallida\n",
       "2   1.03  1.73  actuación\n",
       "3   1.74  1.92         en\n",
       "4   1.92  3.08   Rancagua"
      ]
     },
     "execution_count": 11,
     "metadata": {},
     "output_type": "execute_result"
    }
   ],
   "source": [
    "aws_transcribe = aws2df('s3://awstranscribe-tests/levenshteinTests/RAW/utubeVideos/Un_show_FALLIDO_-_Mini_Especial_Rancagua__Edo_Caroe.json')\n",
    "aws_transcribe.head()"
   ]
  },
  {
   "cell_type": "code",
   "execution_count": 18,
   "id": "incorporate-pixel",
   "metadata": {},
   "outputs": [],
   "source": [
    "data_loc = get_folder_list(key='levenshteinTests/RAW/')\n",
    "videos = [i for i in data_loc if i.find('deo_0_') != -1]"
   ]
  },
  {
   "cell_type": "code",
   "execution_count": 19,
   "id": "medium-danger",
   "metadata": {},
   "outputs": [],
   "source": [
    "video_reference = 's3://awstranscribe-tests/levenshteinTests/RAW/deo_0_16kHz_fraction_50.json'\n",
    "real_reference = 's3://awstranscribe-tests/levenshteinTests/ytCaptions/Un_show_FALLIDO_-_Mini_Especial_Rancagua_|_Edo_Caroe.txt'\n",
    "video_reference_df = aws2df(video_reference)\n",
    "real_reference_df = youtube2df(real_reference)\n",
    "\n",
    "lv_scores = []\n",
    "for video in videos:\n",
    "    if video == 's3://awstranscribe-tests/levenshteinTests/RAW/deo_0_16kHz_fraction_50.json':\n",
    "        continue\n",
    "    file_name = os.path.basename(video)\n",
    "    compared_df = compress(real_reference_df, aws2df(video))\n",
    "    scores = lv_score(real_reference_df['transcript'], aws2df(video)['transcript'])\n",
    "    real_reference_df[f'{file_name}'] = compared_df\n",
    "    real_reference_df[f'{file_name}_score'] = lv_score(real_reference_df['transcript'], real_reference_df[file_name])\n",
    "    \n",
    "\n",
    "    tp = (file_name, scores)\n",
    "    lv_scores.append(tp)\n",
    "\n"
   ]
  },
  {
   "cell_type": "code",
   "execution_count": 20,
   "id": "metric-cooling",
   "metadata": {},
   "outputs": [
    {
     "data": {
      "text/plain": [
       "orig_index                                                              inf\n",
       "start                                                            922.154061\n",
       "end                                                              924.004200\n",
       "deo_0_with_construction_16kHz_fraction_50_enhanced.json_score      0.169532\n",
       "deo_0_with_construction_16kHz_fraction_50_noisy.json_score         0.048973\n",
       "deo_0_with_crowd_16kHz_fraction_50_enhanced.json_score             0.184115\n",
       "deo_0_with_crowd_16kHz_fraction_50_noisy.json_score                0.079106\n",
       "deo_0_with_noise_16kHz_fraction_50_enhanced.json_score             0.188938\n",
       "deo_0_with_noise_16kHz_fraction_50_noisy.json_score                0.112845\n",
       "dtype: float64"
      ]
     },
     "execution_count": 20,
     "metadata": {},
     "output_type": "execute_result"
    }
   ],
   "source": [
    "real_reference_df.mean()"
   ]
  },
  {
   "cell_type": "code",
   "execution_count": 60,
   "id": "higher-turkish",
   "metadata": {},
   "outputs": [
    {
     "data": {
      "text/html": [
       "<div>\n",
       "<style scoped>\n",
       "    .dataframe tbody tr th:only-of-type {\n",
       "        vertical-align: middle;\n",
       "    }\n",
       "\n",
       "    .dataframe tbody tr th {\n",
       "        vertical-align: top;\n",
       "    }\n",
       "\n",
       "    .dataframe thead th {\n",
       "        text-align: right;\n",
       "    }\n",
       "</style>\n",
       "<table border=\"1\" class=\"dataframe\">\n",
       "  <thead>\n",
       "    <tr style=\"text-align: right;\">\n",
       "      <th></th>\n",
       "      <th>orig_index</th>\n",
       "      <th>start</th>\n",
       "      <th>end</th>\n",
       "      <th>transcript</th>\n",
       "      <th>deo_0_with_construction_16kHz_fraction_50_enhanced.json</th>\n",
       "      <th>deo_0_with_construction_16kHz_fraction_50_enhanced.json_score</th>\n",
       "      <th>deo_0_with_construction_16kHz_fraction_50_noisy.json</th>\n",
       "      <th>deo_0_with_construction_16kHz_fraction_50_noisy.json_score</th>\n",
       "      <th>deo_0_with_crowd_16kHz_fraction_50_enhanced.json</th>\n",
       "      <th>deo_0_with_crowd_16kHz_fraction_50_enhanced.json_score</th>\n",
       "      <th>deo_0_with_crowd_16kHz_fraction_50_noisy.json</th>\n",
       "      <th>deo_0_with_crowd_16kHz_fraction_50_noisy.json_score</th>\n",
       "      <th>deo_0_with_noise_16kHz_fraction_50_enhanced.json</th>\n",
       "      <th>deo_0_with_noise_16kHz_fraction_50_enhanced.json_score</th>\n",
       "      <th>deo_0_with_noise_16kHz_fraction_50_noisy.json</th>\n",
       "      <th>deo_0_with_noise_16kHz_fraction_50_noisy.json_score</th>\n",
       "    </tr>\n",
       "  </thead>\n",
       "  <tbody>\n",
       "    <tr>\n",
       "      <th>2</th>\n",
       "      <td>3</td>\n",
       "      <td>111.375</td>\n",
       "      <td>113.541</td>\n",
       "      <td>&lt;b&gt;Te apuesto, eso va a pasar.&lt;/b&gt;</td>\n",
       "      <td></td>\n",
       "      <td>0.0</td>\n",
       "      <td></td>\n",
       "      <td>0.0</td>\n",
       "      <td>puedes todo eso va a pasar</td>\n",
       "      <td>0.653846</td>\n",
       "      <td>puedes saber qué va a</td>\n",
       "      <td>0.28</td>\n",
       "      <td>Pues todo esto va a pasar</td>\n",
       "      <td>0.680000</td>\n",
       "      <td>puedes ver qué va a pasar</td>\n",
       "      <td>0.48</td>\n",
       "    </tr>\n",
       "    <tr>\n",
       "      <th>37</th>\n",
       "      <td>38</td>\n",
       "      <td>226.500</td>\n",
       "      <td>227.916</td>\n",
       "      <td>&lt;b&gt;Entonces...&lt;/b&gt;</td>\n",
       "      <td></td>\n",
       "      <td>0.0</td>\n",
       "      <td></td>\n",
       "      <td>0.0</td>\n",
       "      <td>un cáncer</td>\n",
       "      <td>0.444444</td>\n",
       "      <td></td>\n",
       "      <td>0.00</td>\n",
       "      <td>entonces</td>\n",
       "      <td>1.000000</td>\n",
       "      <td></td>\n",
       "      <td>0.00</td>\n",
       "    </tr>\n",
       "    <tr>\n",
       "      <th>38</th>\n",
       "      <td>39</td>\n",
       "      <td>227.958</td>\n",
       "      <td>228.958</td>\n",
       "      <td>&lt;b&gt;¿Tatán?&lt;/b&gt;</td>\n",
       "      <td></td>\n",
       "      <td>0.0</td>\n",
       "      <td></td>\n",
       "      <td>0.0</td>\n",
       "      <td>Papa</td>\n",
       "      <td>0.400000</td>\n",
       "      <td></td>\n",
       "      <td>0.00</td>\n",
       "      <td></td>\n",
       "      <td>0.000000</td>\n",
       "      <td></td>\n",
       "      <td>0.00</td>\n",
       "    </tr>\n",
       "    <tr>\n",
       "      <th>50</th>\n",
       "      <td>51</td>\n",
       "      <td>253.875</td>\n",
       "      <td>254.333</td>\n",
       "      <td>&lt;b&gt;Claro&lt;/b&gt;</td>\n",
       "      <td></td>\n",
       "      <td>0.0</td>\n",
       "      <td></td>\n",
       "      <td>0.0</td>\n",
       "      <td></td>\n",
       "      <td>0.000000</td>\n",
       "      <td></td>\n",
       "      <td>0.00</td>\n",
       "      <td></td>\n",
       "      <td>0.000000</td>\n",
       "      <td></td>\n",
       "      <td>0.00</td>\n",
       "    </tr>\n",
       "    <tr>\n",
       "      <th>62</th>\n",
       "      <td>63</td>\n",
       "      <td>290.916</td>\n",
       "      <td>291.916</td>\n",
       "      <td>&lt;b&gt;Oye&lt;/b&gt;</td>\n",
       "      <td></td>\n",
       "      <td>0.0</td>\n",
       "      <td></td>\n",
       "      <td>0.0</td>\n",
       "      <td>hoy</td>\n",
       "      <td>0.333333</td>\n",
       "      <td></td>\n",
       "      <td>0.00</td>\n",
       "      <td>hoy</td>\n",
       "      <td>0.333333</td>\n",
       "      <td></td>\n",
       "      <td>0.00</td>\n",
       "    </tr>\n",
       "    <tr>\n",
       "      <th>...</th>\n",
       "      <td>...</td>\n",
       "      <td>...</td>\n",
       "      <td>...</td>\n",
       "      <td>...</td>\n",
       "      <td>...</td>\n",
       "      <td>...</td>\n",
       "      <td>...</td>\n",
       "      <td>...</td>\n",
       "      <td>...</td>\n",
       "      <td>...</td>\n",
       "      <td>...</td>\n",
       "      <td>...</td>\n",
       "      <td>...</td>\n",
       "      <td>...</td>\n",
       "      <td>...</td>\n",
       "      <td>...</td>\n",
       "    </tr>\n",
       "    <tr>\n",
       "      <th>565</th>\n",
       "      <td>566</td>\n",
       "      <td>1760.833</td>\n",
       "      <td>1762.458</td>\n",
       "      <td>&lt;b&gt;era sin huevo.&lt;/b&gt;</td>\n",
       "      <td></td>\n",
       "      <td>0.0</td>\n",
       "      <td></td>\n",
       "      <td>0.0</td>\n",
       "      <td></td>\n",
       "      <td>0.000000</td>\n",
       "      <td></td>\n",
       "      <td>0.00</td>\n",
       "      <td></td>\n",
       "      <td>0.000000</td>\n",
       "      <td></td>\n",
       "      <td>0.00</td>\n",
       "    </tr>\n",
       "    <tr>\n",
       "      <th>566</th>\n",
       "      <td>567</td>\n",
       "      <td>1763.958</td>\n",
       "      <td>1766.958</td>\n",
       "      <td>&lt;b&gt;Rancagua buenas noches, muchas gracias.&lt;/b&gt;</td>\n",
       "      <td></td>\n",
       "      <td>0.0</td>\n",
       "      <td></td>\n",
       "      <td>0.0</td>\n",
       "      <td></td>\n",
       "      <td>0.000000</td>\n",
       "      <td></td>\n",
       "      <td>0.00</td>\n",
       "      <td></td>\n",
       "      <td>0.000000</td>\n",
       "      <td></td>\n",
       "      <td>0.00</td>\n",
       "    </tr>\n",
       "    <tr>\n",
       "      <th>567</th>\n",
       "      <td>568</td>\n",
       "      <td>1767.083</td>\n",
       "      <td>1770.083</td>\n",
       "      <td>&lt;b&gt;Muchas, muchas gracias por estar acá.&lt;/b&gt;</td>\n",
       "      <td></td>\n",
       "      <td>0.0</td>\n",
       "      <td></td>\n",
       "      <td>0.0</td>\n",
       "      <td></td>\n",
       "      <td>0.000000</td>\n",
       "      <td></td>\n",
       "      <td>0.00</td>\n",
       "      <td></td>\n",
       "      <td>0.000000</td>\n",
       "      <td></td>\n",
       "      <td>0.00</td>\n",
       "    </tr>\n",
       "    <tr>\n",
       "      <th>568</th>\n",
       "      <td>569</td>\n",
       "      <td>1770.708</td>\n",
       "      <td>1771.708</td>\n",
       "      <td>&lt;b&gt;Espero&lt;/b&gt;</td>\n",
       "      <td></td>\n",
       "      <td>0.0</td>\n",
       "      <td></td>\n",
       "      <td>0.0</td>\n",
       "      <td></td>\n",
       "      <td>0.000000</td>\n",
       "      <td></td>\n",
       "      <td>0.00</td>\n",
       "      <td></td>\n",
       "      <td>0.000000</td>\n",
       "      <td></td>\n",
       "      <td>0.00</td>\n",
       "    </tr>\n",
       "    <tr>\n",
       "      <th>569</th>\n",
       "      <td>570</td>\n",
       "      <td>1771.708</td>\n",
       "      <td>1773.958</td>\n",
       "      <td>&lt;b&gt;lo hayan pasado bien.&lt;/b&gt;</td>\n",
       "      <td></td>\n",
       "      <td>0.0</td>\n",
       "      <td></td>\n",
       "      <td>0.0</td>\n",
       "      <td></td>\n",
       "      <td>0.000000</td>\n",
       "      <td></td>\n",
       "      <td>0.00</td>\n",
       "      <td></td>\n",
       "      <td>0.000000</td>\n",
       "      <td></td>\n",
       "      <td>0.00</td>\n",
       "    </tr>\n",
       "  </tbody>\n",
       "</table>\n",
       "<p>312 rows × 16 columns</p>\n",
       "</div>"
      ],
      "text/plain": [
       "    orig_index     start       end  \\\n",
       "2            3   111.375   113.541   \n",
       "37          38   226.500   227.916   \n",
       "38          39   227.958   228.958   \n",
       "50          51   253.875   254.333   \n",
       "62          63   290.916   291.916   \n",
       "..         ...       ...       ...   \n",
       "565        566  1760.833  1762.458   \n",
       "566        567  1763.958  1766.958   \n",
       "567        568  1767.083  1770.083   \n",
       "568        569  1770.708  1771.708   \n",
       "569        570  1771.708  1773.958   \n",
       "\n",
       "                                         transcript  \\\n",
       "2                <b>Te apuesto, eso va a pasar.</b>   \n",
       "37                               <b>Entonces...</b>   \n",
       "38                                   <b>¿Tatán?</b>   \n",
       "50                                     <b>Claro</b>   \n",
       "62                                       <b>Oye</b>   \n",
       "..                                              ...   \n",
       "565                           <b>era sin huevo.</b>   \n",
       "566  <b>Rancagua buenas noches, muchas gracias.</b>   \n",
       "567    <b>Muchas, muchas gracias por estar acá.</b>   \n",
       "568                                   <b>Espero</b>   \n",
       "569                    <b>lo hayan pasado bien.</b>   \n",
       "\n",
       "    deo_0_with_construction_16kHz_fraction_50_enhanced.json  \\\n",
       "2                                                             \n",
       "37                                                            \n",
       "38                                                            \n",
       "50                                                            \n",
       "62                                                            \n",
       "..                                                 ...        \n",
       "565                                                           \n",
       "566                                                           \n",
       "567                                                           \n",
       "568                                                           \n",
       "569                                                           \n",
       "\n",
       "     deo_0_with_construction_16kHz_fraction_50_enhanced.json_score  \\\n",
       "2                                                  0.0               \n",
       "37                                                 0.0               \n",
       "38                                                 0.0               \n",
       "50                                                 0.0               \n",
       "62                                                 0.0               \n",
       "..                                                 ...               \n",
       "565                                                0.0               \n",
       "566                                                0.0               \n",
       "567                                                0.0               \n",
       "568                                                0.0               \n",
       "569                                                0.0               \n",
       "\n",
       "    deo_0_with_construction_16kHz_fraction_50_noisy.json  \\\n",
       "2                                                          \n",
       "37                                                         \n",
       "38                                                         \n",
       "50                                                         \n",
       "62                                                         \n",
       "..                                                 ...     \n",
       "565                                                        \n",
       "566                                                        \n",
       "567                                                        \n",
       "568                                                        \n",
       "569                                                        \n",
       "\n",
       "     deo_0_with_construction_16kHz_fraction_50_noisy.json_score  \\\n",
       "2                                                  0.0            \n",
       "37                                                 0.0            \n",
       "38                                                 0.0            \n",
       "50                                                 0.0            \n",
       "62                                                 0.0            \n",
       "..                                                 ...            \n",
       "565                                                0.0            \n",
       "566                                                0.0            \n",
       "567                                                0.0            \n",
       "568                                                0.0            \n",
       "569                                                0.0            \n",
       "\n",
       "    deo_0_with_crowd_16kHz_fraction_50_enhanced.json  \\\n",
       "2                         puedes todo eso va a pasar   \n",
       "37                                         un cáncer   \n",
       "38                                              Papa   \n",
       "50                                                     \n",
       "62                                               hoy   \n",
       "..                                               ...   \n",
       "565                                                    \n",
       "566                                                    \n",
       "567                                                    \n",
       "568                                                    \n",
       "569                                                    \n",
       "\n",
       "     deo_0_with_crowd_16kHz_fraction_50_enhanced.json_score  \\\n",
       "2                                             0.653846        \n",
       "37                                            0.444444        \n",
       "38                                            0.400000        \n",
       "50                                            0.000000        \n",
       "62                                            0.333333        \n",
       "..                                                 ...        \n",
       "565                                           0.000000        \n",
       "566                                           0.000000        \n",
       "567                                           0.000000        \n",
       "568                                           0.000000        \n",
       "569                                           0.000000        \n",
       "\n",
       "    deo_0_with_crowd_16kHz_fraction_50_noisy.json  \\\n",
       "2                           puedes saber qué va a   \n",
       "37                                                  \n",
       "38                                                  \n",
       "50                                                  \n",
       "62                                                  \n",
       "..                                            ...   \n",
       "565                                                 \n",
       "566                                                 \n",
       "567                                                 \n",
       "568                                                 \n",
       "569                                                 \n",
       "\n",
       "     deo_0_with_crowd_16kHz_fraction_50_noisy.json_score  \\\n",
       "2                                                 0.28     \n",
       "37                                                0.00     \n",
       "38                                                0.00     \n",
       "50                                                0.00     \n",
       "62                                                0.00     \n",
       "..                                                 ...     \n",
       "565                                               0.00     \n",
       "566                                               0.00     \n",
       "567                                               0.00     \n",
       "568                                               0.00     \n",
       "569                                               0.00     \n",
       "\n",
       "    deo_0_with_noise_16kHz_fraction_50_enhanced.json  \\\n",
       "2                          Pues todo esto va a pasar   \n",
       "37                                          entonces   \n",
       "38                                                     \n",
       "50                                                     \n",
       "62                                               hoy   \n",
       "..                                               ...   \n",
       "565                                                    \n",
       "566                                                    \n",
       "567                                                    \n",
       "568                                                    \n",
       "569                                                    \n",
       "\n",
       "     deo_0_with_noise_16kHz_fraction_50_enhanced.json_score  \\\n",
       "2                                             0.680000        \n",
       "37                                            1.000000        \n",
       "38                                            0.000000        \n",
       "50                                            0.000000        \n",
       "62                                            0.333333        \n",
       "..                                                 ...        \n",
       "565                                           0.000000        \n",
       "566                                           0.000000        \n",
       "567                                           0.000000        \n",
       "568                                           0.000000        \n",
       "569                                           0.000000        \n",
       "\n",
       "    deo_0_with_noise_16kHz_fraction_50_noisy.json  \\\n",
       "2                       puedes ver qué va a pasar   \n",
       "37                                                  \n",
       "38                                                  \n",
       "50                                                  \n",
       "62                                                  \n",
       "..                                            ...   \n",
       "565                                                 \n",
       "566                                                 \n",
       "567                                                 \n",
       "568                                                 \n",
       "569                                                 \n",
       "\n",
       "     deo_0_with_noise_16kHz_fraction_50_noisy.json_score  \n",
       "2                                                 0.48    \n",
       "37                                                0.00    \n",
       "38                                                0.00    \n",
       "50                                                0.00    \n",
       "62                                                0.00    \n",
       "..                                                 ...    \n",
       "565                                               0.00    \n",
       "566                                               0.00    \n",
       "567                                               0.00    \n",
       "568                                               0.00    \n",
       "569                                               0.00    \n",
       "\n",
       "[312 rows x 16 columns]"
      ]
     },
     "execution_count": 60,
     "metadata": {},
     "output_type": "execute_result"
    }
   ],
   "source": [
    "real_reference_df.loc[real_reference_df['deo_0_with_construction_16kHz_fraction_50_enhanced.json'] == ''] "
   ]
  },
  {
   "cell_type": "markdown",
   "id": "motivated-account",
   "metadata": {},
   "source": [
    "### Bad metric, negative number when the distance(0) is shorter than distance(1)"
   ]
  },
  {
   "cell_type": "code",
   "execution_count": 57,
   "id": "chubby-organization",
   "metadata": {},
   "outputs": [
    {
     "data": {
      "text/plain": [
       "0.25"
      ]
     },
     "execution_count": 57,
     "metadata": {},
     "output_type": "execute_result"
    }
   ],
   "source": [
    "largo = 0\n",
    "real = neutralize('dejen de webiar')\n",
    "trans = neutralize('Y Pero ya de muy bien, Tontón')\n",
    "if (len(real) >= len(trans)):\n",
    "    largo = len(real)\n",
    "else:\n",
    "    largo = len(trans)\n",
    "\n",
    "1  - lv.distance(real, trans) / largo"
   ]
  },
  {
   "cell_type": "code",
   "execution_count": 26,
   "id": "several-asbestos",
   "metadata": {},
   "outputs": [
    {
     "data": {
      "image/png": "[encoded data removed]",
      "text/plain": [
       "<Figure size 540x180 with 3 Axes>"
      ]
     },
     "metadata": {
      "needs_background": "light"
     },
     "output_type": "display_data"
    }
   ],
   "source": [
    "df_score = pd.DataFrame(lv_scores, columns=['fname', 'score'])\n",
    "\n",
    "names = ['const', 'const', 'crowd', 'crowd', 'white', 'white']\n",
    "hue = ['enhanced', 'noise', 'enhanced', 'noise', 'enhanced', 'noise']\n",
    "\n",
    "tuples = []\n",
    "for index, scores  in enumerate(df_score['score']):\n",
    "    for a_score in scores:\n",
    "        tuples.append((names[index], hue[index],float(a_score)))\n",
    "        \n",
    "df_boxplot = pd.DataFrame(tuples, columns=['source', 'process','score'])\n",
    "\n",
    "# make a plot\n",
    "sns.PairGrid(df_boxplot, y_vars='score', x_vars=['const', 'crowd', 'white'])\n",
    "plt.show()"
   ]
  },
  {
   "cell_type": "code",
   "execution_count": 28,
   "id": "missing-sustainability",
   "metadata": {},
   "outputs": [],
   "source": [
    "df_score.to_csv('./score_df.csv')"
   ]
  },
  {
   "cell_type": "code",
   "execution_count": 22,
   "id": "significant-myrtle",
   "metadata": {},
   "outputs": [
    {
     "data": {
      "text/html": [
       "<div>\n",
       "<style scoped>\n",
       "    .dataframe tbody tr th:only-of-type {\n",
       "        vertical-align: middle;\n",
       "    }\n",
       "\n",
       "    .dataframe tbody tr th {\n",
       "        vertical-align: top;\n",
       "    }\n",
       "\n",
       "    .dataframe thead th {\n",
       "        text-align: right;\n",
       "    }\n",
       "</style>\n",
       "<table border=\"1\" class=\"dataframe\">\n",
       "  <thead>\n",
       "    <tr style=\"text-align: right;\">\n",
       "      <th></th>\n",
       "      <th>fname</th>\n",
       "      <th>score</th>\n",
       "    </tr>\n",
       "  </thead>\n",
       "  <tbody>\n",
       "    <tr>\n",
       "      <th>0</th>\n",
       "      <td>deo_0_with_construction_16kHz_fraction_50_enha...</td>\n",
       "      <td>[0.045454545454545414, 0.11764705882352944, 0....</td>\n",
       "    </tr>\n",
       "    <tr>\n",
       "      <th>1</th>\n",
       "      <td>deo_0_with_construction_16kHz_fraction_50_nois...</td>\n",
       "      <td>[0.045454545454545414, 0.11764705882352944, 0....</td>\n",
       "    </tr>\n",
       "    <tr>\n",
       "      <th>2</th>\n",
       "      <td>deo_0_with_crowd_16kHz_fraction_50_enhanced.json</td>\n",
       "      <td>[0.045454545454545414, 0.11764705882352944, 0....</td>\n",
       "    </tr>\n",
       "    <tr>\n",
       "      <th>3</th>\n",
       "      <td>deo_0_with_crowd_16kHz_fraction_50_noisy.json</td>\n",
       "      <td>[0.045454545454545414, 0.11764705882352944, 0....</td>\n",
       "    </tr>\n",
       "    <tr>\n",
       "      <th>4</th>\n",
       "      <td>deo_0_with_noise_16kHz_fraction_50_enhanced.json</td>\n",
       "      <td>[0.045454545454545414, 0.11764705882352944, 0....</td>\n",
       "    </tr>\n",
       "  </tbody>\n",
       "</table>\n",
       "</div>"
      ],
      "text/plain": [
       "                                               fname  \\\n",
       "0  deo_0_with_construction_16kHz_fraction_50_enha...   \n",
       "1  deo_0_with_construction_16kHz_fraction_50_nois...   \n",
       "2   deo_0_with_crowd_16kHz_fraction_50_enhanced.json   \n",
       "3      deo_0_with_crowd_16kHz_fraction_50_noisy.json   \n",
       "4   deo_0_with_noise_16kHz_fraction_50_enhanced.json   \n",
       "\n",
       "                                               score  \n",
       "0  [0.045454545454545414, 0.11764705882352944, 0....  \n",
       "1  [0.045454545454545414, 0.11764705882352944, 0....  \n",
       "2  [0.045454545454545414, 0.11764705882352944, 0....  \n",
       "3  [0.045454545454545414, 0.11764705882352944, 0....  \n",
       "4  [0.045454545454545414, 0.11764705882352944, 0....  "
      ]
     },
     "execution_count": 22,
     "metadata": {},
     "output_type": "execute_result"
    }
   ],
   "source": [
    "df_score = pd.DataFrame(lv_scores, columns=['fname', 'score']) \n",
    "df_score.head()\n"
   ]
  },
  {
   "cell_type": "code",
   "execution_count": 152,
   "id": "golden-space",
   "metadata": {},
   "outputs": [],
   "source": [
    "video_reference_df['Lev_Test'] = lv_score(video_reference_df['transcript'], other['transcript'])"
   ]
  },
  {
   "cell_type": "code",
   "execution_count": 153,
   "id": "electronic-scanner",
   "metadata": {},
   "outputs": [
    {
     "data": {
      "text/html": [
       "<div>\n",
       "<style scoped>\n",
       "    .dataframe tbody tr th:only-of-type {\n",
       "        vertical-align: middle;\n",
       "    }\n",
       "\n",
       "    .dataframe tbody tr th {\n",
       "        vertical-align: top;\n",
       "    }\n",
       "\n",
       "    .dataframe thead th {\n",
       "        text-align: right;\n",
       "    }\n",
       "</style>\n",
       "<table border=\"1\" class=\"dataframe\">\n",
       "  <thead>\n",
       "    <tr style=\"text-align: right;\">\n",
       "      <th></th>\n",
       "      <th>start</th>\n",
       "      <th>end</th>\n",
       "      <th>transcript</th>\n",
       "      <th>Lev_Test</th>\n",
       "    </tr>\n",
       "  </thead>\n",
       "  <tbody>\n",
       "    <tr>\n",
       "      <th>9</th>\n",
       "      <td>4.33</td>\n",
       "      <td>4.44</td>\n",
       "      <td>de</td>\n",
       "      <td>-0.500000</td>\n",
       "    </tr>\n",
       "    <tr>\n",
       "      <th>10</th>\n",
       "      <td>4.45</td>\n",
       "      <td>4.90</td>\n",
       "      <td>sin</td>\n",
       "      <td>-0.333333</td>\n",
       "    </tr>\n",
       "    <tr>\n",
       "      <th>13</th>\n",
       "      <td>5.49</td>\n",
       "      <td>5.55</td>\n",
       "      <td>de</td>\n",
       "      <td>-0.500000</td>\n",
       "    </tr>\n",
       "    <tr>\n",
       "      <th>14</th>\n",
       "      <td>5.55</td>\n",
       "      <td>5.69</td>\n",
       "      <td>los</td>\n",
       "      <td>-0.666667</td>\n",
       "    </tr>\n",
       "    <tr>\n",
       "      <th>18</th>\n",
       "      <td>6.38</td>\n",
       "      <td>6.44</td>\n",
       "      <td>de</td>\n",
       "      <td>-3.000000</td>\n",
       "    </tr>\n",
       "    <tr>\n",
       "      <th>...</th>\n",
       "      <td>...</td>\n",
       "      <td>...</td>\n",
       "      <td>...</td>\n",
       "      <td>...</td>\n",
       "    </tr>\n",
       "    <tr>\n",
       "      <th>1570</th>\n",
       "      <td>895.00</td>\n",
       "      <td>897.16</td>\n",
       "      <td>co-</td>\n",
       "      <td>-0.333333</td>\n",
       "    </tr>\n",
       "    <tr>\n",
       "      <th>1573</th>\n",
       "      <td>897.50</td>\n",
       "      <td>897.58</td>\n",
       "      <td>me</td>\n",
       "      <td>-2.500000</td>\n",
       "    </tr>\n",
       "    <tr>\n",
       "      <th>1575</th>\n",
       "      <td>897.69</td>\n",
       "      <td>897.72</td>\n",
       "      <td>a</td>\n",
       "      <td>-1.000000</td>\n",
       "    </tr>\n",
       "    <tr>\n",
       "      <th>1578</th>\n",
       "      <td>898.22</td>\n",
       "      <td>898.33</td>\n",
       "      <td>la</td>\n",
       "      <td>-0.500000</td>\n",
       "    </tr>\n",
       "    <tr>\n",
       "      <th>1586</th>\n",
       "      <td>900.23</td>\n",
       "      <td>900.39</td>\n",
       "      <td>con</td>\n",
       "      <td>-0.666667</td>\n",
       "    </tr>\n",
       "  </tbody>\n",
       "</table>\n",
       "<p>567 rows × 4 columns</p>\n",
       "</div>"
      ],
      "text/plain": [
       "       start     end transcript  Lev_Test\n",
       "9       4.33    4.44         de -0.500000\n",
       "10      4.45    4.90        sin -0.333333\n",
       "13      5.49    5.55         de -0.500000\n",
       "14      5.55    5.69        los -0.666667\n",
       "18      6.38    6.44         de -3.000000\n",
       "...      ...     ...        ...       ...\n",
       "1570  895.00  897.16        co- -0.333333\n",
       "1573  897.50  897.58         me -2.500000\n",
       "1575  897.69  897.72          a -1.000000\n",
       "1578  898.22  898.33         la -0.500000\n",
       "1586  900.23  900.39        con -0.666667\n",
       "\n",
       "[567 rows x 4 columns]"
      ]
     },
     "execution_count": 153,
     "metadata": {},
     "output_type": "execute_result"
    }
   ],
   "source": [
    "video_reference_df.loc[video_reference_df['Lev_Test'] < 0]"
   ]
  },
  {
   "cell_type": "markdown",
   "id": "human-solomon",
   "metadata": {},
   "source": [
    "# Troubleshooting different Functions\n",
    "I'll use the next cells for debug"
   ]
  },
  {
   "cell_type": "code",
   "execution_count": 61,
   "id": "weighted-length",
   "metadata": {},
   "outputs": [],
   "source": [
    "video_reference = youtube2df('s3://awstranscribe-tests/levenshteinTests/ytCaptions/Un_show_FALLIDO_-_Mini_Especial_Rancagua_|_Edo_Caroe.txt')\n",
    "video_compare = youtube2df('s3://awstranscribe-tests/levenshteinTests/ytCaptions/Un_show_FALLIDO_-_Mini_Especial_Rancagua___Edo_Caroe_RAW_2.txt')"
   ]
  },
  {
   "cell_type": "code",
   "execution_count": 63,
   "id": "advised-relevance",
   "metadata": {},
   "outputs": [],
   "source": [
    "video_reference['refrence_score'] = lv_score(video_reference['transcript'], video_compare['transcript'])\n",
    "# ipa_tuple = [('real_to_ipa', a_score) for a_score in yt_transcribe['lv_score_yt_to_ipa']]\n",
    "# raw_tuple = [('real_to_raw', a_score) for a_score in yt_transcribe['lv_score_yt_to_raw']]\n",
    "# df =  pd.DataFrame(ipa_tuple + raw_tuple, columns = ['model', 'score'])"
   ]
  },
  {
   "cell_type": "code",
   "execution_count": 66,
   "id": "representative-spread",
   "metadata": {},
   "outputs": [
    {
     "data": {
      "text/plain": [
       "orig_index               inf\n",
       "start             922.154061\n",
       "end               924.004200\n",
       "refrence_score      0.185985\n",
       "dtype: float64"
      ]
     },
     "execution_count": 66,
     "metadata": {},
     "output_type": "execute_result"
    }
   ],
   "source": [
    "video_reference.mean()"
   ]
  }
 ],
 "metadata": {
  "kernelspec": {
   "display_name": "conda_python3",
   "language": "python",
   "name": "conda_python3"
  },
  "language_info": {
   "codemirror_mode": {
    "name": "ipython",
    "version": 3
   },
   "file_extension": ".py",
   "mimetype": "text/x-python",
   "name": "python",
   "nbconvert_exporter": "python",
   "pygments_lexer": "ipython3",
   "version": "3.6.13"
  }
 },
 "nbformat": 4,
 "nbformat_minor": 5
}
