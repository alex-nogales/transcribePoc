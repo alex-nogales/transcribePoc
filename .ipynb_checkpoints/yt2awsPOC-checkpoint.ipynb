{
 "cells": [
  {
   "cell_type": "markdown",
   "id": "exposed-wallace",
   "metadata": {},
   "source": [
    "### Install python modules\n",
    "Install on SageMaker the necesary modules for this notebook to work"
   ]
  },
  {
   "cell_type": "code",
   "execution_count": 1,
   "id": "swiss-boston",
   "metadata": {},
   "outputs": [
    {
     "name": "stdout",
     "output_type": "stream",
     "text": [
      "Requirement already satisfied: pip in /home/ec2-user/anaconda3/envs/python3/lib/python3.6/site-packages (20.3.3)\n",
      "Collecting pip\n",
      "  Using cached pip-21.0.1-py3-none-any.whl (1.5 MB)\n",
      "Installing collected packages: pip\n",
      "  Attempting uninstall: pip\n",
      "    Found existing installation: pip 20.3.3\n",
      "    Uninstalling pip-20.3.3:\n",
      "      Successfully uninstalled pip-20.3.3\n",
      "Successfully installed pip-21.0.1\n",
      "Collecting pytube\n",
      "  Downloading pytube-10.5.1-py3-none-any.whl (41 kB)\n",
      "\u001b[K     |████████████████████████████████| 41 kB 130 kB/s  eta 0:00:01\n",
      "\u001b[?25hRequirement already satisfied: typing-extensions in /home/ec2-user/anaconda3/envs/python3/lib/python3.6/site-packages (from pytube) (3.7.4.3)\n",
      "Installing collected packages: pytube\n",
      "Successfully installed pytube-10.5.1\n",
      "Requirement already satisfied: seaborn in /home/ec2-user/anaconda3/envs/python3/lib/python3.6/site-packages (0.10.0)\n",
      "Requirement already satisfied: numpy>=1.13.3 in /home/ec2-user/anaconda3/envs/python3/lib/python3.6/site-packages (from seaborn) (1.19.5)\n",
      "Requirement already satisfied: scipy>=1.0.1 in /home/ec2-user/anaconda3/envs/python3/lib/python3.6/site-packages (from seaborn) (1.4.1)\n",
      "Requirement already satisfied: matplotlib>=2.1.2 in /home/ec2-user/anaconda3/envs/python3/lib/python3.6/site-packages (from seaborn) (3.1.3)\n",
      "Requirement already satisfied: pandas>=0.22.0 in /home/ec2-user/anaconda3/envs/python3/lib/python3.6/site-packages (from seaborn) (1.0.1)\n",
      "Requirement already satisfied: python-dateutil>=2.1 in /home/ec2-user/anaconda3/envs/python3/lib/python3.6/site-packages (from matplotlib>=2.1.2->seaborn) (2.8.1)\n",
      "Requirement already satisfied: kiwisolver>=1.0.1 in /home/ec2-user/anaconda3/envs/python3/lib/python3.6/site-packages (from matplotlib>=2.1.2->seaborn) (1.1.0)\n",
      "Requirement already satisfied: pyparsing!=2.0.4,!=2.1.2,!=2.1.6,>=2.0.1 in /home/ec2-user/anaconda3/envs/python3/lib/python3.6/site-packages (from matplotlib>=2.1.2->seaborn) (2.4.7)\n",
      "Requirement already satisfied: cycler>=0.10 in /home/ec2-user/anaconda3/envs/python3/lib/python3.6/site-packages (from matplotlib>=2.1.2->seaborn) (0.10.0)\n",
      "Requirement already satisfied: six in /home/ec2-user/anaconda3/envs/python3/lib/python3.6/site-packages (from cycler>=0.10->matplotlib>=2.1.2->seaborn) (1.15.0)\n",
      "Requirement already satisfied: setuptools in /home/ec2-user/anaconda3/envs/python3/lib/python3.6/site-packages (from kiwisolver>=1.0.1->matplotlib>=2.1.2->seaborn) (51.1.2)\n",
      "Requirement already satisfied: pytz>=2017.2 in /home/ec2-user/anaconda3/envs/python3/lib/python3.6/site-packages (from pandas>=0.22.0->seaborn) (2019.3)\n",
      "Collecting smart_open\n",
      "  Downloading smart_open-4.2.0.tar.gz (119 kB)\n",
      "\u001b[K     |████████████████████████████████| 119 kB 16.3 MB/s eta 0:00:01\n",
      "\u001b[?25hBuilding wheels for collected packages: smart-open\n",
      "  Building wheel for smart-open (setup.py) ... \u001b[?25ldone\n",
      "\u001b[?25h  Created wheel for smart-open: filename=smart_open-4.2.0-py3-none-any.whl size=109630 sha256=99bc14ac66069a23871c52d3d1b371624353ff77bf972dc0323fc8bc99d6aec2\n",
      "  Stored in directory: /home/ec2-user/.cache/pip/wheels/05/12/87/d479d6a8f92130cd8b27e331cc433bb28dda9c20e57f0b1ab2\n",
      "Successfully built smart-open\n",
      "Installing collected packages: smart-open\n",
      "Successfully installed smart-open-4.2.0\n"
     ]
    }
   ],
   "source": [
    "!/home/ec2-user/anaconda3/envs/python3/bin/python -m pip install --upgrade pip\n",
    "!pip install pytube\n",
    "!pip install seaborn\n",
    "!pip install smart_open"
   ]
  },
  {
   "cell_type": "markdown",
   "id": "differential-papua",
   "metadata": {},
   "source": [
    "### Import modules"
   ]
  },
  {
   "cell_type": "code",
   "execution_count": 97,
   "id": "internal-mitchell",
   "metadata": {},
   "outputs": [
    {
     "ename": "ImportError",
     "evalue": "cannot import name 'vocabulary_shuffle'",
     "output_type": "error",
     "traceback": [
      "\u001b[0;31m---------------------------------------------------------------------------\u001b[0m",
      "\u001b[0;31mImportError\u001b[0m                               Traceback (most recent call last)",
      "\u001b[0;32m<ipython-input-97-656a7afd9c7a>\u001b[0m in \u001b[0;36m<module>\u001b[0;34m\u001b[0m\n\u001b[1;32m      3\u001b[0m \u001b[0;32mimport\u001b[0m \u001b[0mseaborn\u001b[0m \u001b[0;32mas\u001b[0m \u001b[0msb\u001b[0m\u001b[0;34m\u001b[0m\u001b[0;34m\u001b[0m\u001b[0m\n\u001b[1;32m      4\u001b[0m \u001b[0;32mimport\u001b[0m \u001b[0mrandom\u001b[0m \u001b[0;32mas\u001b[0m \u001b[0mrd\u001b[0m\u001b[0;34m\u001b[0m\u001b[0;34m\u001b[0m\u001b[0m\n\u001b[0;32m----> 5\u001b[0;31m \u001b[0;32mfrom\u001b[0m \u001b[0madaptors\u001b[0m \u001b[0;32mimport\u001b[0m \u001b[0myoutube2df\u001b[0m\u001b[0;34m,\u001b[0m \u001b[0maws2df\u001b[0m\u001b[0;34m,\u001b[0m \u001b[0mupload_yt_file\u001b[0m\u001b[0;34m,\u001b[0m \u001b[0mget_folder_list\u001b[0m\u001b[0;34m,\u001b[0m \u001b[0mvocabulary_shuffle\u001b[0m\u001b[0;34m\u001b[0m\u001b[0;34m\u001b[0m\u001b[0m\n\u001b[0m\u001b[1;32m      6\u001b[0m \u001b[0;32mimport\u001b[0m \u001b[0mlogging\u001b[0m\u001b[0;34m\u001b[0m\u001b[0;34m\u001b[0m\u001b[0m\n\u001b[1;32m      7\u001b[0m \u001b[0;32mfrom\u001b[0m \u001b[0mpytube\u001b[0m \u001b[0;32mimport\u001b[0m \u001b[0mYouTube\u001b[0m\u001b[0;34m\u001b[0m\u001b[0;34m\u001b[0m\u001b[0m\n",
      "\u001b[0;31mImportError\u001b[0m: cannot import name 'vocabulary_shuffle'"
     ]
    }
   ],
   "source": [
    "import pandas as pd\n",
    "import matplotlib.pyplot as plt\n",
    "import seaborn as sb\n",
    "import random as rd\n",
    "from adaptors import youtube2df, aws2df, upload_yt_file, get_folder_list, vocabulary_shuffle\n",
    "import logging\n",
    "from pytube import YouTube\n",
    "import boto3\n",
    "from botocore.exceptions import ClientError\n",
    "import sys, os\n",
    "from urllib.parse import urlparse\n",
    "import re"
   ]
  },
  {
   "cell_type": "markdown",
   "id": "premier-cameroon",
   "metadata": {},
   "source": [
    "Define a YouTube video URL"
   ]
  },
  {
   "cell_type": "code",
   "execution_count": 4,
   "id": "exact-uruguay",
   "metadata": {},
   "outputs": [],
   "source": [
    "url = 'https://youtu.be/eEOhx-u9Z2k'\n",
    "#url = 'https://youtu.be/Mxv9AM397Y8'\n",
    "\n",
    "# Get video object\n",
    "yt = YouTube(url)"
   ]
  },
  {
   "cell_type": "markdown",
   "id": "polyphonic-bradford",
   "metadata": {},
   "source": [
    "### Download videos from Youtube\n",
    "We'll download videos from youtube, save them into an S3 bucket that triggers a transcribe job (with or without IPA vocabulary)"
   ]
  },
  {
   "cell_type": "code",
   "execution_count": 7,
   "id": "ongoing-stage",
   "metadata": {},
   "outputs": [],
   "source": [
    "# Get the tittle and replace spaces with underscore\n",
    "yt_title = yt.title.replace(' ', '_')\n",
    "    \n",
    "# Download the video to tmp folder and save the output name to file_name\n",
    "file_name = yt.streams.first().download(output_path=\"/tmp\" ,filename=yt_title)\n"
   ]
  },
  {
   "cell_type": "code",
   "execution_count": 8,
   "id": "olympic-purse",
   "metadata": {},
   "outputs": [
    {
     "data": {
      "text/plain": [
       "True"
      ]
     },
     "execution_count": 8,
     "metadata": {},
     "output_type": "execute_result"
    }
   ],
   "source": [
    "# Returns True if file was uploaded, else False\n",
    "upload_yt_file(file_name)"
   ]
  },
  {
   "cell_type": "markdown",
   "id": "broadband-chick",
   "metadata": {},
   "source": [
    "### Download captions from the YouTube video\n",
    "From the said YouTube video we'll get the 'a.es' caption if exist "
   ]
  },
  {
   "cell_type": "code",
   "execution_count": 11,
   "id": "instant-diploma",
   "metadata": {},
   "outputs": [
    {
     "name": "stderr",
     "output_type": "stream",
     "text": [
      "/home/ec2-user/anaconda3/envs/python3/lib/python3.6/site-packages/ipykernel/__main__.py:1: DeprecationWarning: Call to deprecated function get_by_language_code (This object can be treated as a dictionary, i.e. captions['en']).\n",
      "  if __name__ == '__main__':\n",
      "/home/ec2-user/anaconda3/envs/python3/lib/python3.6/site-packages/ipykernel/__main__.py:3: DeprecationWarning: Call to deprecated function get_by_language_code (This object can be treated as a dictionary, i.e. captions['en']).\n",
      "  app.launch_new_instance()\n"
     ]
    }
   ],
   "source": [
    "if yt.captions.get_by_language_code('es-419'):\n",
    "    code = 'es-419'\n",
    "    caption = yt.captions.get_by_language_code('es-419')\n",
    "    yt_caption = caption.generate_srt_captions()\n",
    "    yt_title = yt.title.replace(' ', '_')\n",
    "    with open(f'/tmp/{yt_title}_{code}.txt', 'a') as f:\n",
    "        f.write(yt_caption)\n",
    "else:\n",
    "    print('This caption doesn\\'t exist')\n",
    "    print('You can use one of the following captions: \\n', yt.captions.all())"
   ]
  },
  {
   "cell_type": "markdown",
   "id": "aware-davis",
   "metadata": {},
   "source": [
    "### Upload the caption to S3"
   ]
  },
  {
   "cell_type": "code",
   "execution_count": 12,
   "id": "buried-value",
   "metadata": {},
   "outputs": [
    {
     "data": {
      "text/plain": [
       "True"
      ]
     },
     "execution_count": 12,
     "metadata": {},
     "output_type": "execute_result"
    }
   ],
   "source": [
    "upload_yt_file(f'/tmp/{yt_title}_{code}.txt', object_name=f'levenshteinTests/ytCaptions/{yt_title}.txt')"
   ]
  },
  {
   "cell_type": "markdown",
   "id": "injured-british",
   "metadata": {},
   "source": [
    "# Test and compare Data"
   ]
  },
  {
   "cell_type": "code",
   "execution_count": 6,
   "id": "rising-vienna",
   "metadata": {},
   "outputs": [
    {
     "data": {
      "text/html": [
       "<div>\n",
       "<style scoped>\n",
       "    .dataframe tbody tr th:only-of-type {\n",
       "        vertical-align: middle;\n",
       "    }\n",
       "\n",
       "    .dataframe tbody tr th {\n",
       "        vertical-align: top;\n",
       "    }\n",
       "\n",
       "    .dataframe thead th {\n",
       "        text-align: right;\n",
       "    }\n",
       "</style>\n",
       "<table border=\"1\" class=\"dataframe\">\n",
       "  <thead>\n",
       "    <tr style=\"text-align: right;\">\n",
       "      <th></th>\n",
       "      <th>start</th>\n",
       "      <th>end</th>\n",
       "      <th>transcript</th>\n",
       "    </tr>\n",
       "  </thead>\n",
       "  <tbody>\n",
       "    <tr>\n",
       "      <th>0</th>\n",
       "      <td>0.04</td>\n",
       "      <td>0.51</td>\n",
       "      <td>La</td>\n",
       "    </tr>\n",
       "    <tr>\n",
       "      <th>1</th>\n",
       "      <td>0.51</td>\n",
       "      <td>1.03</td>\n",
       "      <td>Fallida</td>\n",
       "    </tr>\n",
       "    <tr>\n",
       "      <th>2</th>\n",
       "      <td>1.03</td>\n",
       "      <td>1.73</td>\n",
       "      <td>actuación</td>\n",
       "    </tr>\n",
       "    <tr>\n",
       "      <th>3</th>\n",
       "      <td>1.74</td>\n",
       "      <td>1.92</td>\n",
       "      <td>en</td>\n",
       "    </tr>\n",
       "    <tr>\n",
       "      <th>4</th>\n",
       "      <td>1.92</td>\n",
       "      <td>3.08</td>\n",
       "      <td>Rancagua</td>\n",
       "    </tr>\n",
       "  </tbody>\n",
       "</table>\n",
       "</div>"
      ],
      "text/plain": [
       "  start   end transcript\n",
       "0  0.04  0.51         La\n",
       "1  0.51  1.03    Fallida\n",
       "2  1.03  1.73  actuación\n",
       "3  1.74  1.92         en\n",
       "4  1.92  3.08   Rancagua"
      ]
     },
     "execution_count": 6,
     "metadata": {},
     "output_type": "execute_result"
    }
   ],
   "source": [
    "aws_transcribe = aws2df('s3://awstranscribe-tests/levenshteinTests/RAW/utubeVideos/Un_show_FALLIDO_-_Mini_Especial_Rancagua__Edo_Caroe.json')\n",
    "aws_transcribe.head()"
   ]
  },
  {
   "cell_type": "code",
   "execution_count": 5,
   "id": "stretch-melissa",
   "metadata": {},
   "outputs": [
    {
     "data": {
      "text/html": [
       "<div>\n",
       "<style scoped>\n",
       "    .dataframe tbody tr th:only-of-type {\n",
       "        vertical-align: middle;\n",
       "    }\n",
       "\n",
       "    .dataframe tbody tr th {\n",
       "        vertical-align: top;\n",
       "    }\n",
       "\n",
       "    .dataframe thead th {\n",
       "        text-align: right;\n",
       "    }\n",
       "</style>\n",
       "<table border=\"1\" class=\"dataframe\">\n",
       "  <thead>\n",
       "    <tr style=\"text-align: right;\">\n",
       "      <th></th>\n",
       "      <th>orig_index</th>\n",
       "      <th>start</th>\n",
       "      <th>end</th>\n",
       "      <th>transcript</th>\n",
       "    </tr>\n",
       "  </thead>\n",
       "  <tbody>\n",
       "    <tr>\n",
       "      <th>0</th>\n",
       "      <td>1</td>\n",
       "      <td>0.00</td>\n",
       "      <td>5.43</td>\n",
       "      <td>la fallida actuación en rancagua 1</td>\n",
       "    </tr>\n",
       "    <tr>\n",
       "      <th>1</th>\n",
       "      <td>2</td>\n",
       "      <td>3.27</td>\n",
       "      <td>6.87</td>\n",
       "      <td>problema de este lugar web sin duda uno</td>\n",
       "    </tr>\n",
       "    <tr>\n",
       "      <th>2</th>\n",
       "      <td>3</td>\n",
       "      <td>5.43</td>\n",
       "      <td>9.09</td>\n",
       "      <td>de los shows más raros de la gira moto</td>\n",
       "    </tr>\n",
       "    <tr>\n",
       "      <th>3</th>\n",
       "      <td>4</td>\n",
       "      <td>6.87</td>\n",
       "      <td>15.99</td>\n",
       "      <td>al sur y probablemente uno de los</td>\n",
       "    </tr>\n",
       "    <tr>\n",
       "      <th>4</th>\n",
       "      <td>5</td>\n",
       "      <td>9.09</td>\n",
       "      <td>18.15</td>\n",
       "      <td>mejores pero bueno los shows de la gira</td>\n",
       "    </tr>\n",
       "  </tbody>\n",
       "</table>\n",
       "</div>"
      ],
      "text/plain": [
       "  orig_index  start    end                               transcript\n",
       "0          1   0.00   5.43       la fallida actuación en rancagua 1\n",
       "1          2   3.27   6.87  problema de este lugar web sin duda uno\n",
       "2          3   5.43   9.09   de los shows más raros de la gira moto\n",
       "3          4   6.87  15.99        al sur y probablemente uno de los\n",
       "4          5   9.09  18.15  mejores pero bueno los shows de la gira"
      ]
     },
     "execution_count": 5,
     "metadata": {},
     "output_type": "execute_result"
    }
   ],
   "source": [
    "yt_transcribe = youtube2df('s3://awstranscribe-tests/levenshteinTests/ytCaptions/Un_show_FALLIDO_-_Mini_Especial_Rancagua_|_Edo_Caroe.txt')\n",
    "yt_transcribe.head()"
   ]
  },
  {
   "cell_type": "markdown",
   "id": "instrumental-chapter",
   "metadata": {},
   "source": [
    "# IPA Shuffle Dictionary\n",
    "From our universe of 124 words we'll randomly select N number of words and create a new dictionary: IPA_Shuffle"
   ]
  },
  {
   "cell_type": "markdown",
   "id": "psychological-template",
   "metadata": {},
   "source": [
    "### Create Custom Vocabulary"
   ]
  },
  {
   "cell_type": "code",
   "execution_count": 75,
   "id": "swedish-reunion",
   "metadata": {},
   "outputs": [],
   "source": [
    "client = boto3.client('transcribe')\n",
    "response = client.create_vocabulary(\n",
    "    VocabularyName='IPA_Shuffle',\n",
    "    LanguageCode='es-ES',\n",
    "    VocabularyFileUri='s3://awstranscribe-tests/customVocabIPA/IPA_Shuffle.txt'\n",
    ")"
   ]
  },
  {
   "cell_type": "markdown",
   "id": "entitled-league",
   "metadata": {},
   "source": [
    "### Update Custom Vocabulary"
   ]
  },
  {
   "cell_type": "code",
   "execution_count": null,
   "id": "proof-defendant",
   "metadata": {},
   "outputs": [],
   "source": [
    "client = boto3.client('transcribe')\n",
    "response = client.update_vocabulary(\n",
    "    VocabularyName='IPA_Shuffle',\n",
    "    LanguageCode='es-ES',\n",
    "    VocabularyFileUri='s3://awstranscribe-tests/customVocabIPA/IPA_Shuffle.txt'\n",
    ")"
   ]
  },
  {
   "cell_type": "markdown",
   "id": "domestic-sensitivity",
   "metadata": {},
   "source": [
    "### Read random line from file\n",
    "The file is on an AWS S3 Bucket"
   ]
  },
  {
   "cell_type": "code",
   "execution_count": 45,
   "id": "restricted-stroke",
   "metadata": {},
   "outputs": [],
   "source": [
    "filepath = 's3://awstranscribe-tests/customVocabIPA/big_ass_dictionary.txt'\n",
    "fpath = urlparse(filepath)\n",
    "bucket = fpath.netloc\n",
    "key = fpath.path.lstrip('/')\n",
    "s3 = boto3.resource('s3')\n",
    "obj = s3.Object(bucket, key)\n",
    "file = obj.get()['Body'].read().decode('utf8')\n",
    "\n",
    "file = file.splitlines()\n",
    "line = rd.choice(file)"
   ]
  },
  {
   "cell_type": "markdown",
   "id": "norman-trick",
   "metadata": {},
   "source": [
    "### Create random file "
   ]
  },
  {
   "cell_type": "code",
   "execution_count": 71,
   "id": "aware-translation",
   "metadata": {},
   "outputs": [
    {
     "name": "stdout",
     "output_type": "stream",
     "text": [
      "ni\tn i\t\tni\n",
      "asustadizo\ta s u s t a d i s o\t\tasustadizo\n",
      "sobrecalienta\ts o b ɾ e k a l j e n t a\t\tsobrecalienta\n",
      "en\te n\t\ten\n",
      "walde\tw a l d e\t\tWalde\n",
      "concha-de-su-madre\tk o ɲ ʧ a d e s u m a d r e\t\tconcha de su madre\n",
      "pena\tp e n a\t\tpena\n",
      "fallar\tf a l l a ɾ\t\tfallar\n",
      "culia\tk u l i a\t\tculia\n",
      "llevarla\ti e v a r l a\t\tllevarla\n"
     ]
    }
   ],
   "source": [
    "n = 10\n",
    "\n",
    "for i in range(n):\n",
    "    print(rd.choice(file))\n",
    "    \n",
    "with open('/tmp/IPA_Shuffle.txt', 'w') as f:    \n",
    "    f.write(file[0])\n",
    "    f.write(\"\\n\")\n",
    "    for i in range(n):\n",
    "        f.write(rd.choice(file))\n",
    "        f.write(\"\\n\")"
   ]
  },
  {
   "cell_type": "markdown",
   "id": "increased-control",
   "metadata": {},
   "source": [
    "### Upload to S3"
   ]
  },
  {
   "cell_type": "code",
   "execution_count": 74,
   "id": "surface-atlanta",
   "metadata": {},
   "outputs": [
    {
     "data": {
      "text/plain": [
       "True"
      ]
     },
     "execution_count": 74,
     "metadata": {},
     "output_type": "execute_result"
    }
   ],
   "source": [
    "upload_yt_file('/tmp/IPA_Shuffle.txt', object_name='customVocabIPA/IPA_Shuffle.txt')"
   ]
  },
  {
   "cell_type": "markdown",
   "id": "burning-slovakia",
   "metadata": {},
   "source": [
    "### Validate if IPA_Shuffle exist"
   ]
  },
  {
   "cell_type": "code",
   "execution_count": 89,
   "id": "communist-sunday",
   "metadata": {},
   "outputs": [
    {
     "name": "stdout",
     "output_type": "stream",
     "text": [
      "{'Status': 'READY', 'Vocabularies': [{'VocabularyName': 'IPA_Shuffle', 'LanguageCode': 'es-ES', 'LastModifiedTime': datetime.datetime(2021, 3, 2, 18, 34, 13, 349000, tzinfo=tzlocal()), 'VocabularyState': 'READY'}, {'VocabularyName': 'SPA-IPA', 'LanguageCode': 'es-ES', 'LastModifiedTime': datetime.datetime(2021, 2, 9, 18, 40, 6, 409000, tzinfo=tzlocal()), 'VocabularyState': 'READY'}], 'ResponseMetadata': {'RequestId': '8631df3d-ba45-4474-ba51-44535bc21485', 'HTTPStatusCode': 200, 'HTTPHeaders': {'content-type': 'application/x-amz-json-1.1', 'date': 'Tue, 02 Mar 2021 18:39:30 GMT', 'x-amzn-requestid': '8631df3d-ba45-4474-ba51-44535bc21485', 'content-length': '267', 'connection': 'keep-alive'}, 'RetryAttempts': 0}}\n"
     ]
    }
   ],
   "source": [
    "response = client.list_vocabularies(\n",
    "    StateEquals='READY',\n",
    "    NameContains='IPA'\n",
    ")\n",
    "\n",
    "if response['Vocabularies']:\n",
    "    print(response)"
   ]
  },
  {
   "cell_type": "markdown",
   "id": "damaged-maximum",
   "metadata": {},
   "source": [
    "### Wrap everything up into a function"
   ]
  },
  {
   "cell_type": "code",
   "execution_count": 95,
   "id": "contained-seven",
   "metadata": {},
   "outputs": [],
   "source": [
    "def vocabulary_shuffle(vocab_name='IPA_Shuffle', words=10):\n",
    "    ''' Create a random vocabulary of 'words' number of words from big_ass_dictionary.txt\n",
    "    \n",
    "    :param vocab_name: Vocabulary Name, defaults to IPA_Shuffle\n",
    "    :param words: Number of words from big_ass_dictionary\n",
    "    '''\n",
    "    # Declare transcribe client\n",
    "    client = boto3.client('transcribe')\n",
    "    \n",
    "    # Lists vocabularies if vocab_name exists\n",
    "    response = client.list_vocabularies(\n",
    "        StateEquals='READY',\n",
    "        NameContains=vocab_name\n",
    "        )\n",
    "    # Create a random vocabulary from big_ass_dictionary.txt\n",
    "    filepath = 's3://awstranscribe-tests/customVocabIPA/big_ass_dictionary.txt'\n",
    "    fpath = urlparse(filepath)\n",
    "    bucket = fpath.netloc\n",
    "    key = fpath.path.lstrip('/')\n",
    "    s3 = boto3.resource('s3')\n",
    "    obj = s3.Object(bucket, key)\n",
    "    file = obj.get()['Body'].read().decode('utf8')\n",
    "\n",
    "    file = file.splitlines()\n",
    "\n",
    "    n = words\n",
    "    with open(f'/tmp/{vocab_name}.txt', 'w') as f:    \n",
    "        f.write(file[0])\n",
    "        f.write(\"\\n\")\n",
    "        for i in range(n):\n",
    "            f.write(rd.choice(file))\n",
    "            f.write(\"\\n\")\n",
    "        \n",
    "    # Upload file to S3\n",
    "    upload_yt_file(f'/tmp/{vocab_name}.txt', object_name=f'customVocabIPA/{vocab_name}.txt')\n",
    "\n",
    "    # If vocabulary exists update the vocab, else create a new one\n",
    "    if response['Vocabularies']:\n",
    "        vocab = client.update_vocabulary(\n",
    "            VocabularyName=vocab_name,\n",
    "            LanguageCode='es-ES',\n",
    "            VocabularyFileUri=f's3://awstranscribe-tests/customVocabIPA/{vocab_name}.txt'\n",
    "        )\n",
    "        return vocab\n",
    "    else:\n",
    "        vocab = client.create_vocabulary(\n",
    "            VocabularyName=vocab_name,\n",
    "            LanguageCode='es-ES',\n",
    "            VocabularyFileUri=f's3://awstranscribe-tests/customVocabIPA/{vocab_name}.txt'\n",
    "        )\n",
    "        return vocab"
   ]
  },
  {
   "cell_type": "code",
   "execution_count": 96,
   "id": "advance-delight",
   "metadata": {},
   "outputs": [
    {
     "data": {
      "text/plain": [
       "{'VocabularyName': 'IPA_Shuffle',\n",
       " 'LanguageCode': 'es-ES',\n",
       " 'VocabularyState': 'PENDING',\n",
       " 'ResponseMetadata': {'RequestId': 'a771dec5-3530-470e-b7b0-1465f71ee1bd',\n",
       "  'HTTPStatusCode': 200,\n",
       "  'HTTPHeaders': {'content-type': 'application/x-amz-json-1.1',\n",
       "   'date': 'Tue, 02 Mar 2021 18:53:39 GMT',\n",
       "   'x-amzn-requestid': 'a771dec5-3530-470e-b7b0-1465f71ee1bd',\n",
       "   'content-length': '83',\n",
       "   'connection': 'keep-alive'},\n",
       "  'RetryAttempts': 0}}"
      ]
     },
     "execution_count": 96,
     "metadata": {},
     "output_type": "execute_result"
    }
   ],
   "source": [
    "vocabulary_shuffle()"
   ]
  },
  {
   "cell_type": "markdown",
   "id": "configured-definition",
   "metadata": {},
   "source": [
    "# Troubleshooting different Functions\n",
    "I'll use the next cells for debug"
   ]
  }
 ],
 "metadata": {
  "kernelspec": {
   "display_name": "conda_python3",
   "language": "python",
   "name": "conda_python3"
  },
  "language_info": {
   "codemirror_mode": {
    "name": "ipython",
    "version": 3
   },
   "file_extension": ".py",
   "mimetype": "text/x-python",
   "name": "python",
   "nbconvert_exporter": "python",
   "pygments_lexer": "ipython3",
   "version": "3.6.10"
  }
 },
 "nbformat": 4,
 "nbformat_minor": 5
}
